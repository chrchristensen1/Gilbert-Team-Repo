{
 "cells": [
  {
   "cell_type": "code",
   "execution_count": 2,
   "metadata": {},
   "outputs": [],
   "source": [
    "# imports\n",
    "import pandas as pd\n",
    "import numpy as np\n",
    "import matplotlib.pyplot as plt\n",
    "import seaborn as sns\n",
    "%matplotlib inline"
   ]
  },
  {
   "cell_type": "code",
   "execution_count": 3,
   "metadata": {},
   "outputs": [],
   "source": [
    "#file locations\n",
    "directors_file = \"files/imbd_files/directors.csv\"\n",
    "known_for_file= \"files/imbd_files/known_for.csv\"\n",
    "movie_akas_file = \"files/imbd_files/movie_akas.csv\"\n",
    "movie_basics_file = \"files/imbd_files/movie_basics.csv\"\n",
    "movie_ratings_file= \"files/imbd_files/movie_ratings.csv\"\n",
    "persons_file = \"files/imbd_files/persons.csv\"\n",
    "principals_file= \"files/imbd_files/principals.csv\"\n",
    "writers_file = \"files/imbd_files/writers.csv\"\n",
    "\n",
    "# read files into dataframes\n",
    "directors = pd.read_csv(directors_file)\n",
    "known_for = pd.read_csv(known_for_file)\n",
    "movie_akas = pd.read_csv(movie_akas_file)\n",
    "movie_basics = pd.read_csv(movie_basics_file)\n",
    "movie_ratings = pd.read_csv(movie_ratings_file)\n",
    "persons = pd.read_csv(persons_file)\n",
    "principals = pd.read_csv(principals_file)\n",
    "writers = pd.read_csv(writers_file)\n",
    "\n",
    "# list of tables for reference\n",
    "movie_df_list = ['directors', 'known_for', 'movie_akas', 'movie_basics', 'movie_ratings', 'persons', 'principals', 'writers']"
   ]
  },
  {
   "cell_type": "code",
   "execution_count": 4,
   "metadata": {},
   "outputs": [
    {
     "data": {
      "text/plain": [
       "['directors',\n",
       " 'known_for',\n",
       " 'movie_akas',\n",
       " 'movie_basics',\n",
       " 'movie_ratings',\n",
       " 'persons',\n",
       " 'principals',\n",
       " 'writers']"
      ]
     },
     "execution_count": 4,
     "metadata": {},
     "output_type": "execute_result"
    }
   ],
   "source": [
    "movie_df_list"
   ]
  },
  {
   "cell_type": "code",
   "execution_count": 5,
   "metadata": {},
   "outputs": [],
   "source": [
    "# merge movie ratings with movie basics\n",
    "movie_info = pd.merge(movie_basics, movie_ratings, how=\"inner\", on='movie_id')"
   ]
  },
  {
   "cell_type": "code",
   "execution_count": 6,
   "metadata": {},
   "outputs": [
    {
     "data": {
      "text/html": [
       "<div>\n",
       "<style scoped>\n",
       "    .dataframe tbody tr th:only-of-type {\n",
       "        vertical-align: middle;\n",
       "    }\n",
       "\n",
       "    .dataframe tbody tr th {\n",
       "        vertical-align: top;\n",
       "    }\n",
       "\n",
       "    .dataframe thead th {\n",
       "        text-align: right;\n",
       "    }\n",
       "</style>\n",
       "<table border=\"1\" class=\"dataframe\">\n",
       "  <thead>\n",
       "    <tr style=\"text-align: right;\">\n",
       "      <th></th>\n",
       "      <th>movie_id</th>\n",
       "      <th>primary_title</th>\n",
       "      <th>original_title</th>\n",
       "      <th>start_year</th>\n",
       "      <th>runtime_minutes</th>\n",
       "      <th>genres</th>\n",
       "      <th>averagerating</th>\n",
       "      <th>numvotes</th>\n",
       "    </tr>\n",
       "  </thead>\n",
       "  <tbody>\n",
       "    <tr>\n",
       "      <th>0</th>\n",
       "      <td>tt0063540</td>\n",
       "      <td>Sunghursh</td>\n",
       "      <td>Sunghursh</td>\n",
       "      <td>2013</td>\n",
       "      <td>175.0</td>\n",
       "      <td>Action,Crime,Drama</td>\n",
       "      <td>7.0</td>\n",
       "      <td>77</td>\n",
       "    </tr>\n",
       "    <tr>\n",
       "      <th>1</th>\n",
       "      <td>tt0066787</td>\n",
       "      <td>One Day Before the Rainy Season</td>\n",
       "      <td>Ashad Ka Ek Din</td>\n",
       "      <td>2019</td>\n",
       "      <td>114.0</td>\n",
       "      <td>Biography,Drama</td>\n",
       "      <td>7.2</td>\n",
       "      <td>43</td>\n",
       "    </tr>\n",
       "    <tr>\n",
       "      <th>2</th>\n",
       "      <td>tt0069049</td>\n",
       "      <td>The Other Side of the Wind</td>\n",
       "      <td>The Other Side of the Wind</td>\n",
       "      <td>2018</td>\n",
       "      <td>122.0</td>\n",
       "      <td>Drama</td>\n",
       "      <td>6.9</td>\n",
       "      <td>4517</td>\n",
       "    </tr>\n",
       "    <tr>\n",
       "      <th>3</th>\n",
       "      <td>tt0069204</td>\n",
       "      <td>Sabse Bada Sukh</td>\n",
       "      <td>Sabse Bada Sukh</td>\n",
       "      <td>2018</td>\n",
       "      <td>NaN</td>\n",
       "      <td>Comedy,Drama</td>\n",
       "      <td>6.1</td>\n",
       "      <td>13</td>\n",
       "    </tr>\n",
       "    <tr>\n",
       "      <th>4</th>\n",
       "      <td>tt0100275</td>\n",
       "      <td>The Wandering Soap Opera</td>\n",
       "      <td>La Telenovela Errante</td>\n",
       "      <td>2017</td>\n",
       "      <td>80.0</td>\n",
       "      <td>Comedy,Drama,Fantasy</td>\n",
       "      <td>6.5</td>\n",
       "      <td>119</td>\n",
       "    </tr>\n",
       "  </tbody>\n",
       "</table>\n",
       "</div>"
      ],
      "text/plain": [
       "    movie_id                    primary_title              original_title  \\\n",
       "0  tt0063540                        Sunghursh                   Sunghursh   \n",
       "1  tt0066787  One Day Before the Rainy Season             Ashad Ka Ek Din   \n",
       "2  tt0069049       The Other Side of the Wind  The Other Side of the Wind   \n",
       "3  tt0069204                  Sabse Bada Sukh             Sabse Bada Sukh   \n",
       "4  tt0100275         The Wandering Soap Opera       La Telenovela Errante   \n",
       "\n",
       "   start_year  runtime_minutes                genres  averagerating  numvotes  \n",
       "0        2013            175.0    Action,Crime,Drama            7.0        77  \n",
       "1        2019            114.0       Biography,Drama            7.2        43  \n",
       "2        2018            122.0                 Drama            6.9      4517  \n",
       "3        2018              NaN          Comedy,Drama            6.1        13  \n",
       "4        2017             80.0  Comedy,Drama,Fantasy            6.5       119  "
      ]
     },
     "execution_count": 6,
     "metadata": {},
     "output_type": "execute_result"
    }
   ],
   "source": [
    "movie_info.head()"
   ]
  },
  {
   "cell_type": "code",
   "execution_count": 7,
   "metadata": {
    "scrolled": true
   },
   "outputs": [
    {
     "name": "stdout",
     "output_type": "stream",
     "text": [
      "<class 'pandas.core.frame.DataFrame'>\n",
      "RangeIndex: 100 entries, 0 to 99\n",
      "Data columns (total 8 columns):\n",
      " #   Column           Non-Null Count  Dtype  \n",
      "---  ------           --------------  -----  \n",
      " 0   movie_id         100 non-null    object \n",
      " 1   primary_title    100 non-null    object \n",
      " 2   original_title   100 non-null    object \n",
      " 3   start_year       100 non-null    int64  \n",
      " 4   runtime_minutes  100 non-null    float64\n",
      " 5   genres           100 non-null    object \n",
      " 6   avg_rating       100 non-null    float64\n",
      " 7   num_votes        100 non-null    int64  \n",
      "dtypes: float64(2), int64(2), object(4)\n",
      "memory usage: 6.4+ KB\n"
     ]
    }
   ],
   "source": [
    "# movies sort by most votes and avereage rating\n",
    "top_movies = movie_info.sort_values(by=['numvotes', 'averagerating'], ascending=False)\n",
    "# top 100 movies selected\n",
    "top_100_movies = top_movies.iloc[:100]\n",
    "# top 100 movies sorted specifically by movie rating\n",
    "top_100_movies = top_100_movies.sort_values(by='averagerating', ascending=False)\n",
    "#index reseted for top 100 movies\n",
    "top_100_movies = top_100_movies.reset_index().drop(columns='index')\n",
    "# select columns renamed for consistency among columns\n",
    "top_100_movies = top_100_movies.rename(columns={'numvotes': 'num_votes', 'averagerating': 'avg_rating'})\n",
    "top_100_movies.info()"
   ]
  },
  {
   "cell_type": "code",
   "execution_count": 8,
   "metadata": {
    "scrolled": true
   },
   "outputs": [
    {
     "data": {
      "image/png": "[encoded data removed]",
      "text/plain": [
       "<Figure size 1440x216 with 1 Axes>"
      ]
     },
     "metadata": {
      "needs_background": "light"
     },
     "output_type": "display_data"
    }
   ],
   "source": [
    "# bar plot for average rating of top 100 movies \n",
    "plt.figure(figsize = (20,3))\n",
    "plt.xticks(rotation = 90)\n",
    "sns.barplot(x=top_100_movies.primary_title, y=top_100_movies.avg_rating);"
   ]
  },
  {
   "cell_type": "code",
   "execution_count": 9,
   "metadata": {},
   "outputs": [
    {
     "data": {
      "text/html": [
       "<div>\n",
       "<style scoped>\n",
       "    .dataframe tbody tr th:only-of-type {\n",
       "        vertical-align: middle;\n",
       "    }\n",
       "\n",
       "    .dataframe tbody tr th {\n",
       "        vertical-align: top;\n",
       "    }\n",
       "\n",
       "    .dataframe thead th {\n",
       "        text-align: right;\n",
       "    }\n",
       "</style>\n",
       "<table border=\"1\" class=\"dataframe\">\n",
       "  <thead>\n",
       "    <tr style=\"text-align: right;\">\n",
       "      <th></th>\n",
       "      <th>movie_id</th>\n",
       "      <th>primary_title</th>\n",
       "      <th>avg_rating</th>\n",
       "      <th>num_votes</th>\n",
       "      <th>person_id</th>\n",
       "      <th>primary_name</th>\n",
       "    </tr>\n",
       "  </thead>\n",
       "  <tbody>\n",
       "    <tr>\n",
       "      <th>0</th>\n",
       "      <td>tt1375666</td>\n",
       "      <td>Inception</td>\n",
       "      <td>8.8</td>\n",
       "      <td>1841066</td>\n",
       "      <td>nm0634240</td>\n",
       "      <td>Christopher Nolan</td>\n",
       "    </tr>\n",
       "    <tr>\n",
       "      <th>1</th>\n",
       "      <td>tt0816692</td>\n",
       "      <td>Interstellar</td>\n",
       "      <td>8.6</td>\n",
       "      <td>1299334</td>\n",
       "      <td>nm0634240</td>\n",
       "      <td>Christopher Nolan</td>\n",
       "    </tr>\n",
       "    <tr>\n",
       "      <th>2</th>\n",
       "      <td>tt0816692</td>\n",
       "      <td>Interstellar</td>\n",
       "      <td>8.6</td>\n",
       "      <td>1299334</td>\n",
       "      <td>nm0634240</td>\n",
       "      <td>Christopher Nolan</td>\n",
       "    </tr>\n",
       "    <tr>\n",
       "      <th>3</th>\n",
       "      <td>tt1345836</td>\n",
       "      <td>The Dark Knight Rises</td>\n",
       "      <td>8.4</td>\n",
       "      <td>1387769</td>\n",
       "      <td>nm0634240</td>\n",
       "      <td>Christopher Nolan</td>\n",
       "    </tr>\n",
       "    <tr>\n",
       "      <th>4</th>\n",
       "      <td>tt1345836</td>\n",
       "      <td>The Dark Knight Rises</td>\n",
       "      <td>8.4</td>\n",
       "      <td>1387769</td>\n",
       "      <td>nm0634240</td>\n",
       "      <td>Christopher Nolan</td>\n",
       "    </tr>\n",
       "  </tbody>\n",
       "</table>\n",
       "</div>"
      ],
      "text/plain": [
       "    movie_id          primary_title  avg_rating  num_votes  person_id  \\\n",
       "0  tt1375666              Inception         8.8    1841066  nm0634240   \n",
       "1  tt0816692           Interstellar         8.6    1299334  nm0634240   \n",
       "2  tt0816692           Interstellar         8.6    1299334  nm0634240   \n",
       "3  tt1345836  The Dark Knight Rises         8.4    1387769  nm0634240   \n",
       "4  tt1345836  The Dark Knight Rises         8.4    1387769  nm0634240   \n",
       "\n",
       "        primary_name  \n",
       "0  Christopher Nolan  \n",
       "1  Christopher Nolan  \n",
       "2  Christopher Nolan  \n",
       "3  Christopher Nolan  \n",
       "4  Christopher Nolan  "
      ]
     },
     "execution_count": 9,
     "metadata": {},
     "output_type": "execute_result"
    }
   ],
   "source": [
    "# merge movie directors with top 100 movies\n",
    "top_movie_dir = pd.merge(top_100_movies, directors, how=\"inner\", on='movie_id')\n",
    "# merge persons with top movie directors to get director names\n",
    "top_movie_dir = pd.merge(top_movie_dir, persons, how=\"inner\", on='person_id')\n",
    "# drop irrelevant columns for readibility\n",
    "top_movie_dir = top_movie_dir.drop(columns=['primary_profession', 'death_year', 'birth_year', 'genres', 'runtime_minutes', 'start_year', 'original_title'])\n",
    "top_movie_dir.head()"
   ]
  },
  {
   "cell_type": "code",
   "execution_count": 10,
   "metadata": {},
   "outputs": [
    {
     "data": {
      "text/plain": [
       "Anthony Russo     30\n",
       "Joe Russo         30\n",
       "James Gunn        24\n",
       "Matthew Vaughn    16\n",
       "Peter Jackson     15\n",
       "Name: primary_name, dtype: int64"
      ]
     },
     "execution_count": 10,
     "metadata": {},
     "output_type": "execute_result"
    }
   ],
   "source": [
    "# count of directors in top 100 movies\n",
    "top_directors = top_movie_dir.primary_name.value_counts()\n",
    "top_directors.head()"
   ]
  },
  {
   "cell_type": "code",
   "execution_count": 11,
   "metadata": {
    "scrolled": true
   },
   "outputs": [
    {
     "data": {
      "image/png": "[encoded data removed]",
      "text/plain": [
       "<Figure size 576x288 with 1 Axes>"
      ]
     },
     "metadata": {
      "needs_background": "light"
     },
     "output_type": "display_data"
    }
   ],
   "source": [
    "# bar plot of 20 top directors based on count in top 100 movies\n",
    "top_directors.head(20).plot(kind='bar', figsize=(8, 4));"
   ]
  },
  {
   "cell_type": "code",
   "execution_count": 13,
   "metadata": {},
   "outputs": [
    {
     "data": {
      "text/html": [
       "<div>\n",
       "<style scoped>\n",
       "    .dataframe tbody tr th:only-of-type {\n",
       "        vertical-align: middle;\n",
       "    }\n",
       "\n",
       "    .dataframe tbody tr th {\n",
       "        vertical-align: top;\n",
       "    }\n",
       "\n",
       "    .dataframe thead th {\n",
       "        text-align: right;\n",
       "    }\n",
       "</style>\n",
       "<table border=\"1\" class=\"dataframe\">\n",
       "  <thead>\n",
       "    <tr style=\"text-align: right;\">\n",
       "      <th></th>\n",
       "      <th>movie_id</th>\n",
       "      <th>primary_title</th>\n",
       "      <th>avg_rating</th>\n",
       "      <th>num_votes</th>\n",
       "      <th>person_id</th>\n",
       "      <th>primary_name</th>\n",
       "    </tr>\n",
       "  </thead>\n",
       "  <tbody>\n",
       "    <tr>\n",
       "      <th>0</th>\n",
       "      <td>tt1375666</td>\n",
       "      <td>Inception</td>\n",
       "      <td>8.8</td>\n",
       "      <td>1841066</td>\n",
       "      <td>nm0634240</td>\n",
       "      <td>Christopher Nolan</td>\n",
       "    </tr>\n",
       "    <tr>\n",
       "      <th>1</th>\n",
       "      <td>tt0816692</td>\n",
       "      <td>Interstellar</td>\n",
       "      <td>8.6</td>\n",
       "      <td>1299334</td>\n",
       "      <td>nm0634240</td>\n",
       "      <td>Christopher Nolan</td>\n",
       "    </tr>\n",
       "    <tr>\n",
       "      <th>2</th>\n",
       "      <td>tt1345836</td>\n",
       "      <td>The Dark Knight Rises</td>\n",
       "      <td>8.4</td>\n",
       "      <td>1387769</td>\n",
       "      <td>nm0634240</td>\n",
       "      <td>Christopher Nolan</td>\n",
       "    </tr>\n",
       "    <tr>\n",
       "      <th>3</th>\n",
       "      <td>tt5013056</td>\n",
       "      <td>Dunkirk</td>\n",
       "      <td>7.9</td>\n",
       "      <td>466580</td>\n",
       "      <td>nm0634240</td>\n",
       "      <td>Christopher Nolan</td>\n",
       "    </tr>\n",
       "    <tr>\n",
       "      <th>4</th>\n",
       "      <td>tt0770828</td>\n",
       "      <td>Man of Steel</td>\n",
       "      <td>7.1</td>\n",
       "      <td>647288</td>\n",
       "      <td>nm0634240</td>\n",
       "      <td>Christopher Nolan</td>\n",
       "    </tr>\n",
       "  </tbody>\n",
       "</table>\n",
       "</div>"
      ],
      "text/plain": [
       "    movie_id          primary_title  avg_rating  num_votes  person_id  \\\n",
       "0  tt1375666              Inception         8.8    1841066  nm0634240   \n",
       "1  tt0816692           Interstellar         8.6    1299334  nm0634240   \n",
       "2  tt1345836  The Dark Knight Rises         8.4    1387769  nm0634240   \n",
       "3  tt5013056                Dunkirk         7.9     466580  nm0634240   \n",
       "4  tt0770828           Man of Steel         7.1     647288  nm0634240   \n",
       "\n",
       "        primary_name  \n",
       "0  Christopher Nolan  \n",
       "1  Christopher Nolan  \n",
       "2  Christopher Nolan  \n",
       "3  Christopher Nolan  \n",
       "4  Christopher Nolan  "
      ]
     },
     "execution_count": 13,
     "metadata": {},
     "output_type": "execute_result"
    }
   ],
   "source": [
    "# merge movie writers with top 100 movies\n",
    "top_writers = pd.merge(top_100_movies, writers, how=\"inner\", on='movie_id')\n",
    "# merge persons with top movie directors to get director names\n",
    "top_writers = pd.merge(top_writers, persons, how=\"inner\", on='person_id')\n",
    "# drop irrelevant columns for readibility\n",
    "top_writers = top_writers.drop(columns=['primary_profession', 'death_year', 'birth_year', 'genres', 'runtime_minutes', 'start_year', 'original_title'])\n",
    "top_writers.head()"
   ]
  },
  {
   "cell_type": "code",
   "execution_count": 14,
   "metadata": {},
   "outputs": [
    {
     "data": {
      "text/plain": [
       "Jack Kirby            21\n",
       "Stan Lee              18\n",
       "Christopher Markus    10\n",
       "Stephen McFeely       10\n",
       "Larry Lieber           9\n",
       "Name: primary_name, dtype: int64"
      ]
     },
     "execution_count": 14,
     "metadata": {},
     "output_type": "execute_result"
    }
   ],
   "source": [
    "# count of directors in top 100 movies\n",
    "top_writers = top_writers.primary_name.value_counts()\n",
    "top_writers.head()"
   ]
  },
  {
   "cell_type": "code",
   "execution_count": 15,
   "metadata": {
    "scrolled": false
   },
   "outputs": [
    {
     "data": {
      "image/png": "[encoded data removed]",
      "text/plain": [
       "<Figure size 576x288 with 1 Axes>"
      ]
     },
     "metadata": {
      "needs_background": "light"
     },
     "output_type": "display_data"
    }
   ],
   "source": [
    "# bar plot of 20 top writers based on count in top 100 movies\n",
    "top_writers.head(20).plot(kind='bar', figsize=(8, 4));"
   ]
  },
  {
   "cell_type": "code",
   "execution_count": 19,
   "metadata": {},
   "outputs": [
    {
     "data": {
      "text/html": [
       "<div>\n",
       "<style scoped>\n",
       "    .dataframe tbody tr th:only-of-type {\n",
       "        vertical-align: middle;\n",
       "    }\n",
       "\n",
       "    .dataframe tbody tr th {\n",
       "        vertical-align: top;\n",
       "    }\n",
       "\n",
       "    .dataframe thead th {\n",
       "        text-align: right;\n",
       "    }\n",
       "</style>\n",
       "<table border=\"1\" class=\"dataframe\">\n",
       "  <thead>\n",
       "    <tr style=\"text-align: right;\">\n",
       "      <th></th>\n",
       "      <th>movie_id</th>\n",
       "      <th>primary_title</th>\n",
       "      <th>avg_rating</th>\n",
       "      <th>num_votes</th>\n",
       "      <th>ordering</th>\n",
       "      <th>person_id</th>\n",
       "      <th>category</th>\n",
       "      <th>primary_name</th>\n",
       "    </tr>\n",
       "  </thead>\n",
       "  <tbody>\n",
       "    <tr>\n",
       "      <th>0</th>\n",
       "      <td>tt1375666</td>\n",
       "      <td>Inception</td>\n",
       "      <td>8.8</td>\n",
       "      <td>1841066</td>\n",
       "      <td>10</td>\n",
       "      <td>nm0245596</td>\n",
       "      <td>production_designer</td>\n",
       "      <td>Guy Hendrix Dyas</td>\n",
       "    </tr>\n",
       "    <tr>\n",
       "      <th>1</th>\n",
       "      <td>tt1375666</td>\n",
       "      <td>Inception</td>\n",
       "      <td>8.8</td>\n",
       "      <td>1841066</td>\n",
       "      <td>1</td>\n",
       "      <td>nm0000138</td>\n",
       "      <td>actor</td>\n",
       "      <td>Leonardo DiCaprio</td>\n",
       "    </tr>\n",
       "    <tr>\n",
       "      <th>2</th>\n",
       "      <td>tt1853728</td>\n",
       "      <td>Django Unchained</td>\n",
       "      <td>8.4</td>\n",
       "      <td>1211405</td>\n",
       "      <td>3</td>\n",
       "      <td>nm0000138</td>\n",
       "      <td>actor</td>\n",
       "      <td>Leonardo DiCaprio</td>\n",
       "    </tr>\n",
       "    <tr>\n",
       "      <th>3</th>\n",
       "      <td>tt0993846</td>\n",
       "      <td>The Wolf of Wall Street</td>\n",
       "      <td>8.2</td>\n",
       "      <td>1035358</td>\n",
       "      <td>1</td>\n",
       "      <td>nm0000138</td>\n",
       "      <td>actor</td>\n",
       "      <td>Leonardo DiCaprio</td>\n",
       "    </tr>\n",
       "    <tr>\n",
       "      <th>4</th>\n",
       "      <td>tt1130884</td>\n",
       "      <td>Shutter Island</td>\n",
       "      <td>8.1</td>\n",
       "      <td>1005960</td>\n",
       "      <td>1</td>\n",
       "      <td>nm0000138</td>\n",
       "      <td>actor</td>\n",
       "      <td>Leonardo DiCaprio</td>\n",
       "    </tr>\n",
       "  </tbody>\n",
       "</table>\n",
       "</div>"
      ],
      "text/plain": [
       "    movie_id            primary_title  avg_rating  num_votes  ordering  \\\n",
       "0  tt1375666                Inception         8.8    1841066        10   \n",
       "1  tt1375666                Inception         8.8    1841066         1   \n",
       "2  tt1853728         Django Unchained         8.4    1211405         3   \n",
       "3  tt0993846  The Wolf of Wall Street         8.2    1035358         1   \n",
       "4  tt1130884           Shutter Island         8.1    1005960         1   \n",
       "\n",
       "   person_id             category       primary_name  \n",
       "0  nm0245596  production_designer   Guy Hendrix Dyas  \n",
       "1  nm0000138                actor  Leonardo DiCaprio  \n",
       "2  nm0000138                actor  Leonardo DiCaprio  \n",
       "3  nm0000138                actor  Leonardo DiCaprio  \n",
       "4  nm0000138                actor  Leonardo DiCaprio  "
      ]
     },
     "execution_count": 19,
     "metadata": {},
     "output_type": "execute_result"
    }
   ],
   "source": [
    "# merge movie principals with top 100 movies\n",
    "top_principals= pd.merge(top_100_movies, principals, how=\"inner\", on='movie_id')\n",
    "# merge persons with top principals table to get principal names\n",
    "top_principals = pd.merge(top_principals, persons, how=\"inner\", on='person_id')\n",
    "# drop irrelevant columns for readibility\n",
    "top_principals = top_principals.drop(columns=['primary_profession', 'death_year', 'birth_year', 'genres', 'runtime_minutes', 'start_year', 'original_title', 'job', 'characters'])"
   ]
  },
  {
   "cell_type": "code",
   "execution_count": 27,
   "metadata": {},
   "outputs": [
    {
     "data": {
      "text/html": [
       "<div>\n",
       "<style scoped>\n",
       "    .dataframe tbody tr th:only-of-type {\n",
       "        vertical-align: middle;\n",
       "    }\n",
       "\n",
       "    .dataframe tbody tr th {\n",
       "        vertical-align: top;\n",
       "    }\n",
       "\n",
       "    .dataframe thead th {\n",
       "        text-align: right;\n",
       "    }\n",
       "</style>\n",
       "<table border=\"1\" class=\"dataframe\">\n",
       "  <thead>\n",
       "    <tr style=\"text-align: right;\">\n",
       "      <th></th>\n",
       "      <th>movie_id</th>\n",
       "      <th>primary_title</th>\n",
       "      <th>avg_rating</th>\n",
       "      <th>num_votes</th>\n",
       "      <th>ordering</th>\n",
       "      <th>person_id</th>\n",
       "      <th>category</th>\n",
       "      <th>primary_name</th>\n",
       "    </tr>\n",
       "  </thead>\n",
       "  <tbody>\n",
       "    <tr>\n",
       "      <th>1</th>\n",
       "      <td>tt1375666</td>\n",
       "      <td>Inception</td>\n",
       "      <td>8.8</td>\n",
       "      <td>1841066</td>\n",
       "      <td>1</td>\n",
       "      <td>nm0000138</td>\n",
       "      <td>actor</td>\n",
       "      <td>Leonardo DiCaprio</td>\n",
       "    </tr>\n",
       "    <tr>\n",
       "      <th>2</th>\n",
       "      <td>tt1853728</td>\n",
       "      <td>Django Unchained</td>\n",
       "      <td>8.4</td>\n",
       "      <td>1211405</td>\n",
       "      <td>3</td>\n",
       "      <td>nm0000138</td>\n",
       "      <td>actor</td>\n",
       "      <td>Leonardo DiCaprio</td>\n",
       "    </tr>\n",
       "    <tr>\n",
       "      <th>3</th>\n",
       "      <td>tt0993846</td>\n",
       "      <td>The Wolf of Wall Street</td>\n",
       "      <td>8.2</td>\n",
       "      <td>1035358</td>\n",
       "      <td>1</td>\n",
       "      <td>nm0000138</td>\n",
       "      <td>actor</td>\n",
       "      <td>Leonardo DiCaprio</td>\n",
       "    </tr>\n",
       "    <tr>\n",
       "      <th>4</th>\n",
       "      <td>tt1130884</td>\n",
       "      <td>Shutter Island</td>\n",
       "      <td>8.1</td>\n",
       "      <td>1005960</td>\n",
       "      <td>1</td>\n",
       "      <td>nm0000138</td>\n",
       "      <td>actor</td>\n",
       "      <td>Leonardo DiCaprio</td>\n",
       "    </tr>\n",
       "    <tr>\n",
       "      <th>5</th>\n",
       "      <td>tt1663202</td>\n",
       "      <td>The Revenant</td>\n",
       "      <td>8.0</td>\n",
       "      <td>621193</td>\n",
       "      <td>1</td>\n",
       "      <td>nm0000138</td>\n",
       "      <td>actor</td>\n",
       "      <td>Leonardo DiCaprio</td>\n",
       "    </tr>\n",
       "  </tbody>\n",
       "</table>\n",
       "</div>"
      ],
      "text/plain": [
       "    movie_id            primary_title  avg_rating  num_votes  ordering  \\\n",
       "1  tt1375666                Inception         8.8    1841066         1   \n",
       "2  tt1853728         Django Unchained         8.4    1211405         3   \n",
       "3  tt0993846  The Wolf of Wall Street         8.2    1035358         1   \n",
       "4  tt1130884           Shutter Island         8.1    1005960         1   \n",
       "5  tt1663202             The Revenant         8.0     621193         1   \n",
       "\n",
       "   person_id category       primary_name  \n",
       "1  nm0000138    actor  Leonardo DiCaprio  \n",
       "2  nm0000138    actor  Leonardo DiCaprio  \n",
       "3  nm0000138    actor  Leonardo DiCaprio  \n",
       "4  nm0000138    actor  Leonardo DiCaprio  \n",
       "5  nm0000138    actor  Leonardo DiCaprio  "
      ]
     },
     "execution_count": 27,
     "metadata": {},
     "output_type": "execute_result"
    }
   ],
   "source": [
    "# filter top principals to get top principal actors\n",
    "top_principal_actors = top_principals[top_principals.category == 'actor']\n",
    "top_principal_actors.head()"
   ]
  },
  {
   "cell_type": "code",
   "execution_count": 29,
   "metadata": {},
   "outputs": [
    {
     "data": {
      "text/plain": [
       "Robert Downey Jr.    8\n",
       "Chris Evans          7\n",
       "Leonardo DiCaprio    6\n",
       "Chris Hemsworth      6\n",
       "Mark Ruffalo         6\n",
       "Name: primary_name, dtype: int64"
      ]
     },
     "execution_count": 29,
     "metadata": {},
     "output_type": "execute_result"
    }
   ],
   "source": [
    "# count of principal actor appearing in top 100 movies\n",
    "top_actors = top_principal_actors.primary_name.value_counts()\n",
    "top_actors.head()"
   ]
  },
  {
   "cell_type": "code",
   "execution_count": 34,
   "metadata": {
    "scrolled": true
   },
   "outputs": [
    {
     "data": {
      "image/png": "[encoded data removed]",
      "text/plain": [
       "<Figure size 576x288 with 1 Axes>"
      ]
     },
     "metadata": {
      "needs_background": "light"
     },
     "output_type": "display_data"
    }
   ],
   "source": [
    "# bar plot of top 10 actors based on number of times they appear in the top 100 movies\n",
    "top_actors.head(10).plot(kind='bar', figsize=(8, 4));"
   ]
  },
  {
   "cell_type": "code",
   "execution_count": 35,
   "metadata": {},
   "outputs": [
    {
     "data": {
      "text/html": [
       "<div>\n",
       "<style scoped>\n",
       "    .dataframe tbody tr th:only-of-type {\n",
       "        vertical-align: middle;\n",
       "    }\n",
       "\n",
       "    .dataframe tbody tr th {\n",
       "        vertical-align: top;\n",
       "    }\n",
       "\n",
       "    .dataframe thead th {\n",
       "        text-align: right;\n",
       "    }\n",
       "</style>\n",
       "<table border=\"1\" class=\"dataframe\">\n",
       "  <thead>\n",
       "    <tr style=\"text-align: right;\">\n",
       "      <th></th>\n",
       "      <th>movie_id</th>\n",
       "      <th>primary_title</th>\n",
       "      <th>original_title</th>\n",
       "      <th>start_year</th>\n",
       "      <th>runtime_minutes</th>\n",
       "      <th>genres</th>\n",
       "      <th>avg_rating</th>\n",
       "      <th>num_votes</th>\n",
       "    </tr>\n",
       "  </thead>\n",
       "  <tbody>\n",
       "    <tr>\n",
       "      <th>0</th>\n",
       "      <td>tt1375666</td>\n",
       "      <td>Inception</td>\n",
       "      <td>Inception</td>\n",
       "      <td>2010</td>\n",
       "      <td>148.0</td>\n",
       "      <td>Action,Adventure,Sci-Fi</td>\n",
       "      <td>8.8</td>\n",
       "      <td>1841066</td>\n",
       "    </tr>\n",
       "    <tr>\n",
       "      <th>1</th>\n",
       "      <td>tt4154796</td>\n",
       "      <td>Avengers: Endgame</td>\n",
       "      <td>Avengers: Endgame</td>\n",
       "      <td>2019</td>\n",
       "      <td>181.0</td>\n",
       "      <td>Action,Adventure,Sci-Fi</td>\n",
       "      <td>8.8</td>\n",
       "      <td>441135</td>\n",
       "    </tr>\n",
       "    <tr>\n",
       "      <th>2</th>\n",
       "      <td>tt0816692</td>\n",
       "      <td>Interstellar</td>\n",
       "      <td>Interstellar</td>\n",
       "      <td>2014</td>\n",
       "      <td>169.0</td>\n",
       "      <td>Adventure,Drama,Sci-Fi</td>\n",
       "      <td>8.6</td>\n",
       "      <td>1299334</td>\n",
       "    </tr>\n",
       "    <tr>\n",
       "      <th>3</th>\n",
       "      <td>tt2582802</td>\n",
       "      <td>Whiplash</td>\n",
       "      <td>Whiplash</td>\n",
       "      <td>2014</td>\n",
       "      <td>106.0</td>\n",
       "      <td>Drama,Music</td>\n",
       "      <td>8.5</td>\n",
       "      <td>616916</td>\n",
       "    </tr>\n",
       "    <tr>\n",
       "      <th>4</th>\n",
       "      <td>tt4154756</td>\n",
       "      <td>Avengers: Infinity War</td>\n",
       "      <td>Avengers: Infinity War</td>\n",
       "      <td>2018</td>\n",
       "      <td>149.0</td>\n",
       "      <td>Action,Adventure,Sci-Fi</td>\n",
       "      <td>8.5</td>\n",
       "      <td>670926</td>\n",
       "    </tr>\n",
       "    <tr>\n",
       "      <th>...</th>\n",
       "      <td>...</td>\n",
       "      <td>...</td>\n",
       "      <td>...</td>\n",
       "      <td>...</td>\n",
       "      <td>...</td>\n",
       "      <td>...</td>\n",
       "      <td>...</td>\n",
       "      <td>...</td>\n",
       "    </tr>\n",
       "    <tr>\n",
       "      <th>95</th>\n",
       "      <td>tt1637725</td>\n",
       "      <td>Ted</td>\n",
       "      <td>Ted</td>\n",
       "      <td>2012</td>\n",
       "      <td>106.0</td>\n",
       "      <td>Comedy,Fantasy</td>\n",
       "      <td>6.9</td>\n",
       "      <td>538367</td>\n",
       "    </tr>\n",
       "    <tr>\n",
       "      <th>96</th>\n",
       "      <td>tt1298650</td>\n",
       "      <td>Pirates of the Caribbean: On Stranger Tides</td>\n",
       "      <td>Pirates of the Caribbean: On Stranger Tides</td>\n",
       "      <td>2011</td>\n",
       "      <td>136.0</td>\n",
       "      <td>Action,Adventure,Fantasy</td>\n",
       "      <td>6.6</td>\n",
       "      <td>447624</td>\n",
       "    </tr>\n",
       "    <tr>\n",
       "      <th>97</th>\n",
       "      <td>tt1411697</td>\n",
       "      <td>The Hangover Part II</td>\n",
       "      <td>The Hangover Part II</td>\n",
       "      <td>2011</td>\n",
       "      <td>102.0</td>\n",
       "      <td>Comedy,Mystery</td>\n",
       "      <td>6.5</td>\n",
       "      <td>432800</td>\n",
       "    </tr>\n",
       "    <tr>\n",
       "      <th>98</th>\n",
       "      <td>tt2975590</td>\n",
       "      <td>Batman v Superman: Dawn of Justice</td>\n",
       "      <td>Batman v Superman: Dawn of Justice</td>\n",
       "      <td>2016</td>\n",
       "      <td>151.0</td>\n",
       "      <td>Action,Adventure,Fantasy</td>\n",
       "      <td>6.5</td>\n",
       "      <td>576909</td>\n",
       "    </tr>\n",
       "    <tr>\n",
       "      <th>99</th>\n",
       "      <td>tt1386697</td>\n",
       "      <td>Suicide Squad</td>\n",
       "      <td>Suicide Squad</td>\n",
       "      <td>2016</td>\n",
       "      <td>123.0</td>\n",
       "      <td>Action,Adventure,Fantasy</td>\n",
       "      <td>6.0</td>\n",
       "      <td>533039</td>\n",
       "    </tr>\n",
       "  </tbody>\n",
       "</table>\n",
       "<p>100 rows × 8 columns</p>\n",
       "</div>"
      ],
      "text/plain": [
       "     movie_id                                primary_title  \\\n",
       "0   tt1375666                                    Inception   \n",
       "1   tt4154796                            Avengers: Endgame   \n",
       "2   tt0816692                                 Interstellar   \n",
       "3   tt2582802                                     Whiplash   \n",
       "4   tt4154756                       Avengers: Infinity War   \n",
       "..        ...                                          ...   \n",
       "95  tt1637725                                          Ted   \n",
       "96  tt1298650  Pirates of the Caribbean: On Stranger Tides   \n",
       "97  tt1411697                         The Hangover Part II   \n",
       "98  tt2975590           Batman v Superman: Dawn of Justice   \n",
       "99  tt1386697                                Suicide Squad   \n",
       "\n",
       "                                 original_title  start_year  runtime_minutes  \\\n",
       "0                                     Inception        2010            148.0   \n",
       "1                             Avengers: Endgame        2019            181.0   \n",
       "2                                  Interstellar        2014            169.0   \n",
       "3                                      Whiplash        2014            106.0   \n",
       "4                        Avengers: Infinity War        2018            149.0   \n",
       "..                                          ...         ...              ...   \n",
       "95                                          Ted        2012            106.0   \n",
       "96  Pirates of the Caribbean: On Stranger Tides        2011            136.0   \n",
       "97                         The Hangover Part II        2011            102.0   \n",
       "98           Batman v Superman: Dawn of Justice        2016            151.0   \n",
       "99                                Suicide Squad        2016            123.0   \n",
       "\n",
       "                      genres  avg_rating  num_votes  \n",
       "0    Action,Adventure,Sci-Fi         8.8    1841066  \n",
       "1    Action,Adventure,Sci-Fi         8.8     441135  \n",
       "2     Adventure,Drama,Sci-Fi         8.6    1299334  \n",
       "3                Drama,Music         8.5     616916  \n",
       "4    Action,Adventure,Sci-Fi         8.5     670926  \n",
       "..                       ...         ...        ...  \n",
       "95            Comedy,Fantasy         6.9     538367  \n",
       "96  Action,Adventure,Fantasy         6.6     447624  \n",
       "97            Comedy,Mystery         6.5     432800  \n",
       "98  Action,Adventure,Fantasy         6.5     576909  \n",
       "99  Action,Adventure,Fantasy         6.0     533039  \n",
       "\n",
       "[100 rows x 8 columns]"
      ]
     },
     "execution_count": 35,
     "metadata": {},
     "output_type": "execute_result"
    }
   ],
   "source": [
    "top_100_movies"
   ]
  }
 ],
 "metadata": {
  "kernelspec": {
   "display_name": "Python (learn-env)",
   "language": "python",
   "name": "learn-env"
  },
  "language_info": {
   "codemirror_mode": {
    "name": "ipython",
    "version": 3
   },
   "file_extension": ".py",
   "mimetype": "text/x-python",
   "name": "python",
   "nbconvert_exporter": "python",
   "pygments_lexer": "ipython3",
   "version": "3.8.5"
  }
 },
 "nbformat": 4,
 "nbformat_minor": 4
}
