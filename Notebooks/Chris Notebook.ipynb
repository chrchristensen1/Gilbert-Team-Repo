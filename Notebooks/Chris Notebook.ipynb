{
 "cells": [
  {
   "cell_type": "markdown",
   "metadata": {},
   "source": [
    "# Chris Jupyter Notebook Movie Analysis"
   ]
  },
  {
   "cell_type": "markdown",
   "metadata": {},
   "source": [
    "### Imports and File Read-ins "
   ]
  },
  {
   "cell_type": "code",
   "execution_count": 1,
   "metadata": {},
   "outputs": [],
   "source": [
    "# imports\n",
    "import pandas as pd\n",
    "import numpy as np\n",
    "import matplotlib.pyplot as plt\n",
    "import seaborn as sns\n",
    "%matplotlib inline"
   ]
  },
  {
   "cell_type": "code",
   "execution_count": 2,
   "metadata": {},
   "outputs": [],
   "source": [
    "#file locations\n",
    "directors_file = \"files/imbd_files/directors.csv\"\n",
    "known_for_file= \"files/imbd_files/known_for.csv\"\n",
    "movie_akas_file = \"files/imbd_files/movie_akas.csv\"\n",
    "movie_basics_file = \"files/imbd_files/movie_basics.csv\"\n",
    "movie_ratings_file= \"files/imbd_files/movie_ratings.csv\"\n",
    "persons_file = \"files/imbd_files/persons.csv\"\n",
    "principals_file= \"files/imbd_files/principals.csv\"\n",
    "writers_file = \"files/imbd_files/writers.csv\"\n",
    "\n",
    "# read files into dataframes\n",
    "directors = pd.read_csv(directors_file)\n",
    "known_for = pd.read_csv(known_for_file)\n",
    "movie_akas = pd.read_csv(movie_akas_file)\n",
    "movie_basics = pd.read_csv(movie_basics_file)\n",
    "movie_ratings = pd.read_csv(movie_ratings_file)\n",
    "persons = pd.read_csv(persons_file)\n",
    "principals = pd.read_csv(principals_file)\n",
    "writers = pd.read_csv(writers_file)\n",
    "\n",
    "# list of tables for reference\n",
    "IMBD_df_list = ['directors', 'known_for', 'movie_akas', 'movie_basics', 'movie_ratings', 'persons', 'principals', 'writers']"
   ]
  },
  {
   "cell_type": "code",
   "execution_count": 3,
   "metadata": {},
   "outputs": [
    {
     "data": {
      "text/plain": [
       "['directors',\n",
       " 'known_for',\n",
       " 'movie_akas',\n",
       " 'movie_basics',\n",
       " 'movie_ratings',\n",
       " 'persons',\n",
       " 'principals',\n",
       " 'writers']"
      ]
     },
     "execution_count": 3,
     "metadata": {},
     "output_type": "execute_result"
    }
   ],
   "source": [
    "#List of Dataframe Table in IMBD dataset\n",
    "IMBD_df_list"
   ]
  },
  {
   "cell_type": "markdown",
   "metadata": {},
   "source": [
    "## Top Rated Section"
   ]
  },
  {
   "cell_type": "code",
   "execution_count": 4,
   "metadata": {},
   "outputs": [],
   "source": [
    "# merge movie ratings with movie basics\n",
    "movie_info = pd.merge(movie_basics, movie_ratings, how=\"inner\", on='movie_id')"
   ]
  },
  {
   "cell_type": "code",
   "execution_count": 5,
   "metadata": {},
   "outputs": [
    {
     "data": {
      "text/html": [
       "<div>\n",
       "<style scoped>\n",
       "    .dataframe tbody tr th:only-of-type {\n",
       "        vertical-align: middle;\n",
       "    }\n",
       "\n",
       "    .dataframe tbody tr th {\n",
       "        vertical-align: top;\n",
       "    }\n",
       "\n",
       "    .dataframe thead th {\n",
       "        text-align: right;\n",
       "    }\n",
       "</style>\n",
       "<table border=\"1\" class=\"dataframe\">\n",
       "  <thead>\n",
       "    <tr style=\"text-align: right;\">\n",
       "      <th></th>\n",
       "      <th>movie_id</th>\n",
       "      <th>primary_title</th>\n",
       "      <th>original_title</th>\n",
       "      <th>start_year</th>\n",
       "      <th>runtime_minutes</th>\n",
       "      <th>genres</th>\n",
       "      <th>averagerating</th>\n",
       "      <th>numvotes</th>\n",
       "    </tr>\n",
       "  </thead>\n",
       "  <tbody>\n",
       "    <tr>\n",
       "      <th>0</th>\n",
       "      <td>tt0063540</td>\n",
       "      <td>Sunghursh</td>\n",
       "      <td>Sunghursh</td>\n",
       "      <td>2013</td>\n",
       "      <td>175.0</td>\n",
       "      <td>Action,Crime,Drama</td>\n",
       "      <td>7.0</td>\n",
       "      <td>77</td>\n",
       "    </tr>\n",
       "    <tr>\n",
       "      <th>1</th>\n",
       "      <td>tt0066787</td>\n",
       "      <td>One Day Before the Rainy Season</td>\n",
       "      <td>Ashad Ka Ek Din</td>\n",
       "      <td>2019</td>\n",
       "      <td>114.0</td>\n",
       "      <td>Biography,Drama</td>\n",
       "      <td>7.2</td>\n",
       "      <td>43</td>\n",
       "    </tr>\n",
       "    <tr>\n",
       "      <th>2</th>\n",
       "      <td>tt0069049</td>\n",
       "      <td>The Other Side of the Wind</td>\n",
       "      <td>The Other Side of the Wind</td>\n",
       "      <td>2018</td>\n",
       "      <td>122.0</td>\n",
       "      <td>Drama</td>\n",
       "      <td>6.9</td>\n",
       "      <td>4517</td>\n",
       "    </tr>\n",
       "    <tr>\n",
       "      <th>3</th>\n",
       "      <td>tt0069204</td>\n",
       "      <td>Sabse Bada Sukh</td>\n",
       "      <td>Sabse Bada Sukh</td>\n",
       "      <td>2018</td>\n",
       "      <td>NaN</td>\n",
       "      <td>Comedy,Drama</td>\n",
       "      <td>6.1</td>\n",
       "      <td>13</td>\n",
       "    </tr>\n",
       "    <tr>\n",
       "      <th>4</th>\n",
       "      <td>tt0100275</td>\n",
       "      <td>The Wandering Soap Opera</td>\n",
       "      <td>La Telenovela Errante</td>\n",
       "      <td>2017</td>\n",
       "      <td>80.0</td>\n",
       "      <td>Comedy,Drama,Fantasy</td>\n",
       "      <td>6.5</td>\n",
       "      <td>119</td>\n",
       "    </tr>\n",
       "  </tbody>\n",
       "</table>\n",
       "</div>"
      ],
      "text/plain": [
       "    movie_id                    primary_title              original_title  \\\n",
       "0  tt0063540                        Sunghursh                   Sunghursh   \n",
       "1  tt0066787  One Day Before the Rainy Season             Ashad Ka Ek Din   \n",
       "2  tt0069049       The Other Side of the Wind  The Other Side of the Wind   \n",
       "3  tt0069204                  Sabse Bada Sukh             Sabse Bada Sukh   \n",
       "4  tt0100275         The Wandering Soap Opera       La Telenovela Errante   \n",
       "\n",
       "   start_year  runtime_minutes                genres  averagerating  numvotes  \n",
       "0        2013            175.0    Action,Crime,Drama            7.0        77  \n",
       "1        2019            114.0       Biography,Drama            7.2        43  \n",
       "2        2018            122.0                 Drama            6.9      4517  \n",
       "3        2018              NaN          Comedy,Drama            6.1        13  \n",
       "4        2017             80.0  Comedy,Drama,Fantasy            6.5       119  "
      ]
     },
     "execution_count": 5,
     "metadata": {},
     "output_type": "execute_result"
    }
   ],
   "source": [
    "# View of DataFrame\n",
    "movie_info.head()"
   ]
  },
  {
   "cell_type": "code",
   "execution_count": 6,
   "metadata": {
    "scrolled": true
   },
   "outputs": [
    {
     "name": "stdout",
     "output_type": "stream",
     "text": [
      "<class 'pandas.core.frame.DataFrame'>\n",
      "RangeIndex: 100 entries, 0 to 99\n",
      "Data columns (total 8 columns):\n",
      " #   Column           Non-Null Count  Dtype  \n",
      "---  ------           --------------  -----  \n",
      " 0   movie_id         100 non-null    object \n",
      " 1   primary_title    100 non-null    object \n",
      " 2   original_title   100 non-null    object \n",
      " 3   start_year       100 non-null    int64  \n",
      " 4   runtime_minutes  100 non-null    float64\n",
      " 5   genres           100 non-null    object \n",
      " 6   avg_rating       100 non-null    float64\n",
      " 7   num_votes        100 non-null    int64  \n",
      "dtypes: float64(2), int64(2), object(4)\n",
      "memory usage: 6.4+ KB\n"
     ]
    }
   ],
   "source": [
    "# movies sort by most votes and avereage rating\n",
    "top_movies = movie_info.sort_values(by=['numvotes', 'averagerating'], ascending=False)\n",
    "# top 100 movies selected\n",
    "top_100_movies = top_movies.iloc[:100]\n",
    "# top 100 movies sorted specifically by movie rating\n",
    "top_100_movies = top_100_movies.sort_values(by='averagerating', ascending=False)\n",
    "#index reseted for top 100 movies\n",
    "top_100_movies = top_100_movies.reset_index().drop(columns='index')\n",
    "# select columns renamed for consistency among columns\n",
    "top_100_movies = top_100_movies.rename(columns={'numvotes': 'num_votes', 'averagerating': 'avg_rating'})\n",
    "top_100_movies.info()"
   ]
  },
  {
   "cell_type": "code",
   "execution_count": 7,
   "metadata": {
    "scrolled": true
   },
   "outputs": [
    {
     "data": {
      "image/png": "[encoded data removed]",
      "text/plain": [
       "<Figure size 1440x216 with 1 Axes>"
      ]
     },
     "metadata": {
      "needs_background": "light"
     },
     "output_type": "display_data"
    }
   ],
   "source": [
    "# bar plot for average rating of top 100 movies \n",
    "plt.figure(figsize = (20,3))\n",
    "plt.xticks(rotation = 90)\n",
    "sns.barplot(x=top_100_movies.primary_title, y=top_100_movies.avg_rating);"
   ]
  },
  {
   "cell_type": "code",
   "execution_count": 8,
   "metadata": {},
   "outputs": [
    {
     "data": {
      "text/html": [
       "<div>\n",
       "<style scoped>\n",
       "    .dataframe tbody tr th:only-of-type {\n",
       "        vertical-align: middle;\n",
       "    }\n",
       "\n",
       "    .dataframe tbody tr th {\n",
       "        vertical-align: top;\n",
       "    }\n",
       "\n",
       "    .dataframe thead th {\n",
       "        text-align: right;\n",
       "    }\n",
       "</style>\n",
       "<table border=\"1\" class=\"dataframe\">\n",
       "  <thead>\n",
       "    <tr style=\"text-align: right;\">\n",
       "      <th></th>\n",
       "      <th>movie_id</th>\n",
       "      <th>primary_title</th>\n",
       "      <th>avg_rating</th>\n",
       "      <th>num_votes</th>\n",
       "      <th>person_id</th>\n",
       "      <th>primary_name</th>\n",
       "    </tr>\n",
       "  </thead>\n",
       "  <tbody>\n",
       "    <tr>\n",
       "      <th>0</th>\n",
       "      <td>tt1375666</td>\n",
       "      <td>Inception</td>\n",
       "      <td>8.8</td>\n",
       "      <td>1841066</td>\n",
       "      <td>nm0634240</td>\n",
       "      <td>Christopher Nolan</td>\n",
       "    </tr>\n",
       "    <tr>\n",
       "      <th>1</th>\n",
       "      <td>tt0816692</td>\n",
       "      <td>Interstellar</td>\n",
       "      <td>8.6</td>\n",
       "      <td>1299334</td>\n",
       "      <td>nm0634240</td>\n",
       "      <td>Christopher Nolan</td>\n",
       "    </tr>\n",
       "    <tr>\n",
       "      <th>2</th>\n",
       "      <td>tt0816692</td>\n",
       "      <td>Interstellar</td>\n",
       "      <td>8.6</td>\n",
       "      <td>1299334</td>\n",
       "      <td>nm0634240</td>\n",
       "      <td>Christopher Nolan</td>\n",
       "    </tr>\n",
       "    <tr>\n",
       "      <th>3</th>\n",
       "      <td>tt1345836</td>\n",
       "      <td>The Dark Knight Rises</td>\n",
       "      <td>8.4</td>\n",
       "      <td>1387769</td>\n",
       "      <td>nm0634240</td>\n",
       "      <td>Christopher Nolan</td>\n",
       "    </tr>\n",
       "    <tr>\n",
       "      <th>4</th>\n",
       "      <td>tt1345836</td>\n",
       "      <td>The Dark Knight Rises</td>\n",
       "      <td>8.4</td>\n",
       "      <td>1387769</td>\n",
       "      <td>nm0634240</td>\n",
       "      <td>Christopher Nolan</td>\n",
       "    </tr>\n",
       "  </tbody>\n",
       "</table>\n",
       "</div>"
      ],
      "text/plain": [
       "    movie_id          primary_title  avg_rating  num_votes  person_id  \\\n",
       "0  tt1375666              Inception         8.8    1841066  nm0634240   \n",
       "1  tt0816692           Interstellar         8.6    1299334  nm0634240   \n",
       "2  tt0816692           Interstellar         8.6    1299334  nm0634240   \n",
       "3  tt1345836  The Dark Knight Rises         8.4    1387769  nm0634240   \n",
       "4  tt1345836  The Dark Knight Rises         8.4    1387769  nm0634240   \n",
       "\n",
       "        primary_name  \n",
       "0  Christopher Nolan  \n",
       "1  Christopher Nolan  \n",
       "2  Christopher Nolan  \n",
       "3  Christopher Nolan  \n",
       "4  Christopher Nolan  "
      ]
     },
     "execution_count": 8,
     "metadata": {},
     "output_type": "execute_result"
    }
   ],
   "source": [
    "# merge movie directors with top 100 movies\n",
    "top_movie_dir = pd.merge(top_100_movies, directors, how=\"inner\", on='movie_id')\n",
    "# merge persons with top movie directors to get director names\n",
    "top_movie_dir = pd.merge(top_movie_dir, persons, how=\"inner\", on='person_id')\n",
    "# drop irrelevant columns for readibility\n",
    "top_movie_dir = top_movie_dir.drop(columns=['primary_profession', 'death_year', 'birth_year', 'genres', 'runtime_minutes', 'start_year', 'original_title'])\n",
    "top_movie_dir.head()"
   ]
  },
  {
   "cell_type": "code",
   "execution_count": 9,
   "metadata": {},
   "outputs": [
    {
     "data": {
      "text/plain": [
       "Anthony Russo     30\n",
       "Joe Russo         30\n",
       "James Gunn        24\n",
       "Matthew Vaughn    16\n",
       "Peter Jackson     15\n",
       "Name: primary_name, dtype: int64"
      ]
     },
     "execution_count": 9,
     "metadata": {},
     "output_type": "execute_result"
    }
   ],
   "source": [
    "# count of directors in top 100 movies\n",
    "top_directors = top_movie_dir.primary_name.value_counts()\n",
    "top_directors.head()"
   ]
  },
  {
   "cell_type": "code",
   "execution_count": 10,
   "metadata": {
    "scrolled": true
   },
   "outputs": [
    {
     "data": {
      "image/png": "[encoded data removed]",
      "text/plain": [
       "<Figure size 576x288 with 1 Axes>"
      ]
     },
     "metadata": {
      "needs_background": "light"
     },
     "output_type": "display_data"
    }
   ],
   "source": [
    "# bar plot of 20 top directors based on count in top 100 movies\n",
    "top_directors.head(20).plot(kind='bar', figsize=(8, 4));"
   ]
  },
  {
   "cell_type": "code",
   "execution_count": 11,
   "metadata": {},
   "outputs": [
    {
     "data": {
      "text/html": [
       "<div>\n",
       "<style scoped>\n",
       "    .dataframe tbody tr th:only-of-type {\n",
       "        vertical-align: middle;\n",
       "    }\n",
       "\n",
       "    .dataframe tbody tr th {\n",
       "        vertical-align: top;\n",
       "    }\n",
       "\n",
       "    .dataframe thead th {\n",
       "        text-align: right;\n",
       "    }\n",
       "</style>\n",
       "<table border=\"1\" class=\"dataframe\">\n",
       "  <thead>\n",
       "    <tr style=\"text-align: right;\">\n",
       "      <th></th>\n",
       "      <th>movie_id</th>\n",
       "      <th>primary_title</th>\n",
       "      <th>avg_rating</th>\n",
       "      <th>num_votes</th>\n",
       "      <th>person_id</th>\n",
       "      <th>primary_name</th>\n",
       "    </tr>\n",
       "  </thead>\n",
       "  <tbody>\n",
       "    <tr>\n",
       "      <th>0</th>\n",
       "      <td>tt1375666</td>\n",
       "      <td>Inception</td>\n",
       "      <td>8.8</td>\n",
       "      <td>1841066</td>\n",
       "      <td>nm0634240</td>\n",
       "      <td>Christopher Nolan</td>\n",
       "    </tr>\n",
       "    <tr>\n",
       "      <th>1</th>\n",
       "      <td>tt0816692</td>\n",
       "      <td>Interstellar</td>\n",
       "      <td>8.6</td>\n",
       "      <td>1299334</td>\n",
       "      <td>nm0634240</td>\n",
       "      <td>Christopher Nolan</td>\n",
       "    </tr>\n",
       "    <tr>\n",
       "      <th>2</th>\n",
       "      <td>tt1345836</td>\n",
       "      <td>The Dark Knight Rises</td>\n",
       "      <td>8.4</td>\n",
       "      <td>1387769</td>\n",
       "      <td>nm0634240</td>\n",
       "      <td>Christopher Nolan</td>\n",
       "    </tr>\n",
       "    <tr>\n",
       "      <th>3</th>\n",
       "      <td>tt5013056</td>\n",
       "      <td>Dunkirk</td>\n",
       "      <td>7.9</td>\n",
       "      <td>466580</td>\n",
       "      <td>nm0634240</td>\n",
       "      <td>Christopher Nolan</td>\n",
       "    </tr>\n",
       "    <tr>\n",
       "      <th>4</th>\n",
       "      <td>tt0770828</td>\n",
       "      <td>Man of Steel</td>\n",
       "      <td>7.1</td>\n",
       "      <td>647288</td>\n",
       "      <td>nm0634240</td>\n",
       "      <td>Christopher Nolan</td>\n",
       "    </tr>\n",
       "  </tbody>\n",
       "</table>\n",
       "</div>"
      ],
      "text/plain": [
       "    movie_id          primary_title  avg_rating  num_votes  person_id  \\\n",
       "0  tt1375666              Inception         8.8    1841066  nm0634240   \n",
       "1  tt0816692           Interstellar         8.6    1299334  nm0634240   \n",
       "2  tt1345836  The Dark Knight Rises         8.4    1387769  nm0634240   \n",
       "3  tt5013056                Dunkirk         7.9     466580  nm0634240   \n",
       "4  tt0770828           Man of Steel         7.1     647288  nm0634240   \n",
       "\n",
       "        primary_name  \n",
       "0  Christopher Nolan  \n",
       "1  Christopher Nolan  \n",
       "2  Christopher Nolan  \n",
       "3  Christopher Nolan  \n",
       "4  Christopher Nolan  "
      ]
     },
     "execution_count": 11,
     "metadata": {},
     "output_type": "execute_result"
    }
   ],
   "source": [
    "# merge movie writers with top 100 movies\n",
    "top_writers = pd.merge(top_100_movies, writers, how=\"inner\", on='movie_id')\n",
    "# merge persons with top movie directors to get director names\n",
    "top_writers = pd.merge(top_writers, persons, how=\"inner\", on='person_id')\n",
    "# drop irrelevant columns for readibility\n",
    "top_writers = top_writers.drop(columns=['primary_profession', 'death_year', 'birth_year', 'genres', 'runtime_minutes', 'start_year', 'original_title'])\n",
    "top_writers.head()"
   ]
  },
  {
   "cell_type": "code",
   "execution_count": 12,
   "metadata": {},
   "outputs": [
    {
     "data": {
      "text/plain": [
       "Jack Kirby            21\n",
       "Stan Lee              18\n",
       "Stephen McFeely       10\n",
       "Christopher Markus    10\n",
       "Joe Simon              9\n",
       "Name: primary_name, dtype: int64"
      ]
     },
     "execution_count": 12,
     "metadata": {},
     "output_type": "execute_result"
    }
   ],
   "source": [
    "# count of directors in top 100 movies\n",
    "top_writers = top_writers.primary_name.value_counts()\n",
    "top_writers.head()"
   ]
  },
  {
   "cell_type": "code",
   "execution_count": 13,
   "metadata": {
    "scrolled": false
   },
   "outputs": [
    {
     "data": {
      "image/png": "[encoded data removed]",
      "text/plain": [
       "<Figure size 576x288 with 1 Axes>"
      ]
     },
     "metadata": {
      "needs_background": "light"
     },
     "output_type": "display_data"
    }
   ],
   "source": [
    "# bar plot of 20 top writers based on count in top 100 movies\n",
    "top_writers.head(20).plot(kind='bar', figsize=(8, 4));"
   ]
  },
  {
   "cell_type": "code",
   "execution_count": 14,
   "metadata": {},
   "outputs": [],
   "source": [
    "# merge movie principals with top 100 movies\n",
    "top_principals= pd.merge(top_100_movies, principals, how=\"inner\", on='movie_id')\n",
    "# merge persons with top principals table to get principal names\n",
    "top_principals = pd.merge(top_principals, persons, how=\"inner\", on='person_id')\n",
    "# drop irrelevant columns for readibility\n",
    "top_principals = top_principals.drop(columns=['primary_profession', 'death_year', 'birth_year', 'genres', 'runtime_minutes', 'start_year', 'original_title', 'job', 'characters'])"
   ]
  },
  {
   "cell_type": "code",
   "execution_count": 15,
   "metadata": {},
   "outputs": [
    {
     "data": {
      "text/html": [
       "<div>\n",
       "<style scoped>\n",
       "    .dataframe tbody tr th:only-of-type {\n",
       "        vertical-align: middle;\n",
       "    }\n",
       "\n",
       "    .dataframe tbody tr th {\n",
       "        vertical-align: top;\n",
       "    }\n",
       "\n",
       "    .dataframe thead th {\n",
       "        text-align: right;\n",
       "    }\n",
       "</style>\n",
       "<table border=\"1\" class=\"dataframe\">\n",
       "  <thead>\n",
       "    <tr style=\"text-align: right;\">\n",
       "      <th></th>\n",
       "      <th>movie_id</th>\n",
       "      <th>primary_title</th>\n",
       "      <th>avg_rating</th>\n",
       "      <th>num_votes</th>\n",
       "      <th>ordering</th>\n",
       "      <th>person_id</th>\n",
       "      <th>category</th>\n",
       "      <th>primary_name</th>\n",
       "    </tr>\n",
       "  </thead>\n",
       "  <tbody>\n",
       "    <tr>\n",
       "      <th>1</th>\n",
       "      <td>tt1375666</td>\n",
       "      <td>Inception</td>\n",
       "      <td>8.8</td>\n",
       "      <td>1841066</td>\n",
       "      <td>1</td>\n",
       "      <td>nm0000138</td>\n",
       "      <td>actor</td>\n",
       "      <td>Leonardo DiCaprio</td>\n",
       "    </tr>\n",
       "    <tr>\n",
       "      <th>2</th>\n",
       "      <td>tt1853728</td>\n",
       "      <td>Django Unchained</td>\n",
       "      <td>8.4</td>\n",
       "      <td>1211405</td>\n",
       "      <td>3</td>\n",
       "      <td>nm0000138</td>\n",
       "      <td>actor</td>\n",
       "      <td>Leonardo DiCaprio</td>\n",
       "    </tr>\n",
       "    <tr>\n",
       "      <th>3</th>\n",
       "      <td>tt0993846</td>\n",
       "      <td>The Wolf of Wall Street</td>\n",
       "      <td>8.2</td>\n",
       "      <td>1035358</td>\n",
       "      <td>1</td>\n",
       "      <td>nm0000138</td>\n",
       "      <td>actor</td>\n",
       "      <td>Leonardo DiCaprio</td>\n",
       "    </tr>\n",
       "    <tr>\n",
       "      <th>4</th>\n",
       "      <td>tt1130884</td>\n",
       "      <td>Shutter Island</td>\n",
       "      <td>8.1</td>\n",
       "      <td>1005960</td>\n",
       "      <td>1</td>\n",
       "      <td>nm0000138</td>\n",
       "      <td>actor</td>\n",
       "      <td>Leonardo DiCaprio</td>\n",
       "    </tr>\n",
       "    <tr>\n",
       "      <th>5</th>\n",
       "      <td>tt1663202</td>\n",
       "      <td>The Revenant</td>\n",
       "      <td>8.0</td>\n",
       "      <td>621193</td>\n",
       "      <td>1</td>\n",
       "      <td>nm0000138</td>\n",
       "      <td>actor</td>\n",
       "      <td>Leonardo DiCaprio</td>\n",
       "    </tr>\n",
       "  </tbody>\n",
       "</table>\n",
       "</div>"
      ],
      "text/plain": [
       "    movie_id            primary_title  avg_rating  num_votes  ordering  \\\n",
       "1  tt1375666                Inception         8.8    1841066         1   \n",
       "2  tt1853728         Django Unchained         8.4    1211405         3   \n",
       "3  tt0993846  The Wolf of Wall Street         8.2    1035358         1   \n",
       "4  tt1130884           Shutter Island         8.1    1005960         1   \n",
       "5  tt1663202             The Revenant         8.0     621193         1   \n",
       "\n",
       "   person_id category       primary_name  \n",
       "1  nm0000138    actor  Leonardo DiCaprio  \n",
       "2  nm0000138    actor  Leonardo DiCaprio  \n",
       "3  nm0000138    actor  Leonardo DiCaprio  \n",
       "4  nm0000138    actor  Leonardo DiCaprio  \n",
       "5  nm0000138    actor  Leonardo DiCaprio  "
      ]
     },
     "execution_count": 15,
     "metadata": {},
     "output_type": "execute_result"
    }
   ],
   "source": [
    "# filter top principals to get top principal actors\n",
    "top_principal_actors = top_principals[top_principals.category == 'actor']\n",
    "top_principal_actors.head()"
   ]
  },
  {
   "cell_type": "code",
   "execution_count": 16,
   "metadata": {},
   "outputs": [
    {
     "data": {
      "text/plain": [
       "Robert Downey Jr.    8\n",
       "Chris Evans          7\n",
       "Mark Ruffalo         6\n",
       "Leonardo DiCaprio    6\n",
       "Chris Hemsworth      6\n",
       "Name: primary_name, dtype: int64"
      ]
     },
     "execution_count": 16,
     "metadata": {},
     "output_type": "execute_result"
    }
   ],
   "source": [
    "# count of principal actor appearing in top 100 movies\n",
    "top_actors = top_principal_actors.primary_name.value_counts()\n",
    "top_actors.head()"
   ]
  },
  {
   "cell_type": "code",
   "execution_count": 17,
   "metadata": {
    "scrolled": true
   },
   "outputs": [
    {
     "data": {
      "image/png": "[encoded data removed]",
      "text/plain": [
       "<Figure size 576x288 with 1 Axes>"
      ]
     },
     "metadata": {
      "needs_background": "light"
     },
     "output_type": "display_data"
    }
   ],
   "source": [
    "# bar plot of top 10 actors based on number of times they appear in the top 100 movies\n",
    "top_actors.head(10).plot(kind='bar', figsize=(8, 4));"
   ]
  },
  {
   "cell_type": "code",
   "execution_count": 18,
   "metadata": {
    "scrolled": true
   },
   "outputs": [
    {
     "data": {
      "text/plain": [
       "Adventure    57\n",
       "Action       54\n",
       "Sci-Fi       36\n",
       "Drama        36\n",
       "Comedy       20\n",
       "Fantasy      16\n",
       "Thriller     13\n",
       "Mystery      11\n",
       "Crime        11\n",
       "Biography     8\n",
       "Animation     5\n",
       "Romance       4\n",
       "History       3\n",
       "Family        2\n",
       "Music         2\n",
       "Horror        1\n",
       "Western       1\n",
       "Sport         1\n",
       "dtype: int64"
      ]
     },
     "execution_count": 18,
     "metadata": {},
     "output_type": "execute_result"
    }
   ],
   "source": [
    "# Declaring new variable to split genre data into separate columns\n",
    "string_split = top_100_movies\n",
    "# splitting genre values into new columns\n",
    "genre_split = string_split[\"genres\"].str.split(\",\", n = 3, expand = True)\n",
    "# concatination genre columns into 1 series\n",
    "top_100_movies_genres = pd.concat([genre_split[0], genre_split[1], genre_split[2]])\n",
    "# drop na from genre series\n",
    "top_100_movies_genres = top_100_movies_genres.dropna()\n",
    "# counting genre counts in top 100 movie list\n",
    "top_genre_counts = top_100_movies_genres.value_counts()\n",
    "top_genre_counts"
   ]
  },
  {
   "cell_type": "code",
   "execution_count": 19,
   "metadata": {
    "scrolled": true
   },
   "outputs": [
    {
     "data": {
      "image/png": "[encoded data removed]",
      "text/plain": [
       "<Figure size 576x288 with 1 Axes>"
      ]
     },
     "metadata": {
      "needs_background": "light"
     },
     "output_type": "display_data"
    }
   ],
   "source": [
    "# bar plot of top genre counts from top 100 movies\n",
    "top_genre_counts.plot(kind='bar', figsize=(8, 4));"
   ]
  },
  {
   "cell_type": "markdown",
   "metadata": {},
   "source": [
    "## Runtime Statistical Analysis"
   ]
  },
  {
   "cell_type": "code",
   "execution_count": 20,
   "metadata": {},
   "outputs": [],
   "source": [
    "# list of total_runtimes\n",
    "runtimes = movie_info.runtime_minutes\n",
    "runtimes.dropna(inplace=True)"
   ]
  },
  {
   "cell_type": "code",
   "execution_count": 21,
   "metadata": {},
   "outputs": [
    {
     "data": {
      "text/plain": [
       "70280    51420.0\n",
       "27683    14400.0\n",
       "15171     1440.0\n",
       "71441     1100.0\n",
       "72424      808.0\n",
       "Name: runtime_minutes, dtype: float64"
      ]
     },
     "execution_count": 21,
     "metadata": {},
     "output_type": "execute_result"
    }
   ],
   "source": [
    "#runtimes sorted in descending order\n",
    "runtimes.sort_values(ascending = False).head()"
   ]
  },
  {
   "cell_type": "code",
   "execution_count": 22,
   "metadata": {},
   "outputs": [
    {
     "data": {
      "text/plain": [
       "94.6540400990398"
      ]
     },
     "execution_count": 22,
     "metadata": {},
     "output_type": "execute_result"
    }
   ],
   "source": [
    "# Total movies mean runtime\n",
    "total_mean_runtime = runtimes.mean()\n",
    "total_mean_runtime"
   ]
  },
  {
   "cell_type": "code",
   "execution_count": 23,
   "metadata": {},
   "outputs": [],
   "source": [
    "# top 100 runtimes\n",
    "top_100_rt = top_100_movies.runtime_minutes\n",
    "top_100_rt.dropna(inplace=True)"
   ]
  },
  {
   "cell_type": "code",
   "execution_count": 24,
   "metadata": {},
   "outputs": [
    {
     "data": {
      "text/plain": [
       "127.99"
      ]
     },
     "execution_count": 24,
     "metadata": {},
     "output_type": "execute_result"
    }
   ],
   "source": [
    "# top 100 mean runtimes\n",
    "top_100_mean_rt = top_100_rt.mean()\n",
    "top_100_mean_rt"
   ]
  },
  {
   "cell_type": "code",
   "execution_count": 25,
   "metadata": {
    "scrolled": true
   },
   "outputs": [
    {
     "data": {
      "image/png": "[encoded data removed]",
      "text/plain": [
       "<Figure size 432x288 with 1 Axes>"
      ]
     },
     "metadata": {
      "needs_background": "light"
     },
     "output_type": "display_data"
    }
   ],
   "source": [
    "top_100_rt_hist = sns.histplot(top_100_rt, kde=True)\n",
    "top_100_rt_hist;"
   ]
  },
  {
   "cell_type": "code",
   "execution_count": 28,
   "metadata": {},
   "outputs": [
    {
     "data": {
      "text/plain": [
       "93.26160003652356"
      ]
     },
     "execution_count": 28,
     "metadata": {},
     "output_type": "execute_result"
    }
   ],
   "source": [
    "cleaned_movies = movie_info[(movie_info.runtime_minutes < 180) & (movie_info.runtime_minutes > 30)]\n",
    "clean_movies_mean_rt = cleaned_movies.runtime_minutes.mean()\n",
    "clean_movies_mean_rt"
   ]
  },
  {
   "cell_type": "code",
   "execution_count": 29,
   "metadata": {},
   "outputs": [
    {
     "data": {
      "image/png": "[encoded data removed]",
      "text/plain": [
       "<Figure size 432x288 with 1 Axes>"
      ]
     },
     "metadata": {
      "needs_background": "light"
     },
     "output_type": "display_data"
    }
   ],
   "source": [
    "clean_rt_hist = sns.histplot(cleaned_movies.runtime_minutes, kde=True, bins = 50)\n",
    "clean_rt_hist;"
   ]
  },
  {
   "cell_type": "markdown",
   "metadata": {},
   "source": [
    "## Top Revenue Section"
   ]
  },
  {
   "cell_type": "code",
   "execution_count": 27,
   "metadata": {
    "scrolled": true
   },
   "outputs": [
    {
     "data": {
      "text/html": [
       "<div>\n",
       "<style scoped>\n",
       "    .dataframe tbody tr th:only-of-type {\n",
       "        vertical-align: middle;\n",
       "    }\n",
       "\n",
       "    .dataframe tbody tr th {\n",
       "        vertical-align: top;\n",
       "    }\n",
       "\n",
       "    .dataframe thead th {\n",
       "        text-align: right;\n",
       "    }\n",
       "</style>\n",
       "<table border=\"1\" class=\"dataframe\">\n",
       "  <thead>\n",
       "    <tr style=\"text-align: right;\">\n",
       "      <th></th>\n",
       "      <th>id</th>\n",
       "      <th>release_date</th>\n",
       "      <th>movie</th>\n",
       "      <th>production_budget</th>\n",
       "      <th>domestic_gross</th>\n",
       "      <th>worldwide_gross</th>\n",
       "    </tr>\n",
       "  </thead>\n",
       "  <tbody>\n",
       "    <tr>\n",
       "      <th>0</th>\n",
       "      <td>1</td>\n",
       "      <td>Dec 18, 2009</td>\n",
       "      <td>Avatar</td>\n",
       "      <td>$425,000,000</td>\n",
       "      <td>$760,507,625</td>\n",
       "      <td>$2,776,345,279</td>\n",
       "    </tr>\n",
       "    <tr>\n",
       "      <th>1</th>\n",
       "      <td>2</td>\n",
       "      <td>May 20, 2011</td>\n",
       "      <td>Pirates of the Caribbean: On Stranger Tides</td>\n",
       "      <td>$410,600,000</td>\n",
       "      <td>$241,063,875</td>\n",
       "      <td>$1,045,663,875</td>\n",
       "    </tr>\n",
       "    <tr>\n",
       "      <th>2</th>\n",
       "      <td>3</td>\n",
       "      <td>Jun 7, 2019</td>\n",
       "      <td>Dark Phoenix</td>\n",
       "      <td>$350,000,000</td>\n",
       "      <td>$42,762,350</td>\n",
       "      <td>$149,762,350</td>\n",
       "    </tr>\n",
       "    <tr>\n",
       "      <th>3</th>\n",
       "      <td>4</td>\n",
       "      <td>May 1, 2015</td>\n",
       "      <td>Avengers: Age of Ultron</td>\n",
       "      <td>$330,600,000</td>\n",
       "      <td>$459,005,868</td>\n",
       "      <td>$1,403,013,963</td>\n",
       "    </tr>\n",
       "    <tr>\n",
       "      <th>4</th>\n",
       "      <td>5</td>\n",
       "      <td>Dec 15, 2017</td>\n",
       "      <td>Star Wars Ep. VIII: The Last Jedi</td>\n",
       "      <td>$317,000,000</td>\n",
       "      <td>$620,181,382</td>\n",
       "      <td>$1,316,721,747</td>\n",
       "    </tr>\n",
       "  </tbody>\n",
       "</table>\n",
       "</div>"
      ],
      "text/plain": [
       "   id  release_date                                        movie  \\\n",
       "0   1  Dec 18, 2009                                       Avatar   \n",
       "1   2  May 20, 2011  Pirates of the Caribbean: On Stranger Tides   \n",
       "2   3   Jun 7, 2019                                 Dark Phoenix   \n",
       "3   4   May 1, 2015                      Avengers: Age of Ultron   \n",
       "4   5  Dec 15, 2017            Star Wars Ep. VIII: The Last Jedi   \n",
       "\n",
       "  production_budget domestic_gross worldwide_gross  \n",
       "0      $425,000,000   $760,507,625  $2,776,345,279  \n",
       "1      $410,600,000   $241,063,875  $1,045,663,875  \n",
       "2      $350,000,000    $42,762,350    $149,762,350  \n",
       "3      $330,600,000   $459,005,868  $1,403,013,963  \n",
       "4      $317,000,000   $620,181,382  $1,316,721,747  "
      ]
     },
     "execution_count": 27,
     "metadata": {},
     "output_type": "execute_result"
    }
   ],
   "source": [
    "# Read in Data For Revenue Section\n",
    "budgets = pd.read_csv('Files/tn.movie_budgets.csv.gz')\n",
    "budgets.head()"
   ]
  },
  {
   "cell_type": "code",
   "execution_count": 28,
   "metadata": {
    "scrolled": true
   },
   "outputs": [
    {
     "data": {
      "text/html": [
       "<div>\n",
       "<style scoped>\n",
       "    .dataframe tbody tr th:only-of-type {\n",
       "        vertical-align: middle;\n",
       "    }\n",
       "\n",
       "    .dataframe tbody tr th {\n",
       "        vertical-align: top;\n",
       "    }\n",
       "\n",
       "    .dataframe thead th {\n",
       "        text-align: right;\n",
       "    }\n",
       "</style>\n",
       "<table border=\"1\" class=\"dataframe\">\n",
       "  <thead>\n",
       "    <tr style=\"text-align: right;\">\n",
       "      <th></th>\n",
       "      <th>id</th>\n",
       "      <th>release_date</th>\n",
       "      <th>movie</th>\n",
       "      <th>production_budget</th>\n",
       "      <th>domestic_gross</th>\n",
       "      <th>worldwide_gross</th>\n",
       "    </tr>\n",
       "  </thead>\n",
       "  <tbody>\n",
       "    <tr>\n",
       "      <th>0</th>\n",
       "      <td>1</td>\n",
       "      <td>Dec 18, 2009</td>\n",
       "      <td>Avatar</td>\n",
       "      <td>425,000,000</td>\n",
       "      <td>760,507,625</td>\n",
       "      <td>2,776,345,279</td>\n",
       "    </tr>\n",
       "    <tr>\n",
       "      <th>1</th>\n",
       "      <td>2</td>\n",
       "      <td>May 20, 2011</td>\n",
       "      <td>Pirates of the Caribbean: On Stranger Tides</td>\n",
       "      <td>410,600,000</td>\n",
       "      <td>241,063,875</td>\n",
       "      <td>1,045,663,875</td>\n",
       "    </tr>\n",
       "    <tr>\n",
       "      <th>2</th>\n",
       "      <td>3</td>\n",
       "      <td>Jun 7, 2019</td>\n",
       "      <td>Dark Phoenix</td>\n",
       "      <td>350,000,000</td>\n",
       "      <td>42,762,350</td>\n",
       "      <td>149,762,350</td>\n",
       "    </tr>\n",
       "    <tr>\n",
       "      <th>3</th>\n",
       "      <td>4</td>\n",
       "      <td>May 1, 2015</td>\n",
       "      <td>Avengers: Age of Ultron</td>\n",
       "      <td>330,600,000</td>\n",
       "      <td>459,005,868</td>\n",
       "      <td>1,403,013,963</td>\n",
       "    </tr>\n",
       "    <tr>\n",
       "      <th>4</th>\n",
       "      <td>5</td>\n",
       "      <td>Dec 15, 2017</td>\n",
       "      <td>Star Wars Ep. VIII: The Last Jedi</td>\n",
       "      <td>317,000,000</td>\n",
       "      <td>620,181,382</td>\n",
       "      <td>1,316,721,747</td>\n",
       "    </tr>\n",
       "  </tbody>\n",
       "</table>\n",
       "</div>"
      ],
      "text/plain": [
       "   id  release_date                                        movie  \\\n",
       "0   1  Dec 18, 2009                                       Avatar   \n",
       "1   2  May 20, 2011  Pirates of the Caribbean: On Stranger Tides   \n",
       "2   3   Jun 7, 2019                                 Dark Phoenix   \n",
       "3   4   May 1, 2015                      Avengers: Age of Ultron   \n",
       "4   5  Dec 15, 2017            Star Wars Ep. VIII: The Last Jedi   \n",
       "\n",
       "  production_budget domestic_gross worldwide_gross  \n",
       "0       425,000,000    760,507,625   2,776,345,279  \n",
       "1       410,600,000    241,063,875   1,045,663,875  \n",
       "2       350,000,000     42,762,350     149,762,350  \n",
       "3       330,600,000    459,005,868   1,403,013,963  \n",
       "4       317,000,000    620,181,382   1,316,721,747  "
      ]
     },
     "execution_count": 28,
     "metadata": {},
     "output_type": "execute_result"
    }
   ],
   "source": [
    "# Removing dollar signs from budget columns to allow for manipulation\n",
    "budgets['production_budget'] = budgets['production_budget'].str.replace('$','')\n",
    "budgets['domestic_gross'] = budgets['domestic_gross'].str.replace('$','')\n",
    "budgets['worldwide_gross'] = budgets['worldwide_gross'].str.replace('$','')\n",
    "budgets.head()"
   ]
  },
  {
   "cell_type": "code",
   "execution_count": 30,
   "metadata": {},
   "outputs": [
    {
     "data": {
      "text/html": [
       "<div>\n",
       "<style scoped>\n",
       "    .dataframe tbody tr th:only-of-type {\n",
       "        vertical-align: middle;\n",
       "    }\n",
       "\n",
       "    .dataframe tbody tr th {\n",
       "        vertical-align: top;\n",
       "    }\n",
       "\n",
       "    .dataframe thead th {\n",
       "        text-align: right;\n",
       "    }\n",
       "</style>\n",
       "<table border=\"1\" class=\"dataframe\">\n",
       "  <thead>\n",
       "    <tr style=\"text-align: right;\">\n",
       "      <th></th>\n",
       "      <th>primary_title</th>\n",
       "      <th>production_budget</th>\n",
       "      <th>domestic_gross</th>\n",
       "      <th>worldwide_gross</th>\n",
       "    </tr>\n",
       "  </thead>\n",
       "  <tbody>\n",
       "    <tr>\n",
       "      <th>0</th>\n",
       "      <td>Avatar</td>\n",
       "      <td>425000000</td>\n",
       "      <td>760507625</td>\n",
       "      <td>2776345279</td>\n",
       "    </tr>\n",
       "    <tr>\n",
       "      <th>1</th>\n",
       "      <td>Pirates of the Caribbean: On Stranger Tides</td>\n",
       "      <td>410600000</td>\n",
       "      <td>241063875</td>\n",
       "      <td>1045663875</td>\n",
       "    </tr>\n",
       "    <tr>\n",
       "      <th>2</th>\n",
       "      <td>Dark Phoenix</td>\n",
       "      <td>350000000</td>\n",
       "      <td>42762350</td>\n",
       "      <td>149762350</td>\n",
       "    </tr>\n",
       "    <tr>\n",
       "      <th>3</th>\n",
       "      <td>Avengers: Age of Ultron</td>\n",
       "      <td>330600000</td>\n",
       "      <td>459005868</td>\n",
       "      <td>1403013963</td>\n",
       "    </tr>\n",
       "    <tr>\n",
       "      <th>4</th>\n",
       "      <td>Star Wars Ep. VIII: The Last Jedi</td>\n",
       "      <td>317000000</td>\n",
       "      <td>620181382</td>\n",
       "      <td>1316721747</td>\n",
       "    </tr>\n",
       "  </tbody>\n",
       "</table>\n",
       "</div>"
      ],
      "text/plain": [
       "                                 primary_title production_budget  \\\n",
       "0                                       Avatar         425000000   \n",
       "1  Pirates of the Caribbean: On Stranger Tides         410600000   \n",
       "2                                 Dark Phoenix         350000000   \n",
       "3                      Avengers: Age of Ultron         330600000   \n",
       "4            Star Wars Ep. VIII: The Last Jedi         317000000   \n",
       "\n",
       "  domestic_gross worldwide_gross  \n",
       "0      760507625      2776345279  \n",
       "1      241063875      1045663875  \n",
       "2       42762350       149762350  \n",
       "3      459005868      1403013963  \n",
       "4      620181382      1316721747  "
      ]
     },
     "execution_count": 30,
     "metadata": {},
     "output_type": "execute_result"
    }
   ],
   "source": [
    "#Dropping uneccesary rows\n",
    "budgets = budgets.drop(columns=['id', 'release_date'])\n",
    "# Rename movie row to primary_title for consistency with previous tables\n",
    "budgets = budgets.rename(columns={'movie': 'primary_title'})\n",
    "budgets.head()"
   ]
  },
  {
   "cell_type": "code",
   "execution_count": 31,
   "metadata": {
    "scrolled": true
   },
   "outputs": [
    {
     "data": {
      "text/plain": [
       "primary_title        object\n",
       "production_budget    object\n",
       "domestic_gross       object\n",
       "worldwide_gross      object\n",
       "dtype: object"
      ]
     },
     "execution_count": 31,
     "metadata": {},
     "output_type": "execute_result"
    }
   ],
   "source": [
    "#Checking Data Types\n",
    "budgets.dtypes"
   ]
  },
  {
   "cell_type": "code",
   "execution_count": 32,
   "metadata": {},
   "outputs": [
    {
     "data": {
      "text/plain": [
       "primary_title         object\n",
       "production_budget    float64\n",
       "domestic_gross       float64\n",
       "worldwide_gross      float64\n",
       "dtype: object"
      ]
     },
     "execution_count": 32,
     "metadata": {},
     "output_type": "execute_result"
    }
   ],
   "source": [
    "#Changing datatypes to int\n",
    "budgets['production_budget'] = budgets['production_budget'].astype(float)\n",
    "budgets['domestic_gross'] = budgets['domestic_gross'].astype(float)\n",
    "budgets['worldwide_gross'] = budgets['worldwide_gross'].astype(float)\n",
    "#verify Data Types Changed\n",
    "budgets.dtypes"
   ]
  },
  {
   "cell_type": "code",
   "execution_count": 33,
   "metadata": {},
   "outputs": [
    {
     "data": {
      "text/html": [
       "<div>\n",
       "<style scoped>\n",
       "    .dataframe tbody tr th:only-of-type {\n",
       "        vertical-align: middle;\n",
       "    }\n",
       "\n",
       "    .dataframe tbody tr th {\n",
       "        vertical-align: top;\n",
       "    }\n",
       "\n",
       "    .dataframe thead th {\n",
       "        text-align: right;\n",
       "    }\n",
       "</style>\n",
       "<table border=\"1\" class=\"dataframe\">\n",
       "  <thead>\n",
       "    <tr style=\"text-align: right;\">\n",
       "      <th></th>\n",
       "      <th>primary_title</th>\n",
       "      <th>production_budget</th>\n",
       "      <th>domestic_gross</th>\n",
       "      <th>worldwide_gross</th>\n",
       "      <th>net_revenue</th>\n",
       "    </tr>\n",
       "  </thead>\n",
       "  <tbody>\n",
       "    <tr>\n",
       "      <th>0</th>\n",
       "      <td>Avatar</td>\n",
       "      <td>425000000.0</td>\n",
       "      <td>760507625.0</td>\n",
       "      <td>2.776345e+09</td>\n",
       "      <td>2.351345e+09</td>\n",
       "    </tr>\n",
       "    <tr>\n",
       "      <th>1</th>\n",
       "      <td>Pirates of the Caribbean: On Stranger Tides</td>\n",
       "      <td>410600000.0</td>\n",
       "      <td>241063875.0</td>\n",
       "      <td>1.045664e+09</td>\n",
       "      <td>6.350639e+08</td>\n",
       "    </tr>\n",
       "    <tr>\n",
       "      <th>2</th>\n",
       "      <td>Dark Phoenix</td>\n",
       "      <td>350000000.0</td>\n",
       "      <td>42762350.0</td>\n",
       "      <td>1.497624e+08</td>\n",
       "      <td>-2.002376e+08</td>\n",
       "    </tr>\n",
       "    <tr>\n",
       "      <th>3</th>\n",
       "      <td>Avengers: Age of Ultron</td>\n",
       "      <td>330600000.0</td>\n",
       "      <td>459005868.0</td>\n",
       "      <td>1.403014e+09</td>\n",
       "      <td>1.072414e+09</td>\n",
       "    </tr>\n",
       "    <tr>\n",
       "      <th>4</th>\n",
       "      <td>Star Wars Ep. VIII: The Last Jedi</td>\n",
       "      <td>317000000.0</td>\n",
       "      <td>620181382.0</td>\n",
       "      <td>1.316722e+09</td>\n",
       "      <td>9.997217e+08</td>\n",
       "    </tr>\n",
       "  </tbody>\n",
       "</table>\n",
       "</div>"
      ],
      "text/plain": [
       "                                 primary_title  production_budget  \\\n",
       "0                                       Avatar        425000000.0   \n",
       "1  Pirates of the Caribbean: On Stranger Tides        410600000.0   \n",
       "2                                 Dark Phoenix        350000000.0   \n",
       "3                      Avengers: Age of Ultron        330600000.0   \n",
       "4            Star Wars Ep. VIII: The Last Jedi        317000000.0   \n",
       "\n",
       "   domestic_gross  worldwide_gross   net_revenue  \n",
       "0     760507625.0     2.776345e+09  2.351345e+09  \n",
       "1     241063875.0     1.045664e+09  6.350639e+08  \n",
       "2      42762350.0     1.497624e+08 -2.002376e+08  \n",
       "3     459005868.0     1.403014e+09  1.072414e+09  \n",
       "4     620181382.0     1.316722e+09  9.997217e+08  "
      ]
     },
     "execution_count": 33,
     "metadata": {},
     "output_type": "execute_result"
    }
   ],
   "source": [
    "#adding net revenue columns\n",
    "net = budgets.worldwide_gross - budgets.production_budget\n",
    "budgets['net_revenue'] = net\n",
    "budgets.head()"
   ]
  },
  {
   "cell_type": "code",
   "execution_count": 34,
   "metadata": {
    "scrolled": true
   },
   "outputs": [
    {
     "name": "stdout",
     "output_type": "stream",
     "text": [
      "<class 'pandas.core.frame.DataFrame'>\n",
      "RangeIndex: 5782 entries, 0 to 5781\n",
      "Data columns (total 5 columns):\n",
      " #   Column             Non-Null Count  Dtype  \n",
      "---  ------             --------------  -----  \n",
      " 0   primary_title      5782 non-null   object \n",
      " 1   production_budget  5782 non-null   float64\n",
      " 2   domestic_gross     5782 non-null   float64\n",
      " 3   worldwide_gross    5782 non-null   float64\n",
      " 4   net_revenue        5782 non-null   float64\n",
      "dtypes: float64(4), object(1)\n",
      "memory usage: 226.0+ KB\n"
     ]
    }
   ],
   "source": [
    "# verify info and checking for null values\n",
    "budgets.info()"
   ]
  },
  {
   "cell_type": "code",
   "execution_count": 35,
   "metadata": {},
   "outputs": [
    {
     "data": {
      "text/html": [
       "<div>\n",
       "<style scoped>\n",
       "    .dataframe tbody tr th:only-of-type {\n",
       "        vertical-align: middle;\n",
       "    }\n",
       "\n",
       "    .dataframe tbody tr th {\n",
       "        vertical-align: top;\n",
       "    }\n",
       "\n",
       "    .dataframe thead th {\n",
       "        text-align: right;\n",
       "    }\n",
       "</style>\n",
       "<table border=\"1\" class=\"dataframe\">\n",
       "  <thead>\n",
       "    <tr style=\"text-align: right;\">\n",
       "      <th></th>\n",
       "      <th>primary_title</th>\n",
       "      <th>production_budget</th>\n",
       "      <th>domestic_gross</th>\n",
       "      <th>worldwide_gross</th>\n",
       "      <th>net_revenue</th>\n",
       "      <th>movie_id</th>\n",
       "      <th>avg_rating</th>\n",
       "      <th>num_votes</th>\n",
       "    </tr>\n",
       "  </thead>\n",
       "  <tbody>\n",
       "    <tr>\n",
       "      <th>0</th>\n",
       "      <td>Avatar</td>\n",
       "      <td>425000000.0</td>\n",
       "      <td>760507625.0</td>\n",
       "      <td>2.776345e+09</td>\n",
       "      <td>2.351345e+09</td>\n",
       "      <td>tt1775309</td>\n",
       "      <td>6.1</td>\n",
       "      <td>43</td>\n",
       "    </tr>\n",
       "    <tr>\n",
       "      <th>1</th>\n",
       "      <td>Pirates of the Caribbean: On Stranger Tides</td>\n",
       "      <td>410600000.0</td>\n",
       "      <td>241063875.0</td>\n",
       "      <td>1.045664e+09</td>\n",
       "      <td>6.350639e+08</td>\n",
       "      <td>tt1298650</td>\n",
       "      <td>6.6</td>\n",
       "      <td>447624</td>\n",
       "    </tr>\n",
       "    <tr>\n",
       "      <th>2</th>\n",
       "      <td>Dark Phoenix</td>\n",
       "      <td>350000000.0</td>\n",
       "      <td>42762350.0</td>\n",
       "      <td>1.497624e+08</td>\n",
       "      <td>-2.002376e+08</td>\n",
       "      <td>tt6565702</td>\n",
       "      <td>6.0</td>\n",
       "      <td>24451</td>\n",
       "    </tr>\n",
       "    <tr>\n",
       "      <th>3</th>\n",
       "      <td>Avengers: Age of Ultron</td>\n",
       "      <td>330600000.0</td>\n",
       "      <td>459005868.0</td>\n",
       "      <td>1.403014e+09</td>\n",
       "      <td>1.072414e+09</td>\n",
       "      <td>tt2395427</td>\n",
       "      <td>7.3</td>\n",
       "      <td>665594</td>\n",
       "    </tr>\n",
       "    <tr>\n",
       "      <th>4</th>\n",
       "      <td>Avengers: Infinity War</td>\n",
       "      <td>300000000.0</td>\n",
       "      <td>678815482.0</td>\n",
       "      <td>2.048134e+09</td>\n",
       "      <td>1.748134e+09</td>\n",
       "      <td>tt4154756</td>\n",
       "      <td>8.5</td>\n",
       "      <td>670926</td>\n",
       "    </tr>\n",
       "  </tbody>\n",
       "</table>\n",
       "</div>"
      ],
      "text/plain": [
       "                                 primary_title  production_budget  \\\n",
       "0                                       Avatar        425000000.0   \n",
       "1  Pirates of the Caribbean: On Stranger Tides        410600000.0   \n",
       "2                                 Dark Phoenix        350000000.0   \n",
       "3                      Avengers: Age of Ultron        330600000.0   \n",
       "4                       Avengers: Infinity War        300000000.0   \n",
       "\n",
       "   domestic_gross  worldwide_gross   net_revenue   movie_id  avg_rating  \\\n",
       "0     760507625.0     2.776345e+09  2.351345e+09  tt1775309         6.1   \n",
       "1     241063875.0     1.045664e+09  6.350639e+08  tt1298650         6.6   \n",
       "2      42762350.0     1.497624e+08 -2.002376e+08  tt6565702         6.0   \n",
       "3     459005868.0     1.403014e+09  1.072414e+09  tt2395427         7.3   \n",
       "4     678815482.0     2.048134e+09  1.748134e+09  tt4154756         8.5   \n",
       "\n",
       "   num_votes  \n",
       "0         43  \n",
       "1     447624  \n",
       "2      24451  \n",
       "3     665594  \n",
       "4     670926  "
      ]
     },
     "execution_count": 35,
     "metadata": {},
     "output_type": "execute_result"
    }
   ],
   "source": [
    "# Merging budgets dataframe with movie_info to get budgets and ratings together\n",
    "revenue_ratings = pd.merge(budgets, movie_info, how='inner', on='primary_title')\n",
    "# Drop Unnecessary columns\n",
    "revenue_ratings = revenue_ratings.drop(columns=['genres', 'runtime_minutes', 'start_year', 'original_title'])\n",
    "# Rename columns for consistency\n",
    "revenue_ratings = revenue_ratings.rename(columns={'averagerating': 'avg_rating', 'numvotes': 'num_votes'})\n",
    "# View Dataframe\n",
    "revenue_ratings.head()"
   ]
  },
  {
   "cell_type": "code",
   "execution_count": 36,
   "metadata": {
    "scrolled": true
   },
   "outputs": [
    {
     "data": {
      "image/png": "[encoded data removed]",
      "text/plain": [
       "<Figure size 432x288 with 1 Axes>"
      ]
     },
     "metadata": {
      "needs_background": "light"
     },
     "output_type": "display_data"
    }
   ],
   "source": [
    "# Generate a scatter plot of num_votes vs net revenue\n",
    "revenue_ratings = revenue_ratings.sort_values(by='num_votes', ascending=False)\n",
    "revenue_ratings.plot(kind='scatter', x='num_votes', y='net_revenue');"
   ]
  },
  {
   "cell_type": "code",
   "execution_count": 37,
   "metadata": {
    "scrolled": true
   },
   "outputs": [
    {
     "data": {
      "text/html": [
       "<div>\n",
       "<style scoped>\n",
       "    .dataframe tbody tr th:only-of-type {\n",
       "        vertical-align: middle;\n",
       "    }\n",
       "\n",
       "    .dataframe tbody tr th {\n",
       "        vertical-align: top;\n",
       "    }\n",
       "\n",
       "    .dataframe thead th {\n",
       "        text-align: right;\n",
       "    }\n",
       "</style>\n",
       "<table border=\"1\" class=\"dataframe\">\n",
       "  <thead>\n",
       "    <tr style=\"text-align: right;\">\n",
       "      <th></th>\n",
       "      <th>primary_title</th>\n",
       "      <th>production_budget</th>\n",
       "      <th>domestic_gross</th>\n",
       "      <th>worldwide_gross</th>\n",
       "      <th>net_revenue</th>\n",
       "      <th>movie_id</th>\n",
       "      <th>genres</th>\n",
       "      <th>ordering</th>\n",
       "      <th>person_id</th>\n",
       "      <th>category</th>\n",
       "      <th>primary_name</th>\n",
       "    </tr>\n",
       "  </thead>\n",
       "  <tbody>\n",
       "    <tr>\n",
       "      <th>0</th>\n",
       "      <td>Avatar</td>\n",
       "      <td>425000000.0</td>\n",
       "      <td>760507625.0</td>\n",
       "      <td>2.776345e+09</td>\n",
       "      <td>2.351345e+09</td>\n",
       "      <td>tt1775309</td>\n",
       "      <td>Horror</td>\n",
       "      <td>2</td>\n",
       "      <td>nm2603323</td>\n",
       "      <td>actress</td>\n",
       "      <td>Rikako Sakata</td>\n",
       "    </tr>\n",
       "    <tr>\n",
       "      <th>1</th>\n",
       "      <td>Avatar</td>\n",
       "      <td>425000000.0</td>\n",
       "      <td>760507625.0</td>\n",
       "      <td>2.776345e+09</td>\n",
       "      <td>2.351345e+09</td>\n",
       "      <td>tt1775309</td>\n",
       "      <td>Horror</td>\n",
       "      <td>7</td>\n",
       "      <td>nm4392664</td>\n",
       "      <td>writer</td>\n",
       "      <td>Teruo Noguchi</td>\n",
       "    </tr>\n",
       "    <tr>\n",
       "      <th>2</th>\n",
       "      <td>Avatar</td>\n",
       "      <td>425000000.0</td>\n",
       "      <td>760507625.0</td>\n",
       "      <td>2.776345e+09</td>\n",
       "      <td>2.351345e+09</td>\n",
       "      <td>tt1775309</td>\n",
       "      <td>Horror</td>\n",
       "      <td>1</td>\n",
       "      <td>nm1169797</td>\n",
       "      <td>actress</td>\n",
       "      <td>Ai Hashimoto</td>\n",
       "    </tr>\n",
       "    <tr>\n",
       "      <th>3</th>\n",
       "      <td>Avatar</td>\n",
       "      <td>425000000.0</td>\n",
       "      <td>760507625.0</td>\n",
       "      <td>2.776345e+09</td>\n",
       "      <td>2.351345e+09</td>\n",
       "      <td>tt1775309</td>\n",
       "      <td>Horror</td>\n",
       "      <td>6</td>\n",
       "      <td>nm2179863</td>\n",
       "      <td>writer</td>\n",
       "      <td>Yûsuke Yamada</td>\n",
       "    </tr>\n",
       "    <tr>\n",
       "      <th>4</th>\n",
       "      <td>Avatar</td>\n",
       "      <td>425000000.0</td>\n",
       "      <td>760507625.0</td>\n",
       "      <td>2.776345e+09</td>\n",
       "      <td>2.351345e+09</td>\n",
       "      <td>tt1775309</td>\n",
       "      <td>Horror</td>\n",
       "      <td>9</td>\n",
       "      <td>nm3328592</td>\n",
       "      <td>cinematographer</td>\n",
       "      <td>Tôru Hirao</td>\n",
       "    </tr>\n",
       "    <tr>\n",
       "      <th>...</th>\n",
       "      <td>...</td>\n",
       "      <td>...</td>\n",
       "      <td>...</td>\n",
       "      <td>...</td>\n",
       "      <td>...</td>\n",
       "      <td>...</td>\n",
       "      <td>...</td>\n",
       "      <td>...</td>\n",
       "      <td>...</td>\n",
       "      <td>...</td>\n",
       "      <td>...</td>\n",
       "    </tr>\n",
       "    <tr>\n",
       "      <th>27140</th>\n",
       "      <td>A Plague So Pleasant</td>\n",
       "      <td>1400.0</td>\n",
       "      <td>0.0</td>\n",
       "      <td>0.000000e+00</td>\n",
       "      <td>-1.400000e+03</td>\n",
       "      <td>tt2107644</td>\n",
       "      <td>Drama,Horror,Thriller</td>\n",
       "      <td>1</td>\n",
       "      <td>nm4572412</td>\n",
       "      <td>actress</td>\n",
       "      <td>Eva Boehnke</td>\n",
       "    </tr>\n",
       "    <tr>\n",
       "      <th>27141</th>\n",
       "      <td>A Plague So Pleasant</td>\n",
       "      <td>1400.0</td>\n",
       "      <td>0.0</td>\n",
       "      <td>0.000000e+00</td>\n",
       "      <td>-1.400000e+03</td>\n",
       "      <td>tt2107644</td>\n",
       "      <td>Drama,Horror,Thriller</td>\n",
       "      <td>2</td>\n",
       "      <td>nm4767160</td>\n",
       "      <td>actor</td>\n",
       "      <td>David Chandler</td>\n",
       "    </tr>\n",
       "    <tr>\n",
       "      <th>27142</th>\n",
       "      <td>A Plague So Pleasant</td>\n",
       "      <td>1400.0</td>\n",
       "      <td>0.0</td>\n",
       "      <td>0.000000e+00</td>\n",
       "      <td>-1.400000e+03</td>\n",
       "      <td>tt2107644</td>\n",
       "      <td>Drama,Horror,Thriller</td>\n",
       "      <td>3</td>\n",
       "      <td>nm5497357</td>\n",
       "      <td>actor</td>\n",
       "      <td>Maxwell Moody</td>\n",
       "    </tr>\n",
       "    <tr>\n",
       "      <th>27143</th>\n",
       "      <td>A Plague So Pleasant</td>\n",
       "      <td>1400.0</td>\n",
       "      <td>0.0</td>\n",
       "      <td>0.000000e+00</td>\n",
       "      <td>-1.400000e+03</td>\n",
       "      <td>tt2107644</td>\n",
       "      <td>Drama,Horror,Thriller</td>\n",
       "      <td>4</td>\n",
       "      <td>nm4766951</td>\n",
       "      <td>director</td>\n",
       "      <td>Benjamin Roberds</td>\n",
       "    </tr>\n",
       "    <tr>\n",
       "      <th>27144</th>\n",
       "      <td>A Plague So Pleasant</td>\n",
       "      <td>1400.0</td>\n",
       "      <td>0.0</td>\n",
       "      <td>0.000000e+00</td>\n",
       "      <td>-1.400000e+03</td>\n",
       "      <td>tt2107644</td>\n",
       "      <td>Drama,Horror,Thriller</td>\n",
       "      <td>5</td>\n",
       "      <td>nm5792320</td>\n",
       "      <td>director</td>\n",
       "      <td>Jordan Reyes</td>\n",
       "    </tr>\n",
       "  </tbody>\n",
       "</table>\n",
       "<p>27145 rows × 11 columns</p>\n",
       "</div>"
      ],
      "text/plain": [
       "              primary_title  production_budget  domestic_gross  \\\n",
       "0                    Avatar        425000000.0     760507625.0   \n",
       "1                    Avatar        425000000.0     760507625.0   \n",
       "2                    Avatar        425000000.0     760507625.0   \n",
       "3                    Avatar        425000000.0     760507625.0   \n",
       "4                    Avatar        425000000.0     760507625.0   \n",
       "...                     ...                ...             ...   \n",
       "27140  A Plague So Pleasant             1400.0             0.0   \n",
       "27141  A Plague So Pleasant             1400.0             0.0   \n",
       "27142  A Plague So Pleasant             1400.0             0.0   \n",
       "27143  A Plague So Pleasant             1400.0             0.0   \n",
       "27144  A Plague So Pleasant             1400.0             0.0   \n",
       "\n",
       "       worldwide_gross   net_revenue   movie_id                 genres  \\\n",
       "0         2.776345e+09  2.351345e+09  tt1775309                 Horror   \n",
       "1         2.776345e+09  2.351345e+09  tt1775309                 Horror   \n",
       "2         2.776345e+09  2.351345e+09  tt1775309                 Horror   \n",
       "3         2.776345e+09  2.351345e+09  tt1775309                 Horror   \n",
       "4         2.776345e+09  2.351345e+09  tt1775309                 Horror   \n",
       "...                ...           ...        ...                    ...   \n",
       "27140     0.000000e+00 -1.400000e+03  tt2107644  Drama,Horror,Thriller   \n",
       "27141     0.000000e+00 -1.400000e+03  tt2107644  Drama,Horror,Thriller   \n",
       "27142     0.000000e+00 -1.400000e+03  tt2107644  Drama,Horror,Thriller   \n",
       "27143     0.000000e+00 -1.400000e+03  tt2107644  Drama,Horror,Thriller   \n",
       "27144     0.000000e+00 -1.400000e+03  tt2107644  Drama,Horror,Thriller   \n",
       "\n",
       "       ordering  person_id         category      primary_name  \n",
       "0             2  nm2603323          actress     Rikako Sakata  \n",
       "1             7  nm4392664           writer     Teruo Noguchi  \n",
       "2             1  nm1169797          actress      Ai Hashimoto  \n",
       "3             6  nm2179863           writer     Yûsuke Yamada  \n",
       "4             9  nm3328592  cinematographer        Tôru Hirao  \n",
       "...         ...        ...              ...               ...  \n",
       "27140         1  nm4572412          actress       Eva Boehnke  \n",
       "27141         2  nm4767160            actor    David Chandler  \n",
       "27142         3  nm5497357            actor     Maxwell Moody  \n",
       "27143         4  nm4766951         director  Benjamin Roberds  \n",
       "27144         5  nm5792320         director      Jordan Reyes  \n",
       "\n",
       "[27145 rows x 11 columns]"
      ]
     },
     "execution_count": 37,
     "metadata": {},
     "output_type": "execute_result"
    }
   ],
   "source": [
    "principal_persons = pd.merge(principals, persons, how='inner', on='person_id')\n",
    "budget_movie_info = pd.merge(budgets, movie_info, how='inner', on='primary_title')\n",
    "principal_revenue = pd.merge(budget_movie_info, principal_persons, how='inner', on='movie_id')\n",
    "principal_revenue = principal_revenue.drop(columns=['primary_profession', 'death_year', 'birth_year', 'runtime_minutes', 'start_year', 'original_title', 'job', 'characters', 'numvotes', 'averagerating'])\n",
    "principal_revenue"
   ]
  },
  {
   "cell_type": "code",
   "execution_count": 39,
   "metadata": {},
   "outputs": [],
   "source": [
    "# splitting genre values into new columns\n",
    "genre_split =principal_revenue[\"genres\"].str.split(\",\", n = 3, expand = True)\n",
    "genre_split = genre_split.rename(columns={0:'genre_1', 1:'genre_2', 2:'genre_3'})\n",
    "genre_rev = pd.merge(principal_revenue, genre_split, how='left', left_index=True, right_index=True)\n",
    "genre_rev = genre_rev.drop(columns='genres')\n",
    "genre_1_group = genre_rev.groupby('genre_1').sum()\n",
    "genre_1_net = genre_1_group.net_revenue\n",
    "genre_2_group = genre_rev.groupby('genre_2').sum()\n",
    "genre_2_net = genre_2_group.net_revenue\n",
    "genre_3_group = genre_rev.groupby('genre_3').sum()\n",
    "genre_3_net = genre_3_group.net_revenue"
   ]
  },
  {
   "cell_type": "code",
   "execution_count": 40,
   "metadata": {
    "scrolled": true
   },
   "outputs": [],
   "source": [
    "genre_net = pd.merge(genre_1_net, genre_2_net, how='inner', left_index=True, right_index=True)\n",
    "genre_net = pd.merge(genre_net, genre_3_net, how='inner', left_index=True, right_index=True)"
   ]
  },
  {
   "cell_type": "code",
   "execution_count": 41,
   "metadata": {},
   "outputs": [
    {
     "data": {
      "text/html": [
       "<div>\n",
       "<style scoped>\n",
       "    .dataframe tbody tr th:only-of-type {\n",
       "        vertical-align: middle;\n",
       "    }\n",
       "\n",
       "    .dataframe tbody tr th {\n",
       "        vertical-align: top;\n",
       "    }\n",
       "\n",
       "    .dataframe thead th {\n",
       "        text-align: right;\n",
       "    }\n",
       "</style>\n",
       "<table border=\"1\" class=\"dataframe\">\n",
       "  <thead>\n",
       "    <tr style=\"text-align: right;\">\n",
       "      <th></th>\n",
       "      <th>net_revenue_x</th>\n",
       "      <th>net_revenue_y</th>\n",
       "      <th>net_revenue</th>\n",
       "    </tr>\n",
       "  </thead>\n",
       "  <tbody>\n",
       "    <tr>\n",
       "      <th>Animation</th>\n",
       "      <td>2.941523e+10</td>\n",
       "      <td>2.148476e+11</td>\n",
       "      <td>5.478379e+10</td>\n",
       "    </tr>\n",
       "    <tr>\n",
       "      <th>Biography</th>\n",
       "      <td>6.940844e+10</td>\n",
       "      <td>1.166227e+10</td>\n",
       "      <td>5.854109e+09</td>\n",
       "    </tr>\n",
       "    <tr>\n",
       "      <th>Comedy</th>\n",
       "      <td>1.752321e+11</td>\n",
       "      <td>8.946004e+10</td>\n",
       "      <td>2.825198e+11</td>\n",
       "    </tr>\n",
       "    <tr>\n",
       "      <th>Crime</th>\n",
       "      <td>4.215682e+10</td>\n",
       "      <td>6.735418e+10</td>\n",
       "      <td>2.837762e+10</td>\n",
       "    </tr>\n",
       "    <tr>\n",
       "      <th>Documentary</th>\n",
       "      <td>2.981924e+10</td>\n",
       "      <td>1.167862e+10</td>\n",
       "      <td>2.179672e+09</td>\n",
       "    </tr>\n",
       "    <tr>\n",
       "      <th>Drama</th>\n",
       "      <td>2.161413e+11</td>\n",
       "      <td>2.401102e+11</td>\n",
       "      <td>8.153097e+10</td>\n",
       "    </tr>\n",
       "    <tr>\n",
       "      <th>Family</th>\n",
       "      <td>2.353142e+10</td>\n",
       "      <td>5.851053e+10</td>\n",
       "      <td>7.510038e+10</td>\n",
       "    </tr>\n",
       "    <tr>\n",
       "      <th>Fantasy</th>\n",
       "      <td>1.837238e+10</td>\n",
       "      <td>7.815723e+10</td>\n",
       "      <td>1.545671e+11</td>\n",
       "    </tr>\n",
       "    <tr>\n",
       "      <th>Horror</th>\n",
       "      <td>1.062479e+11</td>\n",
       "      <td>3.831941e+10</td>\n",
       "      <td>1.594683e+10</td>\n",
       "    </tr>\n",
       "    <tr>\n",
       "      <th>Music</th>\n",
       "      <td>-9.635270e+07</td>\n",
       "      <td>1.491899e+10</td>\n",
       "      <td>1.870022e+10</td>\n",
       "    </tr>\n",
       "    <tr>\n",
       "      <th>Musical</th>\n",
       "      <td>3.812412e+06</td>\n",
       "      <td>6.826363e+09</td>\n",
       "      <td>2.100309e+10</td>\n",
       "    </tr>\n",
       "    <tr>\n",
       "      <th>Mystery</th>\n",
       "      <td>6.482051e+09</td>\n",
       "      <td>6.617210e+10</td>\n",
       "      <td>3.392798e+10</td>\n",
       "    </tr>\n",
       "    <tr>\n",
       "      <th>Romance</th>\n",
       "      <td>3.907668e+08</td>\n",
       "      <td>8.770774e+10</td>\n",
       "      <td>5.043270e+10</td>\n",
       "    </tr>\n",
       "    <tr>\n",
       "      <th>Sci-Fi</th>\n",
       "      <td>1.041868e+10</td>\n",
       "      <td>3.380772e+10</td>\n",
       "      <td>3.102912e+11</td>\n",
       "    </tr>\n",
       "    <tr>\n",
       "      <th>Sport</th>\n",
       "      <td>-1.060360e+08</td>\n",
       "      <td>3.501514e+09</td>\n",
       "      <td>2.375076e+10</td>\n",
       "    </tr>\n",
       "    <tr>\n",
       "      <th>Thriller</th>\n",
       "      <td>1.623548e+10</td>\n",
       "      <td>6.071002e+10</td>\n",
       "      <td>1.900390e+11</td>\n",
       "    </tr>\n",
       "    <tr>\n",
       "      <th>War</th>\n",
       "      <td>-9.800895e+07</td>\n",
       "      <td>7.215724e+08</td>\n",
       "      <td>6.881406e+09</td>\n",
       "    </tr>\n",
       "    <tr>\n",
       "      <th>Western</th>\n",
       "      <td>-3.359274e+07</td>\n",
       "      <td>2.844828e+09</td>\n",
       "      <td>2.012553e+09</td>\n",
       "    </tr>\n",
       "  </tbody>\n",
       "</table>\n",
       "</div>"
      ],
      "text/plain": [
       "             net_revenue_x  net_revenue_y   net_revenue\n",
       "Animation     2.941523e+10   2.148476e+11  5.478379e+10\n",
       "Biography     6.940844e+10   1.166227e+10  5.854109e+09\n",
       "Comedy        1.752321e+11   8.946004e+10  2.825198e+11\n",
       "Crime         4.215682e+10   6.735418e+10  2.837762e+10\n",
       "Documentary   2.981924e+10   1.167862e+10  2.179672e+09\n",
       "Drama         2.161413e+11   2.401102e+11  8.153097e+10\n",
       "Family        2.353142e+10   5.851053e+10  7.510038e+10\n",
       "Fantasy       1.837238e+10   7.815723e+10  1.545671e+11\n",
       "Horror        1.062479e+11   3.831941e+10  1.594683e+10\n",
       "Music        -9.635270e+07   1.491899e+10  1.870022e+10\n",
       "Musical       3.812412e+06   6.826363e+09  2.100309e+10\n",
       "Mystery       6.482051e+09   6.617210e+10  3.392798e+10\n",
       "Romance       3.907668e+08   8.770774e+10  5.043270e+10\n",
       "Sci-Fi        1.041868e+10   3.380772e+10  3.102912e+11\n",
       "Sport        -1.060360e+08   3.501514e+09  2.375076e+10\n",
       "Thriller      1.623548e+10   6.071002e+10  1.900390e+11\n",
       "War          -9.800895e+07   7.215724e+08  6.881406e+09\n",
       "Western      -3.359274e+07   2.844828e+09  2.012553e+09"
      ]
     },
     "execution_count": 41,
     "metadata": {},
     "output_type": "execute_result"
    }
   ],
   "source": [
    "genre_net"
   ]
  },
  {
   "cell_type": "code",
   "execution_count": 42,
   "metadata": {
    "scrolled": true
   },
   "outputs": [],
   "source": [
    "genre_net['genre_net_avg'] = 0\n",
    "genre_net_avg = ((genre_net.net_revenue_x + genre_net.net_revenue_y + genre_net.net_revenue) / 3)\n",
    "genre_net['genre_net_avg'] = genre_net_avg"
   ]
  },
  {
   "cell_type": "code",
   "execution_count": 43,
   "metadata": {},
   "outputs": [
    {
     "data": {
      "text/html": [
       "<div>\n",
       "<style scoped>\n",
       "    .dataframe tbody tr th:only-of-type {\n",
       "        vertical-align: middle;\n",
       "    }\n",
       "\n",
       "    .dataframe tbody tr th {\n",
       "        vertical-align: top;\n",
       "    }\n",
       "\n",
       "    .dataframe thead th {\n",
       "        text-align: right;\n",
       "    }\n",
       "</style>\n",
       "<table border=\"1\" class=\"dataframe\">\n",
       "  <thead>\n",
       "    <tr style=\"text-align: right;\">\n",
       "      <th></th>\n",
       "      <th>net_revenue_x</th>\n",
       "      <th>net_revenue_y</th>\n",
       "      <th>net_revenue</th>\n",
       "      <th>genre_net_avg</th>\n",
       "    </tr>\n",
       "  </thead>\n",
       "  <tbody>\n",
       "    <tr>\n",
       "      <th>Animation</th>\n",
       "      <td>2.941523e+10</td>\n",
       "      <td>2.148476e+11</td>\n",
       "      <td>5.478379e+10</td>\n",
       "      <td>9.968221e+10</td>\n",
       "    </tr>\n",
       "    <tr>\n",
       "      <th>Biography</th>\n",
       "      <td>6.940844e+10</td>\n",
       "      <td>1.166227e+10</td>\n",
       "      <td>5.854109e+09</td>\n",
       "      <td>2.897494e+10</td>\n",
       "    </tr>\n",
       "    <tr>\n",
       "      <th>Comedy</th>\n",
       "      <td>1.752321e+11</td>\n",
       "      <td>8.946004e+10</td>\n",
       "      <td>2.825198e+11</td>\n",
       "      <td>1.824040e+11</td>\n",
       "    </tr>\n",
       "    <tr>\n",
       "      <th>Crime</th>\n",
       "      <td>4.215682e+10</td>\n",
       "      <td>6.735418e+10</td>\n",
       "      <td>2.837762e+10</td>\n",
       "      <td>4.596287e+10</td>\n",
       "    </tr>\n",
       "    <tr>\n",
       "      <th>Documentary</th>\n",
       "      <td>2.981924e+10</td>\n",
       "      <td>1.167862e+10</td>\n",
       "      <td>2.179672e+09</td>\n",
       "      <td>1.455917e+10</td>\n",
       "    </tr>\n",
       "    <tr>\n",
       "      <th>Drama</th>\n",
       "      <td>2.161413e+11</td>\n",
       "      <td>2.401102e+11</td>\n",
       "      <td>8.153097e+10</td>\n",
       "      <td>1.792608e+11</td>\n",
       "    </tr>\n",
       "    <tr>\n",
       "      <th>Family</th>\n",
       "      <td>2.353142e+10</td>\n",
       "      <td>5.851053e+10</td>\n",
       "      <td>7.510038e+10</td>\n",
       "      <td>5.238078e+10</td>\n",
       "    </tr>\n",
       "    <tr>\n",
       "      <th>Fantasy</th>\n",
       "      <td>1.837238e+10</td>\n",
       "      <td>7.815723e+10</td>\n",
       "      <td>1.545671e+11</td>\n",
       "      <td>8.369889e+10</td>\n",
       "    </tr>\n",
       "    <tr>\n",
       "      <th>Horror</th>\n",
       "      <td>1.062479e+11</td>\n",
       "      <td>3.831941e+10</td>\n",
       "      <td>1.594683e+10</td>\n",
       "      <td>5.350470e+10</td>\n",
       "    </tr>\n",
       "    <tr>\n",
       "      <th>Music</th>\n",
       "      <td>-9.635270e+07</td>\n",
       "      <td>1.491899e+10</td>\n",
       "      <td>1.870022e+10</td>\n",
       "      <td>1.117428e+10</td>\n",
       "    </tr>\n",
       "    <tr>\n",
       "      <th>Musical</th>\n",
       "      <td>3.812412e+06</td>\n",
       "      <td>6.826363e+09</td>\n",
       "      <td>2.100309e+10</td>\n",
       "      <td>9.277754e+09</td>\n",
       "    </tr>\n",
       "    <tr>\n",
       "      <th>Mystery</th>\n",
       "      <td>6.482051e+09</td>\n",
       "      <td>6.617210e+10</td>\n",
       "      <td>3.392798e+10</td>\n",
       "      <td>3.552738e+10</td>\n",
       "    </tr>\n",
       "    <tr>\n",
       "      <th>Romance</th>\n",
       "      <td>3.907668e+08</td>\n",
       "      <td>8.770774e+10</td>\n",
       "      <td>5.043270e+10</td>\n",
       "      <td>4.617707e+10</td>\n",
       "    </tr>\n",
       "    <tr>\n",
       "      <th>Sci-Fi</th>\n",
       "      <td>1.041868e+10</td>\n",
       "      <td>3.380772e+10</td>\n",
       "      <td>3.102912e+11</td>\n",
       "      <td>1.181725e+11</td>\n",
       "    </tr>\n",
       "    <tr>\n",
       "      <th>Sport</th>\n",
       "      <td>-1.060360e+08</td>\n",
       "      <td>3.501514e+09</td>\n",
       "      <td>2.375076e+10</td>\n",
       "      <td>9.048746e+09</td>\n",
       "    </tr>\n",
       "    <tr>\n",
       "      <th>Thriller</th>\n",
       "      <td>1.623548e+10</td>\n",
       "      <td>6.071002e+10</td>\n",
       "      <td>1.900390e+11</td>\n",
       "      <td>8.899483e+10</td>\n",
       "    </tr>\n",
       "    <tr>\n",
       "      <th>War</th>\n",
       "      <td>-9.800895e+07</td>\n",
       "      <td>7.215724e+08</td>\n",
       "      <td>6.881406e+09</td>\n",
       "      <td>2.501657e+09</td>\n",
       "    </tr>\n",
       "    <tr>\n",
       "      <th>Western</th>\n",
       "      <td>-3.359274e+07</td>\n",
       "      <td>2.844828e+09</td>\n",
       "      <td>2.012553e+09</td>\n",
       "      <td>1.607929e+09</td>\n",
       "    </tr>\n",
       "  </tbody>\n",
       "</table>\n",
       "</div>"
      ],
      "text/plain": [
       "             net_revenue_x  net_revenue_y   net_revenue  genre_net_avg\n",
       "Animation     2.941523e+10   2.148476e+11  5.478379e+10   9.968221e+10\n",
       "Biography     6.940844e+10   1.166227e+10  5.854109e+09   2.897494e+10\n",
       "Comedy        1.752321e+11   8.946004e+10  2.825198e+11   1.824040e+11\n",
       "Crime         4.215682e+10   6.735418e+10  2.837762e+10   4.596287e+10\n",
       "Documentary   2.981924e+10   1.167862e+10  2.179672e+09   1.455917e+10\n",
       "Drama         2.161413e+11   2.401102e+11  8.153097e+10   1.792608e+11\n",
       "Family        2.353142e+10   5.851053e+10  7.510038e+10   5.238078e+10\n",
       "Fantasy       1.837238e+10   7.815723e+10  1.545671e+11   8.369889e+10\n",
       "Horror        1.062479e+11   3.831941e+10  1.594683e+10   5.350470e+10\n",
       "Music        -9.635270e+07   1.491899e+10  1.870022e+10   1.117428e+10\n",
       "Musical       3.812412e+06   6.826363e+09  2.100309e+10   9.277754e+09\n",
       "Mystery       6.482051e+09   6.617210e+10  3.392798e+10   3.552738e+10\n",
       "Romance       3.907668e+08   8.770774e+10  5.043270e+10   4.617707e+10\n",
       "Sci-Fi        1.041868e+10   3.380772e+10  3.102912e+11   1.181725e+11\n",
       "Sport        -1.060360e+08   3.501514e+09  2.375076e+10   9.048746e+09\n",
       "Thriller      1.623548e+10   6.071002e+10  1.900390e+11   8.899483e+10\n",
       "War          -9.800895e+07   7.215724e+08  6.881406e+09   2.501657e+09\n",
       "Western      -3.359274e+07   2.844828e+09  2.012553e+09   1.607929e+09"
      ]
     },
     "execution_count": 43,
     "metadata": {},
     "output_type": "execute_result"
    }
   ],
   "source": [
    "genre_net"
   ]
  },
  {
   "cell_type": "code",
   "execution_count": 44,
   "metadata": {
    "scrolled": true
   },
   "outputs": [
    {
     "data": {
      "text/html": [
       "<div>\n",
       "<style scoped>\n",
       "    .dataframe tbody tr th:only-of-type {\n",
       "        vertical-align: middle;\n",
       "    }\n",
       "\n",
       "    .dataframe tbody tr th {\n",
       "        vertical-align: top;\n",
       "    }\n",
       "\n",
       "    .dataframe thead th {\n",
       "        text-align: right;\n",
       "    }\n",
       "</style>\n",
       "<table border=\"1\" class=\"dataframe\">\n",
       "  <thead>\n",
       "    <tr style=\"text-align: right;\">\n",
       "      <th></th>\n",
       "      <th>genres</th>\n",
       "      <th>net_revenue_x</th>\n",
       "      <th>net_revenue_y</th>\n",
       "      <th>net_revenue</th>\n",
       "      <th>genre_net_avg</th>\n",
       "    </tr>\n",
       "  </thead>\n",
       "  <tbody>\n",
       "    <tr>\n",
       "      <th>0</th>\n",
       "      <td>Animation</td>\n",
       "      <td>2.941523e+10</td>\n",
       "      <td>2.148476e+11</td>\n",
       "      <td>5.478379e+10</td>\n",
       "      <td>9.968221e+10</td>\n",
       "    </tr>\n",
       "    <tr>\n",
       "      <th>1</th>\n",
       "      <td>Biography</td>\n",
       "      <td>6.940844e+10</td>\n",
       "      <td>1.166227e+10</td>\n",
       "      <td>5.854109e+09</td>\n",
       "      <td>2.897494e+10</td>\n",
       "    </tr>\n",
       "    <tr>\n",
       "      <th>2</th>\n",
       "      <td>Comedy</td>\n",
       "      <td>1.752321e+11</td>\n",
       "      <td>8.946004e+10</td>\n",
       "      <td>2.825198e+11</td>\n",
       "      <td>1.824040e+11</td>\n",
       "    </tr>\n",
       "    <tr>\n",
       "      <th>3</th>\n",
       "      <td>Crime</td>\n",
       "      <td>4.215682e+10</td>\n",
       "      <td>6.735418e+10</td>\n",
       "      <td>2.837762e+10</td>\n",
       "      <td>4.596287e+10</td>\n",
       "    </tr>\n",
       "    <tr>\n",
       "      <th>4</th>\n",
       "      <td>Documentary</td>\n",
       "      <td>2.981924e+10</td>\n",
       "      <td>1.167862e+10</td>\n",
       "      <td>2.179672e+09</td>\n",
       "      <td>1.455917e+10</td>\n",
       "    </tr>\n",
       "    <tr>\n",
       "      <th>5</th>\n",
       "      <td>Drama</td>\n",
       "      <td>2.161413e+11</td>\n",
       "      <td>2.401102e+11</td>\n",
       "      <td>8.153097e+10</td>\n",
       "      <td>1.792608e+11</td>\n",
       "    </tr>\n",
       "    <tr>\n",
       "      <th>6</th>\n",
       "      <td>Family</td>\n",
       "      <td>2.353142e+10</td>\n",
       "      <td>5.851053e+10</td>\n",
       "      <td>7.510038e+10</td>\n",
       "      <td>5.238078e+10</td>\n",
       "    </tr>\n",
       "    <tr>\n",
       "      <th>7</th>\n",
       "      <td>Fantasy</td>\n",
       "      <td>1.837238e+10</td>\n",
       "      <td>7.815723e+10</td>\n",
       "      <td>1.545671e+11</td>\n",
       "      <td>8.369889e+10</td>\n",
       "    </tr>\n",
       "    <tr>\n",
       "      <th>8</th>\n",
       "      <td>Horror</td>\n",
       "      <td>1.062479e+11</td>\n",
       "      <td>3.831941e+10</td>\n",
       "      <td>1.594683e+10</td>\n",
       "      <td>5.350470e+10</td>\n",
       "    </tr>\n",
       "    <tr>\n",
       "      <th>9</th>\n",
       "      <td>Music</td>\n",
       "      <td>-9.635270e+07</td>\n",
       "      <td>1.491899e+10</td>\n",
       "      <td>1.870022e+10</td>\n",
       "      <td>1.117428e+10</td>\n",
       "    </tr>\n",
       "    <tr>\n",
       "      <th>10</th>\n",
       "      <td>Musical</td>\n",
       "      <td>3.812412e+06</td>\n",
       "      <td>6.826363e+09</td>\n",
       "      <td>2.100309e+10</td>\n",
       "      <td>9.277754e+09</td>\n",
       "    </tr>\n",
       "    <tr>\n",
       "      <th>11</th>\n",
       "      <td>Mystery</td>\n",
       "      <td>6.482051e+09</td>\n",
       "      <td>6.617210e+10</td>\n",
       "      <td>3.392798e+10</td>\n",
       "      <td>3.552738e+10</td>\n",
       "    </tr>\n",
       "    <tr>\n",
       "      <th>12</th>\n",
       "      <td>Romance</td>\n",
       "      <td>3.907668e+08</td>\n",
       "      <td>8.770774e+10</td>\n",
       "      <td>5.043270e+10</td>\n",
       "      <td>4.617707e+10</td>\n",
       "    </tr>\n",
       "    <tr>\n",
       "      <th>13</th>\n",
       "      <td>Sci-Fi</td>\n",
       "      <td>1.041868e+10</td>\n",
       "      <td>3.380772e+10</td>\n",
       "      <td>3.102912e+11</td>\n",
       "      <td>1.181725e+11</td>\n",
       "    </tr>\n",
       "    <tr>\n",
       "      <th>14</th>\n",
       "      <td>Sport</td>\n",
       "      <td>-1.060360e+08</td>\n",
       "      <td>3.501514e+09</td>\n",
       "      <td>2.375076e+10</td>\n",
       "      <td>9.048746e+09</td>\n",
       "    </tr>\n",
       "    <tr>\n",
       "      <th>15</th>\n",
       "      <td>Thriller</td>\n",
       "      <td>1.623548e+10</td>\n",
       "      <td>6.071002e+10</td>\n",
       "      <td>1.900390e+11</td>\n",
       "      <td>8.899483e+10</td>\n",
       "    </tr>\n",
       "    <tr>\n",
       "      <th>16</th>\n",
       "      <td>War</td>\n",
       "      <td>-9.800895e+07</td>\n",
       "      <td>7.215724e+08</td>\n",
       "      <td>6.881406e+09</td>\n",
       "      <td>2.501657e+09</td>\n",
       "    </tr>\n",
       "    <tr>\n",
       "      <th>17</th>\n",
       "      <td>Western</td>\n",
       "      <td>-3.359274e+07</td>\n",
       "      <td>2.844828e+09</td>\n",
       "      <td>2.012553e+09</td>\n",
       "      <td>1.607929e+09</td>\n",
       "    </tr>\n",
       "  </tbody>\n",
       "</table>\n",
       "</div>"
      ],
      "text/plain": [
       "         genres  net_revenue_x  net_revenue_y   net_revenue  genre_net_avg\n",
       "0     Animation   2.941523e+10   2.148476e+11  5.478379e+10   9.968221e+10\n",
       "1     Biography   6.940844e+10   1.166227e+10  5.854109e+09   2.897494e+10\n",
       "2        Comedy   1.752321e+11   8.946004e+10  2.825198e+11   1.824040e+11\n",
       "3         Crime   4.215682e+10   6.735418e+10  2.837762e+10   4.596287e+10\n",
       "4   Documentary   2.981924e+10   1.167862e+10  2.179672e+09   1.455917e+10\n",
       "5         Drama   2.161413e+11   2.401102e+11  8.153097e+10   1.792608e+11\n",
       "6        Family   2.353142e+10   5.851053e+10  7.510038e+10   5.238078e+10\n",
       "7       Fantasy   1.837238e+10   7.815723e+10  1.545671e+11   8.369889e+10\n",
       "8        Horror   1.062479e+11   3.831941e+10  1.594683e+10   5.350470e+10\n",
       "9         Music  -9.635270e+07   1.491899e+10  1.870022e+10   1.117428e+10\n",
       "10      Musical   3.812412e+06   6.826363e+09  2.100309e+10   9.277754e+09\n",
       "11      Mystery   6.482051e+09   6.617210e+10  3.392798e+10   3.552738e+10\n",
       "12      Romance   3.907668e+08   8.770774e+10  5.043270e+10   4.617707e+10\n",
       "13       Sci-Fi   1.041868e+10   3.380772e+10  3.102912e+11   1.181725e+11\n",
       "14        Sport  -1.060360e+08   3.501514e+09  2.375076e+10   9.048746e+09\n",
       "15     Thriller   1.623548e+10   6.071002e+10  1.900390e+11   8.899483e+10\n",
       "16          War  -9.800895e+07   7.215724e+08  6.881406e+09   2.501657e+09\n",
       "17      Western  -3.359274e+07   2.844828e+09  2.012553e+09   1.607929e+09"
      ]
     },
     "execution_count": 44,
     "metadata": {},
     "output_type": "execute_result"
    }
   ],
   "source": [
    "genre_net = genre_net.reset_index()\n",
    "genre_net = genre_net.rename(columns={'index': 'genres'})\n",
    "genre_net "
   ]
  },
  {
   "cell_type": "code",
   "execution_count": 45,
   "metadata": {},
   "outputs": [],
   "source": [
    "genre_net = genre_net.sort_values(by='genre_net_avg', ascending=False)"
   ]
  },
  {
   "cell_type": "markdown",
   "metadata": {
    "scrolled": true
   },
   "source": [
    "# Hannah, Ryan, Chris Collaboration Section"
   ]
  },
  {
   "cell_type": "markdown",
   "metadata": {},
   "source": [
    "## Genre Counts In Top 60 Movies\n"
   ]
  },
  {
   "cell_type": "markdown",
   "metadata": {},
   "source": [
    "### Imports and File Read-ins "
   ]
  },
  {
   "cell_type": "code",
   "execution_count": 96,
   "metadata": {},
   "outputs": [],
   "source": [
    "# imports\n",
    "import pandas as pd\n",
    "import numpy as np\n",
    "import matplotlib.pyplot as plt\n",
    "import seaborn as sns\n",
    "%matplotlib inline"
   ]
  },
  {
   "cell_type": "code",
   "execution_count": 98,
   "metadata": {},
   "outputs": [],
   "source": [
    "#IMBD file locations\n",
    "directors_file = \"files/imbd_files/directors.csv\"\n",
    "known_for_file= \"files/imbd_files/known_for.csv\"\n",
    "movie_akas_file = \"files/imbd_files/movie_akas.csv\"\n",
    "movie_basics_file = \"files/imbd_files/movie_basics.csv\"\n",
    "movie_ratings_file= \"files/imbd_files/movie_ratings.csv\"\n",
    "persons_file = \"files/imbd_files/persons.csv\"\n",
    "principals_file= \"files/imbd_files/principals.csv\"\n",
    "writers_file = \"files/imbd_files/writers.csv\"\n",
    "\n",
    "#IMBD files to read into dataframes\n",
    "directors = pd.read_csv(directors_file)\n",
    "known_for = pd.read_csv(known_for_file)\n",
    "movie_akas = pd.read_csv(movie_akas_file)\n",
    "movie_basics = pd.read_csv(movie_basics_file)\n",
    "movie_ratings = pd.read_csv(movie_ratings_file)\n",
    "persons = pd.read_csv(persons_file)\n",
    "principals = pd.read_csv(principals_file)\n",
    "writers = pd.read_csv(writers_file)\n",
    "\n",
    "# Read in Data For Revenue Section\n",
    "budgets = pd.read_csv('Files/tn.movie_budgets.csv.gz')"
   ]
  },
  {
   "cell_type": "markdown",
   "metadata": {},
   "source": [
    "### Preparing Budget Table For Merge"
   ]
  },
  {
   "cell_type": "code",
   "execution_count": 99,
   "metadata": {},
   "outputs": [],
   "source": [
    "# Removing dollar signs from budget columns to allow for manipulation\n",
    "budgets['production_budget'] = budgets['production_budget'].str.replace('$','')\n",
    "budgets['domestic_gross'] = budgets['domestic_gross'].str.replace('$','')\n",
    "budgets['worldwide_gross'] = budgets['worldwide_gross'].str.replace('$','')"
   ]
  },
  {
   "cell_type": "code",
   "execution_count": 100,
   "metadata": {},
   "outputs": [],
   "source": [
    "# Removing commas from budget columns to allow for manipulation\n",
    "budgets['production_budget'] = budgets['production_budget'].str.replace(',','')\n",
    "budgets['domestic_gross'] = budgets['domestic_gross'].str.replace(',','')\n",
    "budgets['worldwide_gross'] = budgets['worldwide_gross'].str.replace(',','')"
   ]
  },
  {
   "cell_type": "code",
   "execution_count": 101,
   "metadata": {},
   "outputs": [
    {
     "data": {
      "text/html": [
       "<div>\n",
       "<style scoped>\n",
       "    .dataframe tbody tr th:only-of-type {\n",
       "        vertical-align: middle;\n",
       "    }\n",
       "\n",
       "    .dataframe tbody tr th {\n",
       "        vertical-align: top;\n",
       "    }\n",
       "\n",
       "    .dataframe thead th {\n",
       "        text-align: right;\n",
       "    }\n",
       "</style>\n",
       "<table border=\"1\" class=\"dataframe\">\n",
       "  <thead>\n",
       "    <tr style=\"text-align: right;\">\n",
       "      <th></th>\n",
       "      <th>primary_title</th>\n",
       "      <th>production_budget</th>\n",
       "      <th>domestic_gross</th>\n",
       "      <th>worldwide_gross</th>\n",
       "    </tr>\n",
       "  </thead>\n",
       "  <tbody>\n",
       "    <tr>\n",
       "      <th>0</th>\n",
       "      <td>Avatar</td>\n",
       "      <td>425000000</td>\n",
       "      <td>760507625</td>\n",
       "      <td>2776345279</td>\n",
       "    </tr>\n",
       "    <tr>\n",
       "      <th>1</th>\n",
       "      <td>Pirates of the Caribbean: On Stranger Tides</td>\n",
       "      <td>410600000</td>\n",
       "      <td>241063875</td>\n",
       "      <td>1045663875</td>\n",
       "    </tr>\n",
       "    <tr>\n",
       "      <th>2</th>\n",
       "      <td>Dark Phoenix</td>\n",
       "      <td>350000000</td>\n",
       "      <td>42762350</td>\n",
       "      <td>149762350</td>\n",
       "    </tr>\n",
       "    <tr>\n",
       "      <th>3</th>\n",
       "      <td>Avengers: Age of Ultron</td>\n",
       "      <td>330600000</td>\n",
       "      <td>459005868</td>\n",
       "      <td>1403013963</td>\n",
       "    </tr>\n",
       "    <tr>\n",
       "      <th>4</th>\n",
       "      <td>Star Wars Ep. VIII: The Last Jedi</td>\n",
       "      <td>317000000</td>\n",
       "      <td>620181382</td>\n",
       "      <td>1316721747</td>\n",
       "    </tr>\n",
       "  </tbody>\n",
       "</table>\n",
       "</div>"
      ],
      "text/plain": [
       "                                 primary_title production_budget  \\\n",
       "0                                       Avatar         425000000   \n",
       "1  Pirates of the Caribbean: On Stranger Tides         410600000   \n",
       "2                                 Dark Phoenix         350000000   \n",
       "3                      Avengers: Age of Ultron         330600000   \n",
       "4            Star Wars Ep. VIII: The Last Jedi         317000000   \n",
       "\n",
       "  domestic_gross worldwide_gross  \n",
       "0      760507625      2776345279  \n",
       "1      241063875      1045663875  \n",
       "2       42762350       149762350  \n",
       "3      459005868      1403013963  \n",
       "4      620181382      1316721747  "
      ]
     },
     "execution_count": 101,
     "metadata": {},
     "output_type": "execute_result"
    }
   ],
   "source": [
    "#Dropping uneccesary rows\n",
    "budgets = budgets.drop(columns=['id', 'release_date'])\n",
    "# Rename movie row to primary_title for consistency with previous tables\n",
    "budgets = budgets.rename(columns={'movie': 'primary_title'})\n",
    "budgets.head()"
   ]
  },
  {
   "cell_type": "code",
   "execution_count": 102,
   "metadata": {},
   "outputs": [
    {
     "data": {
      "text/plain": [
       "primary_title        object\n",
       "production_budget    object\n",
       "domestic_gross       object\n",
       "worldwide_gross      object\n",
       "dtype: object"
      ]
     },
     "execution_count": 102,
     "metadata": {},
     "output_type": "execute_result"
    }
   ],
   "source": [
    "#Checking Data Types\n",
    "budgets.dtypes"
   ]
  },
  {
   "cell_type": "code",
   "execution_count": 103,
   "metadata": {},
   "outputs": [
    {
     "data": {
      "text/plain": [
       "primary_title         object\n",
       "production_budget    float64\n",
       "domestic_gross       float64\n",
       "worldwide_gross      float64\n",
       "dtype: object"
      ]
     },
     "execution_count": 103,
     "metadata": {},
     "output_type": "execute_result"
    }
   ],
   "source": [
    "#Changing datatypes to int\n",
    "budgets['production_budget'] = budgets['production_budget'].astype(float)\n",
    "budgets['domestic_gross'] = budgets['domestic_gross'].astype(float)\n",
    "budgets['worldwide_gross'] = budgets['worldwide_gross'].astype(float)\n",
    "budgets.dtypes"
   ]
  },
  {
   "cell_type": "code",
   "execution_count": 104,
   "metadata": {},
   "outputs": [
    {
     "data": {
      "text/html": [
       "<div>\n",
       "<style scoped>\n",
       "    .dataframe tbody tr th:only-of-type {\n",
       "        vertical-align: middle;\n",
       "    }\n",
       "\n",
       "    .dataframe tbody tr th {\n",
       "        vertical-align: top;\n",
       "    }\n",
       "\n",
       "    .dataframe thead th {\n",
       "        text-align: right;\n",
       "    }\n",
       "</style>\n",
       "<table border=\"1\" class=\"dataframe\">\n",
       "  <thead>\n",
       "    <tr style=\"text-align: right;\">\n",
       "      <th></th>\n",
       "      <th>primary_title</th>\n",
       "      <th>production_budget</th>\n",
       "      <th>domestic_gross</th>\n",
       "      <th>worldwide_gross</th>\n",
       "      <th>net_revenue</th>\n",
       "    </tr>\n",
       "  </thead>\n",
       "  <tbody>\n",
       "    <tr>\n",
       "      <th>0</th>\n",
       "      <td>Avatar</td>\n",
       "      <td>425000000.0</td>\n",
       "      <td>760507625.0</td>\n",
       "      <td>2.776345e+09</td>\n",
       "      <td>2.351345e+09</td>\n",
       "    </tr>\n",
       "    <tr>\n",
       "      <th>1</th>\n",
       "      <td>Pirates of the Caribbean: On Stranger Tides</td>\n",
       "      <td>410600000.0</td>\n",
       "      <td>241063875.0</td>\n",
       "      <td>1.045664e+09</td>\n",
       "      <td>6.350639e+08</td>\n",
       "    </tr>\n",
       "    <tr>\n",
       "      <th>2</th>\n",
       "      <td>Dark Phoenix</td>\n",
       "      <td>350000000.0</td>\n",
       "      <td>42762350.0</td>\n",
       "      <td>1.497624e+08</td>\n",
       "      <td>-2.002376e+08</td>\n",
       "    </tr>\n",
       "    <tr>\n",
       "      <th>3</th>\n",
       "      <td>Avengers: Age of Ultron</td>\n",
       "      <td>330600000.0</td>\n",
       "      <td>459005868.0</td>\n",
       "      <td>1.403014e+09</td>\n",
       "      <td>1.072414e+09</td>\n",
       "    </tr>\n",
       "    <tr>\n",
       "      <th>4</th>\n",
       "      <td>Star Wars Ep. VIII: The Last Jedi</td>\n",
       "      <td>317000000.0</td>\n",
       "      <td>620181382.0</td>\n",
       "      <td>1.316722e+09</td>\n",
       "      <td>9.997217e+08</td>\n",
       "    </tr>\n",
       "  </tbody>\n",
       "</table>\n",
       "</div>"
      ],
      "text/plain": [
       "                                 primary_title  production_budget  \\\n",
       "0                                       Avatar        425000000.0   \n",
       "1  Pirates of the Caribbean: On Stranger Tides        410600000.0   \n",
       "2                                 Dark Phoenix        350000000.0   \n",
       "3                      Avengers: Age of Ultron        330600000.0   \n",
       "4            Star Wars Ep. VIII: The Last Jedi        317000000.0   \n",
       "\n",
       "   domestic_gross  worldwide_gross   net_revenue  \n",
       "0     760507625.0     2.776345e+09  2.351345e+09  \n",
       "1     241063875.0     1.045664e+09  6.350639e+08  \n",
       "2      42762350.0     1.497624e+08 -2.002376e+08  \n",
       "3     459005868.0     1.403014e+09  1.072414e+09  \n",
       "4     620181382.0     1.316722e+09  9.997217e+08  "
      ]
     },
     "execution_count": 104,
     "metadata": {},
     "output_type": "execute_result"
    }
   ],
   "source": [
    "#adding net revenue columns\n",
    "net = budgets.worldwide_gross - budgets.production_budget\n",
    "budgets['net_revenue'] = net\n",
    "budgets.head()"
   ]
  },
  {
   "cell_type": "code",
   "execution_count": 105,
   "metadata": {},
   "outputs": [
    {
     "name": "stdout",
     "output_type": "stream",
     "text": [
      "<class 'pandas.core.frame.DataFrame'>\n",
      "RangeIndex: 5782 entries, 0 to 5781\n",
      "Data columns (total 5 columns):\n",
      " #   Column             Non-Null Count  Dtype  \n",
      "---  ------             --------------  -----  \n",
      " 0   primary_title      5782 non-null   object \n",
      " 1   production_budget  5782 non-null   float64\n",
      " 2   domestic_gross     5782 non-null   float64\n",
      " 3   worldwide_gross    5782 non-null   float64\n",
      " 4   net_revenue        5782 non-null   float64\n",
      "dtypes: float64(4), object(1)\n",
      "memory usage: 226.0+ KB\n"
     ]
    }
   ],
   "source": [
    "# verify info and checking for null values\n",
    "budgets.info()"
   ]
  },
  {
   "cell_type": "markdown",
   "metadata": {},
   "source": [
    "### Genre Counts In Top 60 Movies Based on Rating (Popularity)"
   ]
  },
  {
   "cell_type": "code",
   "execution_count": 106,
   "metadata": {},
   "outputs": [],
   "source": [
    "# merge movie ratings with movie basics\n",
    "movie_rating_info = pd.merge(movie_basics, movie_ratings, how=\"inner\", on='movie_id')"
   ]
  },
  {
   "cell_type": "code",
   "execution_count": 107,
   "metadata": {},
   "outputs": [],
   "source": [
    "# movies sort by most votes and avereage rating\n",
    "movie_rating_info_sorted = movie_rating_info.sort_values(by=['numvotes', 'averagerating'], ascending=False)\n",
    "# top 60 movies selected based on rating\n",
    "top_60_pop = movie_rating_info_sorted.iloc[:60]\n",
    "# top 60 rated movies resorted by movie rating\n",
    "top_60_pop = top_60_pop.sort_values(by='averagerating', ascending=False)\n",
    "#index reseted for top 60 rated movies\n",
    "top_60_pop = top_60_pop.reset_index().drop(columns='index')\n",
    "# select columns renamed for consistency among columns\n",
    "top_60_pop = top_60_pop.rename(columns={'numvotes': 'num_votes', 'averagerating': 'avg_rating'})"
   ]
  },
  {
   "cell_type": "code",
   "execution_count": 108,
   "metadata": {
    "scrolled": true
   },
   "outputs": [
    {
     "data": {
      "text/plain": [
       "Adventure    39\n",
       "Action       32\n",
       "Sci-Fi       23\n",
       "Drama        20\n",
       "Fantasy      10\n",
       "Comedy        9\n",
       "Thriller      9\n",
       "Biography     8\n",
       "Mystery       5\n",
       "Crime         5\n",
       "Animation     3\n",
       "History       2\n",
       "Family        1\n",
       "Horror        1\n",
       "Romance       1\n",
       "Western       1\n",
       "Music         1\n",
       "dtype: int64"
      ]
     },
     "execution_count": 108,
     "metadata": {},
     "output_type": "execute_result"
    }
   ],
   "source": [
    "# Declaring new variable to split genre data into separate columns\n",
    "pop_string_split = top_60_pop\n",
    "# splitting genre values into new columns\n",
    "pop_genre_split = pop_string_split[\"genres\"].str.split(\",\", n = 3, expand = True)\n",
    "# concatination genre columns into 1 series\n",
    "top_60_pop_genres = pd.concat([pop_genre_split[0], pop_genre_split[1], pop_genre_split[2]])\n",
    "# drop na from genre series\n",
    "top_60_pop_genres = top_60_pop_genres.dropna()\n",
    "# counting genre counts in top 100 movie list\n",
    "top_60_pop_genre_counts = top_60_pop_genres.value_counts()\n",
    "top_60_pop_genre_counts"
   ]
  },
  {
   "cell_type": "code",
   "execution_count": 109,
   "metadata": {},
   "outputs": [
    {
     "data": {
      "image/png": "[encoded data removed]",
      "text/plain": [
       "<Figure size 576x288 with 1 Axes>"
      ]
     },
     "metadata": {
      "needs_background": "light"
     },
     "output_type": "display_data"
    }
   ],
   "source": [
    "# bar plot of top 60 genre counts based on popularity\n",
    "top_60_pop_genre_counts.plot(kind='bar', figsize=(8, 4), title='Number of Times Genre Appeares in the Top 60 Movies Based On Rating', );"
   ]
  },
  {
   "cell_type": "markdown",
   "metadata": {},
   "source": [
    "### Genre Counts In Top 60 Movies Based on Net Revenue"
   ]
  },
  {
   "cell_type": "code",
   "execution_count": 110,
   "metadata": {
    "scrolled": true
   },
   "outputs": [],
   "source": [
    "# merge movie basics with budget\n",
    "movie_revenue_info = pd.merge(movie_basics, budgets, how=\"inner\", on='primary_title')\n"
   ]
  },
  {
   "cell_type": "code",
   "execution_count": 111,
   "metadata": {},
   "outputs": [],
   "source": [
    "#Drop Duplicate Titles\n",
    "movie_revenue_info = movie_revenue_info.drop_duplicates(subset=['primary_title'])"
   ]
  },
  {
   "cell_type": "code",
   "execution_count": 112,
   "metadata": {},
   "outputs": [],
   "source": [
    "# movies sort by net revenue\n",
    "revenue_sorted = movie_revenue_info.sort_values(by='net_revenue', ascending=False)\n",
    "# top 60 movies selected\n",
    "top_60_rev = revenue_sorted.iloc[:60]\n",
    "# top 60 movies sorted specifically by movie rating\n",
    "top_60_rev = top_60_rev.reset_index().drop(columns='index')"
   ]
  },
  {
   "cell_type": "code",
   "execution_count": 113,
   "metadata": {
    "scrolled": true
   },
   "outputs": [
    {
     "data": {
      "text/plain": [
       "Adventure    48\n",
       "Action       33\n",
       "Sci-Fi       19\n",
       "Comedy       15\n",
       "Animation    13\n",
       "Fantasy      11\n",
       "Thriller      8\n",
       "Drama         7\n",
       "Crime         3\n",
       "Family        3\n",
       "Horror        2\n",
       "Romance       1\n",
       "Biography     1\n",
       "Music         1\n",
       "Sport         1\n",
       "dtype: int64"
      ]
     },
     "execution_count": 113,
     "metadata": {},
     "output_type": "execute_result"
    }
   ],
   "source": [
    "# Declaring new variable to split genre data into separate columns\n",
    "string_split_rev = top_60_rev\n",
    "# splitting genre values into new columns\n",
    "genre_split_rev = string_split_rev[\"genres\"].str.split(\",\", n = 3, expand = True)\n",
    "# concatination genre columns into 1 series\n",
    "top_60_rev_genres = pd.concat([genre_split_rev[0], genre_split_rev[1], genre_split_rev[2]])\n",
    "# drop na from genre series\n",
    "top_60_rev_genres = top_60_movies_genres.dropna()\n",
    "# counting genre counts in top 100 movie list\n",
    "top_60_rev_genre_counts = top_60_rev_genres.value_counts()\n",
    "top_60_rev_genre_counts"
   ]
  },
  {
   "cell_type": "code",
   "execution_count": 114,
   "metadata": {},
   "outputs": [
    {
     "data": {
      "image/png": "[encoded data removed]",
      "text/plain": [
       "<Figure size 576x288 with 1 Axes>"
      ]
     },
     "metadata": {
      "needs_background": "light"
     },
     "output_type": "display_data"
    }
   ],
   "source": [
    "# bar plot of top 60 genre counts based on popularity\n",
    "top_60_pop_genre_counts.plot(kind='bar', figsize=(8, 4), title='Number of Times Genre Appeares in the Top 60 Movies Based On Net Revenue');"
   ]
  }
 ],
 "metadata": {
  "kernelspec": {
   "display_name": "Python (learn-env)",
   "language": "python",
   "name": "learn-env"
  },
  "language_info": {
   "codemirror_mode": {
    "name": "ipython",
    "version": 3
   },
   "file_extension": ".py",
   "mimetype": "text/x-python",
   "name": "python",
   "nbconvert_exporter": "python",
   "pygments_lexer": "ipython3",
   "version": "3.8.5"
  }
 },
 "nbformat": 4,
 "nbformat_minor": 4
}
