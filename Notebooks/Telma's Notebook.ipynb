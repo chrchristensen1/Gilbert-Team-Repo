{
 "cells": [
  {
   "cell_type": "code",
   "execution_count": 3,
   "metadata": {},
   "outputs": [],
   "source": [
    "import pandas as pd\n",
    "import matplotlib.pyplot as plt"
   ]
  },
  {
   "cell_type": "code",
   "execution_count": 4,
   "metadata": {},
   "outputs": [
    {
     "data": {
      "text/html": [
       "<div>\n",
       "<style scoped>\n",
       "    .dataframe tbody tr th:only-of-type {\n",
       "        vertical-align: middle;\n",
       "    }\n",
       "\n",
       "    .dataframe tbody tr th {\n",
       "        vertical-align: top;\n",
       "    }\n",
       "\n",
       "    .dataframe thead th {\n",
       "        text-align: right;\n",
       "    }\n",
       "</style>\n",
       "<table border=\"1\" class=\"dataframe\">\n",
       "  <thead>\n",
       "    <tr style=\"text-align: right;\">\n",
       "      <th></th>\n",
       "      <th>id</th>\n",
       "      <th>synopsis</th>\n",
       "      <th>rating</th>\n",
       "      <th>genre</th>\n",
       "      <th>director</th>\n",
       "      <th>writer</th>\n",
       "      <th>theater_date</th>\n",
       "      <th>dvd_date</th>\n",
       "      <th>currency</th>\n",
       "      <th>box_office</th>\n",
       "      <th>runtime</th>\n",
       "      <th>studio</th>\n",
       "    </tr>\n",
       "  </thead>\n",
       "  <tbody>\n",
       "    <tr>\n",
       "      <th>0</th>\n",
       "      <td>1</td>\n",
       "      <td>This gritty, fast-paced, and innovative police...</td>\n",
       "      <td>R</td>\n",
       "      <td>Action and Adventure|Classics|Drama</td>\n",
       "      <td>William Friedkin</td>\n",
       "      <td>Ernest Tidyman</td>\n",
       "      <td>Oct 9, 1971</td>\n",
       "      <td>Sep 25, 2001</td>\n",
       "      <td>NaN</td>\n",
       "      <td>NaN</td>\n",
       "      <td>104 minutes</td>\n",
       "      <td>NaN</td>\n",
       "    </tr>\n",
       "    <tr>\n",
       "      <th>1</th>\n",
       "      <td>3</td>\n",
       "      <td>New York City, not-too-distant-future: Eric Pa...</td>\n",
       "      <td>R</td>\n",
       "      <td>Drama|Science Fiction and Fantasy</td>\n",
       "      <td>David Cronenberg</td>\n",
       "      <td>David Cronenberg|Don DeLillo</td>\n",
       "      <td>Aug 17, 2012</td>\n",
       "      <td>Jan 1, 2013</td>\n",
       "      <td>$</td>\n",
       "      <td>600,000</td>\n",
       "      <td>108 minutes</td>\n",
       "      <td>Entertainment One</td>\n",
       "    </tr>\n",
       "    <tr>\n",
       "      <th>2</th>\n",
       "      <td>5</td>\n",
       "      <td>Illeana Douglas delivers a superb performance ...</td>\n",
       "      <td>R</td>\n",
       "      <td>Drama|Musical and Performing Arts</td>\n",
       "      <td>Allison Anders</td>\n",
       "      <td>Allison Anders</td>\n",
       "      <td>Sep 13, 1996</td>\n",
       "      <td>Apr 18, 2000</td>\n",
       "      <td>NaN</td>\n",
       "      <td>NaN</td>\n",
       "      <td>116 minutes</td>\n",
       "      <td>NaN</td>\n",
       "    </tr>\n",
       "    <tr>\n",
       "      <th>3</th>\n",
       "      <td>6</td>\n",
       "      <td>Michael Douglas runs afoul of a treacherous su...</td>\n",
       "      <td>R</td>\n",
       "      <td>Drama|Mystery and Suspense</td>\n",
       "      <td>Barry Levinson</td>\n",
       "      <td>Paul Attanasio|Michael Crichton</td>\n",
       "      <td>Dec 9, 1994</td>\n",
       "      <td>Aug 27, 1997</td>\n",
       "      <td>NaN</td>\n",
       "      <td>NaN</td>\n",
       "      <td>128 minutes</td>\n",
       "      <td>NaN</td>\n",
       "    </tr>\n",
       "    <tr>\n",
       "      <th>4</th>\n",
       "      <td>7</td>\n",
       "      <td>NaN</td>\n",
       "      <td>NR</td>\n",
       "      <td>Drama|Romance</td>\n",
       "      <td>Rodney Bennett</td>\n",
       "      <td>Giles Cooper</td>\n",
       "      <td>NaN</td>\n",
       "      <td>NaN</td>\n",
       "      <td>NaN</td>\n",
       "      <td>NaN</td>\n",
       "      <td>200 minutes</td>\n",
       "      <td>NaN</td>\n",
       "    </tr>\n",
       "    <tr>\n",
       "      <th>...</th>\n",
       "      <td>...</td>\n",
       "      <td>...</td>\n",
       "      <td>...</td>\n",
       "      <td>...</td>\n",
       "      <td>...</td>\n",
       "      <td>...</td>\n",
       "      <td>...</td>\n",
       "      <td>...</td>\n",
       "      <td>...</td>\n",
       "      <td>...</td>\n",
       "      <td>...</td>\n",
       "      <td>...</td>\n",
       "    </tr>\n",
       "    <tr>\n",
       "      <th>1555</th>\n",
       "      <td>1996</td>\n",
       "      <td>Forget terrorists or hijackers -- there's a ha...</td>\n",
       "      <td>R</td>\n",
       "      <td>Action and Adventure|Horror|Mystery and Suspense</td>\n",
       "      <td>NaN</td>\n",
       "      <td>NaN</td>\n",
       "      <td>Aug 18, 2006</td>\n",
       "      <td>Jan 2, 2007</td>\n",
       "      <td>$</td>\n",
       "      <td>33,886,034</td>\n",
       "      <td>106 minutes</td>\n",
       "      <td>New Line Cinema</td>\n",
       "    </tr>\n",
       "    <tr>\n",
       "      <th>1556</th>\n",
       "      <td>1997</td>\n",
       "      <td>The popular Saturday Night Live sketch was exp...</td>\n",
       "      <td>PG</td>\n",
       "      <td>Comedy|Science Fiction and Fantasy</td>\n",
       "      <td>Steve Barron</td>\n",
       "      <td>Terry Turner|Tom Davis|Dan Aykroyd|Bonnie Turner</td>\n",
       "      <td>Jul 23, 1993</td>\n",
       "      <td>Apr 17, 2001</td>\n",
       "      <td>NaN</td>\n",
       "      <td>NaN</td>\n",
       "      <td>88 minutes</td>\n",
       "      <td>Paramount Vantage</td>\n",
       "    </tr>\n",
       "    <tr>\n",
       "      <th>1557</th>\n",
       "      <td>1998</td>\n",
       "      <td>Based on a novel by Richard Powell, when the l...</td>\n",
       "      <td>G</td>\n",
       "      <td>Classics|Comedy|Drama|Musical and Performing Arts</td>\n",
       "      <td>Gordon Douglas</td>\n",
       "      <td>NaN</td>\n",
       "      <td>Jan 1, 1962</td>\n",
       "      <td>May 11, 2004</td>\n",
       "      <td>NaN</td>\n",
       "      <td>NaN</td>\n",
       "      <td>111 minutes</td>\n",
       "      <td>NaN</td>\n",
       "    </tr>\n",
       "    <tr>\n",
       "      <th>1558</th>\n",
       "      <td>1999</td>\n",
       "      <td>The Sandlot is a coming-of-age story about a g...</td>\n",
       "      <td>PG</td>\n",
       "      <td>Comedy|Drama|Kids and Family|Sports and Fitness</td>\n",
       "      <td>David Mickey Evans</td>\n",
       "      <td>David Mickey Evans|Robert Gunter</td>\n",
       "      <td>Apr 1, 1993</td>\n",
       "      <td>Jan 29, 2002</td>\n",
       "      <td>NaN</td>\n",
       "      <td>NaN</td>\n",
       "      <td>101 minutes</td>\n",
       "      <td>NaN</td>\n",
       "    </tr>\n",
       "    <tr>\n",
       "      <th>1559</th>\n",
       "      <td>2000</td>\n",
       "      <td>Suspended from the force, Paris cop Hubert is ...</td>\n",
       "      <td>R</td>\n",
       "      <td>Action and Adventure|Art House and Internation...</td>\n",
       "      <td>NaN</td>\n",
       "      <td>Luc Besson</td>\n",
       "      <td>Sep 27, 2001</td>\n",
       "      <td>Feb 11, 2003</td>\n",
       "      <td>NaN</td>\n",
       "      <td>NaN</td>\n",
       "      <td>94 minutes</td>\n",
       "      <td>Columbia Pictures</td>\n",
       "    </tr>\n",
       "  </tbody>\n",
       "</table>\n",
       "<p>1560 rows × 12 columns</p>\n",
       "</div>"
      ],
      "text/plain": [
       "        id                                           synopsis rating  \\\n",
       "0        1  This gritty, fast-paced, and innovative police...      R   \n",
       "1        3  New York City, not-too-distant-future: Eric Pa...      R   \n",
       "2        5  Illeana Douglas delivers a superb performance ...      R   \n",
       "3        6  Michael Douglas runs afoul of a treacherous su...      R   \n",
       "4        7                                                NaN     NR   \n",
       "...    ...                                                ...    ...   \n",
       "1555  1996  Forget terrorists or hijackers -- there's a ha...      R   \n",
       "1556  1997  The popular Saturday Night Live sketch was exp...     PG   \n",
       "1557  1998  Based on a novel by Richard Powell, when the l...      G   \n",
       "1558  1999  The Sandlot is a coming-of-age story about a g...     PG   \n",
       "1559  2000  Suspended from the force, Paris cop Hubert is ...      R   \n",
       "\n",
       "                                                  genre            director  \\\n",
       "0                   Action and Adventure|Classics|Drama    William Friedkin   \n",
       "1                     Drama|Science Fiction and Fantasy    David Cronenberg   \n",
       "2                     Drama|Musical and Performing Arts      Allison Anders   \n",
       "3                            Drama|Mystery and Suspense      Barry Levinson   \n",
       "4                                         Drama|Romance      Rodney Bennett   \n",
       "...                                                 ...                 ...   \n",
       "1555   Action and Adventure|Horror|Mystery and Suspense                 NaN   \n",
       "1556                 Comedy|Science Fiction and Fantasy        Steve Barron   \n",
       "1557  Classics|Comedy|Drama|Musical and Performing Arts      Gordon Douglas   \n",
       "1558    Comedy|Drama|Kids and Family|Sports and Fitness  David Mickey Evans   \n",
       "1559  Action and Adventure|Art House and Internation...                 NaN   \n",
       "\n",
       "                                                writer  theater_date  \\\n",
       "0                                       Ernest Tidyman   Oct 9, 1971   \n",
       "1                         David Cronenberg|Don DeLillo  Aug 17, 2012   \n",
       "2                                       Allison Anders  Sep 13, 1996   \n",
       "3                      Paul Attanasio|Michael Crichton   Dec 9, 1994   \n",
       "4                                         Giles Cooper           NaN   \n",
       "...                                                ...           ...   \n",
       "1555                                               NaN  Aug 18, 2006   \n",
       "1556  Terry Turner|Tom Davis|Dan Aykroyd|Bonnie Turner  Jul 23, 1993   \n",
       "1557                                               NaN   Jan 1, 1962   \n",
       "1558                  David Mickey Evans|Robert Gunter   Apr 1, 1993   \n",
       "1559                                        Luc Besson  Sep 27, 2001   \n",
       "\n",
       "          dvd_date currency  box_office      runtime             studio  \n",
       "0     Sep 25, 2001      NaN         NaN  104 minutes                NaN  \n",
       "1      Jan 1, 2013        $     600,000  108 minutes  Entertainment One  \n",
       "2     Apr 18, 2000      NaN         NaN  116 minutes                NaN  \n",
       "3     Aug 27, 1997      NaN         NaN  128 minutes                NaN  \n",
       "4              NaN      NaN         NaN  200 minutes                NaN  \n",
       "...            ...      ...         ...          ...                ...  \n",
       "1555   Jan 2, 2007        $  33,886,034  106 minutes    New Line Cinema  \n",
       "1556  Apr 17, 2001      NaN         NaN   88 minutes  Paramount Vantage  \n",
       "1557  May 11, 2004      NaN         NaN  111 minutes                NaN  \n",
       "1558  Jan 29, 2002      NaN         NaN  101 minutes                NaN  \n",
       "1559  Feb 11, 2003      NaN         NaN   94 minutes  Columbia Pictures  \n",
       "\n",
       "[1560 rows x 12 columns]"
      ]
     },
     "execution_count": 4,
     "metadata": {},
     "output_type": "execute_result"
    }
   ],
   "source": [
    "df_rt = pd.read_csv(\"Files/rt.movie_info.tsv.gz\",sep=\"\\t\")\n",
    "df_rt"
   ]
  },
  {
   "cell_type": "markdown",
   "metadata": {},
   "source": [
    "Cleaning Data"
   ]
  },
  {
   "cell_type": "code",
   "execution_count": 5,
   "metadata": {
    "scrolled": true
   },
   "outputs": [
    {
     "data": {
      "text/plain": [
       "id                 0\n",
       "synopsis          62\n",
       "rating             3\n",
       "genre              8\n",
       "director         199\n",
       "writer           449\n",
       "theater_date     359\n",
       "dvd_date         359\n",
       "currency        1220\n",
       "box_office      1220\n",
       "runtime           30\n",
       "studio          1066\n",
       "dtype: int64"
      ]
     },
     "execution_count": 5,
     "metadata": {},
     "output_type": "execute_result"
    }
   ],
   "source": [
    "df_rt.isnull().sum()"
   ]
  },
  {
   "cell_type": "code",
   "execution_count": 6,
   "metadata": {
    "scrolled": true
   },
   "outputs": [
    {
     "data": {
      "text/html": [
       "<div>\n",
       "<style scoped>\n",
       "    .dataframe tbody tr th:only-of-type {\n",
       "        vertical-align: middle;\n",
       "    }\n",
       "\n",
       "    .dataframe tbody tr th {\n",
       "        vertical-align: top;\n",
       "    }\n",
       "\n",
       "    .dataframe thead th {\n",
       "        text-align: right;\n",
       "    }\n",
       "</style>\n",
       "<table border=\"1\" class=\"dataframe\">\n",
       "  <thead>\n",
       "    <tr style=\"text-align: right;\">\n",
       "      <th></th>\n",
       "      <th>id</th>\n",
       "      <th>synopsis</th>\n",
       "      <th>rating</th>\n",
       "      <th>genre</th>\n",
       "      <th>director</th>\n",
       "      <th>writer</th>\n",
       "      <th>theater_date</th>\n",
       "      <th>dvd_date</th>\n",
       "      <th>currency</th>\n",
       "      <th>box_office</th>\n",
       "      <th>runtime</th>\n",
       "      <th>studio</th>\n",
       "    </tr>\n",
       "  </thead>\n",
       "  <tbody>\n",
       "    <tr>\n",
       "      <th>0</th>\n",
       "      <td>1</td>\n",
       "      <td>This gritty, fast-paced, and innovative police...</td>\n",
       "      <td>R</td>\n",
       "      <td>Action and Adventure|Classics|Drama</td>\n",
       "      <td>William Friedkin</td>\n",
       "      <td>Ernest Tidyman</td>\n",
       "      <td>Oct 9, 1971</td>\n",
       "      <td>Sep 25, 2001</td>\n",
       "      <td>NaN</td>\n",
       "      <td>NaN</td>\n",
       "      <td>104 minutes</td>\n",
       "      <td>NaN</td>\n",
       "    </tr>\n",
       "    <tr>\n",
       "      <th>2</th>\n",
       "      <td>5</td>\n",
       "      <td>Illeana Douglas delivers a superb performance ...</td>\n",
       "      <td>R</td>\n",
       "      <td>Drama|Musical and Performing Arts</td>\n",
       "      <td>Allison Anders</td>\n",
       "      <td>Allison Anders</td>\n",
       "      <td>Sep 13, 1996</td>\n",
       "      <td>Apr 18, 2000</td>\n",
       "      <td>NaN</td>\n",
       "      <td>NaN</td>\n",
       "      <td>116 minutes</td>\n",
       "      <td>NaN</td>\n",
       "    </tr>\n",
       "    <tr>\n",
       "      <th>3</th>\n",
       "      <td>6</td>\n",
       "      <td>Michael Douglas runs afoul of a treacherous su...</td>\n",
       "      <td>R</td>\n",
       "      <td>Drama|Mystery and Suspense</td>\n",
       "      <td>Barry Levinson</td>\n",
       "      <td>Paul Attanasio|Michael Crichton</td>\n",
       "      <td>Dec 9, 1994</td>\n",
       "      <td>Aug 27, 1997</td>\n",
       "      <td>NaN</td>\n",
       "      <td>NaN</td>\n",
       "      <td>128 minutes</td>\n",
       "      <td>NaN</td>\n",
       "    </tr>\n",
       "    <tr>\n",
       "      <th>4</th>\n",
       "      <td>7</td>\n",
       "      <td>NaN</td>\n",
       "      <td>NR</td>\n",
       "      <td>Drama|Romance</td>\n",
       "      <td>Rodney Bennett</td>\n",
       "      <td>Giles Cooper</td>\n",
       "      <td>NaN</td>\n",
       "      <td>NaN</td>\n",
       "      <td>NaN</td>\n",
       "      <td>NaN</td>\n",
       "      <td>200 minutes</td>\n",
       "      <td>NaN</td>\n",
       "    </tr>\n",
       "    <tr>\n",
       "      <th>8</th>\n",
       "      <td>14</td>\n",
       "      <td>\"Love Ranch\" is a bittersweet love story that ...</td>\n",
       "      <td>R</td>\n",
       "      <td>Drama</td>\n",
       "      <td>Taylor Hackford</td>\n",
       "      <td>Mark Jacobson</td>\n",
       "      <td>Jun 30, 2010</td>\n",
       "      <td>Nov 9, 2010</td>\n",
       "      <td>$</td>\n",
       "      <td>134,904</td>\n",
       "      <td>117 minutes</td>\n",
       "      <td>NaN</td>\n",
       "    </tr>\n",
       "    <tr>\n",
       "      <th>...</th>\n",
       "      <td>...</td>\n",
       "      <td>...</td>\n",
       "      <td>...</td>\n",
       "      <td>...</td>\n",
       "      <td>...</td>\n",
       "      <td>...</td>\n",
       "      <td>...</td>\n",
       "      <td>...</td>\n",
       "      <td>...</td>\n",
       "      <td>...</td>\n",
       "      <td>...</td>\n",
       "      <td>...</td>\n",
       "    </tr>\n",
       "    <tr>\n",
       "      <th>1551</th>\n",
       "      <td>1991</td>\n",
       "      <td>Popular rap group Run DMC stars as a trio of p...</td>\n",
       "      <td>R</td>\n",
       "      <td>Action and Adventure|Drama</td>\n",
       "      <td>Rick Rubin</td>\n",
       "      <td>Rick Rubin|Ric Menello</td>\n",
       "      <td>NaN</td>\n",
       "      <td>NaN</td>\n",
       "      <td>NaN</td>\n",
       "      <td>NaN</td>\n",
       "      <td>92 minutes</td>\n",
       "      <td>NaN</td>\n",
       "    </tr>\n",
       "    <tr>\n",
       "      <th>1552</th>\n",
       "      <td>1992</td>\n",
       "      <td>The title character, played by John Turturro, ...</td>\n",
       "      <td>R</td>\n",
       "      <td>Comedy|Drama</td>\n",
       "      <td>Joel Coen</td>\n",
       "      <td>Joel Coen|Ethan Coen</td>\n",
       "      <td>Aug 21, 1991</td>\n",
       "      <td>May 20, 2003</td>\n",
       "      <td>NaN</td>\n",
       "      <td>NaN</td>\n",
       "      <td>116 minutes</td>\n",
       "      <td>NaN</td>\n",
       "    </tr>\n",
       "    <tr>\n",
       "      <th>1553</th>\n",
       "      <td>1993</td>\n",
       "      <td>A former child actor turned talent agent is hi...</td>\n",
       "      <td>PG</td>\n",
       "      <td>Comedy</td>\n",
       "      <td>James Lapine</td>\n",
       "      <td>NaN</td>\n",
       "      <td>Jun 4, 1993</td>\n",
       "      <td>Apr 8, 2003</td>\n",
       "      <td>NaN</td>\n",
       "      <td>NaN</td>\n",
       "      <td>95 minutes</td>\n",
       "      <td>NaN</td>\n",
       "    </tr>\n",
       "    <tr>\n",
       "      <th>1557</th>\n",
       "      <td>1998</td>\n",
       "      <td>Based on a novel by Richard Powell, when the l...</td>\n",
       "      <td>G</td>\n",
       "      <td>Classics|Comedy|Drama|Musical and Performing Arts</td>\n",
       "      <td>Gordon Douglas</td>\n",
       "      <td>NaN</td>\n",
       "      <td>Jan 1, 1962</td>\n",
       "      <td>May 11, 2004</td>\n",
       "      <td>NaN</td>\n",
       "      <td>NaN</td>\n",
       "      <td>111 minutes</td>\n",
       "      <td>NaN</td>\n",
       "    </tr>\n",
       "    <tr>\n",
       "      <th>1558</th>\n",
       "      <td>1999</td>\n",
       "      <td>The Sandlot is a coming-of-age story about a g...</td>\n",
       "      <td>PG</td>\n",
       "      <td>Comedy|Drama|Kids and Family|Sports and Fitness</td>\n",
       "      <td>David Mickey Evans</td>\n",
       "      <td>David Mickey Evans|Robert Gunter</td>\n",
       "      <td>Apr 1, 1993</td>\n",
       "      <td>Jan 29, 2002</td>\n",
       "      <td>NaN</td>\n",
       "      <td>NaN</td>\n",
       "      <td>101 minutes</td>\n",
       "      <td>NaN</td>\n",
       "    </tr>\n",
       "  </tbody>\n",
       "</table>\n",
       "<p>1066 rows × 12 columns</p>\n",
       "</div>"
      ],
      "text/plain": [
       "        id                                           synopsis rating  \\\n",
       "0        1  This gritty, fast-paced, and innovative police...      R   \n",
       "2        5  Illeana Douglas delivers a superb performance ...      R   \n",
       "3        6  Michael Douglas runs afoul of a treacherous su...      R   \n",
       "4        7                                                NaN     NR   \n",
       "8       14  \"Love Ranch\" is a bittersweet love story that ...      R   \n",
       "...    ...                                                ...    ...   \n",
       "1551  1991  Popular rap group Run DMC stars as a trio of p...      R   \n",
       "1552  1992  The title character, played by John Turturro, ...      R   \n",
       "1553  1993  A former child actor turned talent agent is hi...     PG   \n",
       "1557  1998  Based on a novel by Richard Powell, when the l...      G   \n",
       "1558  1999  The Sandlot is a coming-of-age story about a g...     PG   \n",
       "\n",
       "                                                  genre            director  \\\n",
       "0                   Action and Adventure|Classics|Drama    William Friedkin   \n",
       "2                     Drama|Musical and Performing Arts      Allison Anders   \n",
       "3                            Drama|Mystery and Suspense      Barry Levinson   \n",
       "4                                         Drama|Romance      Rodney Bennett   \n",
       "8                                                 Drama     Taylor Hackford   \n",
       "...                                                 ...                 ...   \n",
       "1551                         Action and Adventure|Drama          Rick Rubin   \n",
       "1552                                       Comedy|Drama           Joel Coen   \n",
       "1553                                             Comedy        James Lapine   \n",
       "1557  Classics|Comedy|Drama|Musical and Performing Arts      Gordon Douglas   \n",
       "1558    Comedy|Drama|Kids and Family|Sports and Fitness  David Mickey Evans   \n",
       "\n",
       "                                writer  theater_date      dvd_date currency  \\\n",
       "0                       Ernest Tidyman   Oct 9, 1971  Sep 25, 2001      NaN   \n",
       "2                       Allison Anders  Sep 13, 1996  Apr 18, 2000      NaN   \n",
       "3      Paul Attanasio|Michael Crichton   Dec 9, 1994  Aug 27, 1997      NaN   \n",
       "4                         Giles Cooper           NaN           NaN      NaN   \n",
       "8                        Mark Jacobson  Jun 30, 2010   Nov 9, 2010        $   \n",
       "...                                ...           ...           ...      ...   \n",
       "1551            Rick Rubin|Ric Menello           NaN           NaN      NaN   \n",
       "1552              Joel Coen|Ethan Coen  Aug 21, 1991  May 20, 2003      NaN   \n",
       "1553                               NaN   Jun 4, 1993   Apr 8, 2003      NaN   \n",
       "1557                               NaN   Jan 1, 1962  May 11, 2004      NaN   \n",
       "1558  David Mickey Evans|Robert Gunter   Apr 1, 1993  Jan 29, 2002      NaN   \n",
       "\n",
       "     box_office      runtime studio  \n",
       "0           NaN  104 minutes    NaN  \n",
       "2           NaN  116 minutes    NaN  \n",
       "3           NaN  128 minutes    NaN  \n",
       "4           NaN  200 minutes    NaN  \n",
       "8       134,904  117 minutes    NaN  \n",
       "...         ...          ...    ...  \n",
       "1551        NaN   92 minutes    NaN  \n",
       "1552        NaN  116 minutes    NaN  \n",
       "1553        NaN   95 minutes    NaN  \n",
       "1557        NaN  111 minutes    NaN  \n",
       "1558        NaN  101 minutes    NaN  \n",
       "\n",
       "[1066 rows x 12 columns]"
      ]
     },
     "execution_count": 6,
     "metadata": {},
     "output_type": "execute_result"
    }
   ],
   "source": [
    "df_rt[df_rt[\"studio\"].isnull()]"
   ]
  },
  {
   "cell_type": "code",
   "execution_count": 7,
   "metadata": {},
   "outputs": [],
   "source": [
    "#df_clean = df_clean.fillna(\"Unkown\")\n",
    "#df_clean"
   ]
  },
  {
   "cell_type": "code",
   "execution_count": 8,
   "metadata": {
    "scrolled": false
   },
   "outputs": [
    {
     "data": {
      "text/html": [
       "<div>\n",
       "<style scoped>\n",
       "    .dataframe tbody tr th:only-of-type {\n",
       "        vertical-align: middle;\n",
       "    }\n",
       "\n",
       "    .dataframe tbody tr th {\n",
       "        vertical-align: top;\n",
       "    }\n",
       "\n",
       "    .dataframe thead th {\n",
       "        text-align: right;\n",
       "    }\n",
       "</style>\n",
       "<table border=\"1\" class=\"dataframe\">\n",
       "  <thead>\n",
       "    <tr style=\"text-align: right;\">\n",
       "      <th></th>\n",
       "      <th>id</th>\n",
       "      <th>synopsis</th>\n",
       "      <th>rating</th>\n",
       "      <th>genre</th>\n",
       "      <th>director</th>\n",
       "      <th>writer</th>\n",
       "      <th>theater_date</th>\n",
       "      <th>dvd_date</th>\n",
       "      <th>currency</th>\n",
       "      <th>box_office</th>\n",
       "      <th>runtime</th>\n",
       "      <th>studio</th>\n",
       "    </tr>\n",
       "  </thead>\n",
       "  <tbody>\n",
       "    <tr>\n",
       "      <th>1</th>\n",
       "      <td>3</td>\n",
       "      <td>New York City, not-too-distant-future: Eric Pa...</td>\n",
       "      <td>R</td>\n",
       "      <td>Drama|Science Fiction and Fantasy</td>\n",
       "      <td>David Cronenberg</td>\n",
       "      <td>David Cronenberg|Don DeLillo</td>\n",
       "      <td>Aug 17, 2012</td>\n",
       "      <td>Jan 1, 2013</td>\n",
       "      <td>$</td>\n",
       "      <td>600,000</td>\n",
       "      <td>108 minutes</td>\n",
       "      <td>Entertainment One</td>\n",
       "    </tr>\n",
       "    <tr>\n",
       "      <th>6</th>\n",
       "      <td>10</td>\n",
       "      <td>Some cast and crew from NBC's highly acclaimed...</td>\n",
       "      <td>PG-13</td>\n",
       "      <td>Comedy</td>\n",
       "      <td>Jake Kasdan</td>\n",
       "      <td>Mike White</td>\n",
       "      <td>Jan 11, 2002</td>\n",
       "      <td>Jun 18, 2002</td>\n",
       "      <td>$</td>\n",
       "      <td>41,032,915</td>\n",
       "      <td>82 minutes</td>\n",
       "      <td>Paramount Pictures</td>\n",
       "    </tr>\n",
       "    <tr>\n",
       "      <th>7</th>\n",
       "      <td>13</td>\n",
       "      <td>Stewart Kane, an Irishman living in the Austra...</td>\n",
       "      <td>R</td>\n",
       "      <td>Drama</td>\n",
       "      <td>Ray Lawrence</td>\n",
       "      <td>Raymond Carver|Beatrix Christian</td>\n",
       "      <td>Apr 27, 2006</td>\n",
       "      <td>Oct 2, 2007</td>\n",
       "      <td>$</td>\n",
       "      <td>224,114</td>\n",
       "      <td>123 minutes</td>\n",
       "      <td>Sony Pictures Classics</td>\n",
       "    </tr>\n",
       "    <tr>\n",
       "      <th>8</th>\n",
       "      <td>14</td>\n",
       "      <td>\"Love Ranch\" is a bittersweet love story that ...</td>\n",
       "      <td>R</td>\n",
       "      <td>Drama</td>\n",
       "      <td>Taylor Hackford</td>\n",
       "      <td>Mark Jacobson</td>\n",
       "      <td>Jun 30, 2010</td>\n",
       "      <td>Nov 9, 2010</td>\n",
       "      <td>$</td>\n",
       "      <td>134,904</td>\n",
       "      <td>117 minutes</td>\n",
       "      <td>NaN</td>\n",
       "    </tr>\n",
       "    <tr>\n",
       "      <th>15</th>\n",
       "      <td>22</td>\n",
       "      <td>Two-time Academy Award Winner Kevin Spacey giv...</td>\n",
       "      <td>R</td>\n",
       "      <td>Comedy|Drama|Mystery and Suspense</td>\n",
       "      <td>George Hickenlooper</td>\n",
       "      <td>Norman Snider</td>\n",
       "      <td>Dec 17, 2010</td>\n",
       "      <td>Apr 5, 2011</td>\n",
       "      <td>$</td>\n",
       "      <td>1,039,869</td>\n",
       "      <td>108 minutes</td>\n",
       "      <td>ATO Pictures</td>\n",
       "    </tr>\n",
       "    <tr>\n",
       "      <th>...</th>\n",
       "      <td>...</td>\n",
       "      <td>...</td>\n",
       "      <td>...</td>\n",
       "      <td>...</td>\n",
       "      <td>...</td>\n",
       "      <td>...</td>\n",
       "      <td>...</td>\n",
       "      <td>...</td>\n",
       "      <td>...</td>\n",
       "      <td>...</td>\n",
       "      <td>...</td>\n",
       "      <td>...</td>\n",
       "    </tr>\n",
       "    <tr>\n",
       "      <th>1541</th>\n",
       "      <td>1980</td>\n",
       "      <td>A band of renegades on the run in outer space ...</td>\n",
       "      <td>PG-13</td>\n",
       "      <td>Action and Adventure|Science Fiction and Fantasy</td>\n",
       "      <td>Joss Whedon</td>\n",
       "      <td>Joss Whedon</td>\n",
       "      <td>Sep 30, 2005</td>\n",
       "      <td>Dec 20, 2005</td>\n",
       "      <td>$</td>\n",
       "      <td>25,335,935</td>\n",
       "      <td>119 minutes</td>\n",
       "      <td>Universal Pictures</td>\n",
       "    </tr>\n",
       "    <tr>\n",
       "      <th>1542</th>\n",
       "      <td>1981</td>\n",
       "      <td>Money, Fame and the Knowledge of English. In I...</td>\n",
       "      <td>NR</td>\n",
       "      <td>Comedy|Drama</td>\n",
       "      <td>Gauri Shinde</td>\n",
       "      <td>Gauri Shinde</td>\n",
       "      <td>Oct 5, 2012</td>\n",
       "      <td>Nov 20, 2012</td>\n",
       "      <td>$</td>\n",
       "      <td>1,416,189</td>\n",
       "      <td>129 minutes</td>\n",
       "      <td>Eros Entertainment</td>\n",
       "    </tr>\n",
       "    <tr>\n",
       "      <th>1545</th>\n",
       "      <td>1985</td>\n",
       "      <td>A woman who joins the undead against her will ...</td>\n",
       "      <td>R</td>\n",
       "      <td>Horror|Mystery and Suspense</td>\n",
       "      <td>Sebastian Gutierrez</td>\n",
       "      <td>Sebastian Gutierrez</td>\n",
       "      <td>Jun 1, 2007</td>\n",
       "      <td>Oct 9, 2007</td>\n",
       "      <td>$</td>\n",
       "      <td>59,371</td>\n",
       "      <td>98 minutes</td>\n",
       "      <td>IDP Distribution</td>\n",
       "    </tr>\n",
       "    <tr>\n",
       "      <th>1546</th>\n",
       "      <td>1986</td>\n",
       "      <td>Aki Kaurismaki's The Man Without a Past opens ...</td>\n",
       "      <td>PG</td>\n",
       "      <td>Art House and International|Comedy|Drama</td>\n",
       "      <td>NaN</td>\n",
       "      <td>NaN</td>\n",
       "      <td>Aug 30, 2002</td>\n",
       "      <td>Oct 7, 2003</td>\n",
       "      <td>$</td>\n",
       "      <td>794,306</td>\n",
       "      <td>97 minutes</td>\n",
       "      <td>NaN</td>\n",
       "    </tr>\n",
       "    <tr>\n",
       "      <th>1555</th>\n",
       "      <td>1996</td>\n",
       "      <td>Forget terrorists or hijackers -- there's a ha...</td>\n",
       "      <td>R</td>\n",
       "      <td>Action and Adventure|Horror|Mystery and Suspense</td>\n",
       "      <td>NaN</td>\n",
       "      <td>NaN</td>\n",
       "      <td>Aug 18, 2006</td>\n",
       "      <td>Jan 2, 2007</td>\n",
       "      <td>$</td>\n",
       "      <td>33,886,034</td>\n",
       "      <td>106 minutes</td>\n",
       "      <td>New Line Cinema</td>\n",
       "    </tr>\n",
       "  </tbody>\n",
       "</table>\n",
       "<p>340 rows × 12 columns</p>\n",
       "</div>"
      ],
      "text/plain": [
       "        id                                           synopsis rating  \\\n",
       "1        3  New York City, not-too-distant-future: Eric Pa...      R   \n",
       "6       10  Some cast and crew from NBC's highly acclaimed...  PG-13   \n",
       "7       13  Stewart Kane, an Irishman living in the Austra...      R   \n",
       "8       14  \"Love Ranch\" is a bittersweet love story that ...      R   \n",
       "15      22  Two-time Academy Award Winner Kevin Spacey giv...      R   \n",
       "...    ...                                                ...    ...   \n",
       "1541  1980  A band of renegades on the run in outer space ...  PG-13   \n",
       "1542  1981  Money, Fame and the Knowledge of English. In I...     NR   \n",
       "1545  1985  A woman who joins the undead against her will ...      R   \n",
       "1546  1986  Aki Kaurismaki's The Man Without a Past opens ...     PG   \n",
       "1555  1996  Forget terrorists or hijackers -- there's a ha...      R   \n",
       "\n",
       "                                                 genre             director  \\\n",
       "1                    Drama|Science Fiction and Fantasy     David Cronenberg   \n",
       "6                                               Comedy          Jake Kasdan   \n",
       "7                                                Drama         Ray Lawrence   \n",
       "8                                                Drama      Taylor Hackford   \n",
       "15                   Comedy|Drama|Mystery and Suspense  George Hickenlooper   \n",
       "...                                                ...                  ...   \n",
       "1541  Action and Adventure|Science Fiction and Fantasy          Joss Whedon   \n",
       "1542                                      Comedy|Drama         Gauri Shinde   \n",
       "1545                       Horror|Mystery and Suspense  Sebastian Gutierrez   \n",
       "1546          Art House and International|Comedy|Drama                  NaN   \n",
       "1555  Action and Adventure|Horror|Mystery and Suspense                  NaN   \n",
       "\n",
       "                                writer  theater_date      dvd_date currency  \\\n",
       "1         David Cronenberg|Don DeLillo  Aug 17, 2012   Jan 1, 2013        $   \n",
       "6                           Mike White  Jan 11, 2002  Jun 18, 2002        $   \n",
       "7     Raymond Carver|Beatrix Christian  Apr 27, 2006   Oct 2, 2007        $   \n",
       "8                        Mark Jacobson  Jun 30, 2010   Nov 9, 2010        $   \n",
       "15                       Norman Snider  Dec 17, 2010   Apr 5, 2011        $   \n",
       "...                                ...           ...           ...      ...   \n",
       "1541                       Joss Whedon  Sep 30, 2005  Dec 20, 2005        $   \n",
       "1542                      Gauri Shinde   Oct 5, 2012  Nov 20, 2012        $   \n",
       "1545               Sebastian Gutierrez   Jun 1, 2007   Oct 9, 2007        $   \n",
       "1546                               NaN  Aug 30, 2002   Oct 7, 2003        $   \n",
       "1555                               NaN  Aug 18, 2006   Jan 2, 2007        $   \n",
       "\n",
       "      box_office      runtime                  studio  \n",
       "1        600,000  108 minutes       Entertainment One  \n",
       "6     41,032,915   82 minutes      Paramount Pictures  \n",
       "7        224,114  123 minutes  Sony Pictures Classics  \n",
       "8        134,904  117 minutes                     NaN  \n",
       "15     1,039,869  108 minutes            ATO Pictures  \n",
       "...          ...          ...                     ...  \n",
       "1541  25,335,935  119 minutes      Universal Pictures  \n",
       "1542   1,416,189  129 minutes      Eros Entertainment  \n",
       "1545      59,371   98 minutes        IDP Distribution  \n",
       "1546     794,306   97 minutes                     NaN  \n",
       "1555  33,886,034  106 minutes         New Line Cinema  \n",
       "\n",
       "[340 rows x 12 columns]"
      ]
     },
     "execution_count": 8,
     "metadata": {},
     "output_type": "execute_result"
    }
   ],
   "source": [
    "#getting a dataframe with studio names where box_office is not null\n",
    "office_revenue = df_rt[df_rt[\"box_office\"].notnull()]\n",
    "\n",
    "office_revenue"
   ]
  },
  {
   "cell_type": "code",
   "execution_count": 9,
   "metadata": {},
   "outputs": [
    {
     "name": "stderr",
     "output_type": "stream",
     "text": [
      "<ipython-input-9-e2c87a407da3>:2: SettingWithCopyWarning: \n",
      "A value is trying to be set on a copy of a slice from a DataFrame.\n",
      "Try using .loc[row_indexer,col_indexer] = value instead\n",
      "\n",
      "See the caveats in the documentation: https://pandas.pydata.org/pandas-docs/stable/user_guide/indexing.html#returning-a-view-versus-a-copy\n",
      "  office_revenue[\"box_office\"] = office_revenue[\"box_office\"].str.replace(\",\",\"\")\n",
      "<ipython-input-9-e2c87a407da3>:3: SettingWithCopyWarning: \n",
      "A value is trying to be set on a copy of a slice from a DataFrame.\n",
      "Try using .loc[row_indexer,col_indexer] = value instead\n",
      "\n",
      "See the caveats in the documentation: https://pandas.pydata.org/pandas-docs/stable/user_guide/indexing.html#returning-a-view-versus-a-copy\n",
      "  office_revenue[\"box_office\"] = office_revenue[\"box_office\"].astype(\"int64\")\n"
     ]
    }
   ],
   "source": [
    "#Removing commas from box office and converting to int\n",
    "office_revenue[\"box_office\"] = office_revenue[\"box_office\"].str.replace(\",\",\"\")\n",
    "office_revenue[\"box_office\"] = office_revenue[\"box_office\"].astype(\"int64\")\n"
   ]
  },
  {
   "cell_type": "code",
   "execution_count": 10,
   "metadata": {},
   "outputs": [
    {
     "name": "stderr",
     "output_type": "stream",
     "text": [
      "<ipython-input-10-f00e1fb77711>:2: SettingWithCopyWarning: \n",
      "A value is trying to be set on a copy of a slice from a DataFrame.\n",
      "Try using .loc[row_indexer,col_indexer] = value instead\n",
      "\n",
      "See the caveats in the documentation: https://pandas.pydata.org/pandas-docs/stable/user_guide/indexing.html#returning-a-view-versus-a-copy\n",
      "  office_revenue[\"studio\"] = office_revenue[\"studio\"].astype(\"string\")\n"
     ]
    }
   ],
   "source": [
    "#Converting studio to string\n",
    "office_revenue[\"studio\"] = office_revenue[\"studio\"].astype(\"string\")\n"
   ]
  },
  {
   "cell_type": "code",
   "execution_count": 11,
   "metadata": {},
   "outputs": [
    {
     "data": {
      "text/plain": [
       "id               int64\n",
       "synopsis        object\n",
       "rating          object\n",
       "genre           object\n",
       "director        object\n",
       "writer          object\n",
       "theater_date    object\n",
       "dvd_date        object\n",
       "currency        object\n",
       "box_office       int64\n",
       "runtime         object\n",
       "studio          string\n",
       "dtype: object"
      ]
     },
     "execution_count": 11,
     "metadata": {},
     "output_type": "execute_result"
    }
   ],
   "source": [
    "office_revenue.dtypes"
   ]
  },
  {
   "cell_type": "code",
   "execution_count": 12,
   "metadata": {},
   "outputs": [
    {
     "data": {
      "text/plain": [
       "Universal Pictures           27\n",
       "Paramount Pictures           20\n",
       "20th Century Fox             18\n",
       "Sony Pictures                15\n",
       "Sony Pictures Classics       14\n",
       "                             ..\n",
       "Echolight Studios             1\n",
       "Wrekin Hill Entertainment     1\n",
       "Lions Gate Releasing          1\n",
       "Regent Releasing              1\n",
       "Aspiration Media              1\n",
       "Name: studio, Length: 116, dtype: Int64"
      ]
     },
     "execution_count": 12,
     "metadata": {},
     "output_type": "execute_result"
    }
   ],
   "source": [
    "office_revenue[\"studio\"].value_counts()"
   ]
  },
  {
   "cell_type": "code",
   "execution_count": 13,
   "metadata": {},
   "outputs": [
    {
     "name": "stderr",
     "output_type": "stream",
     "text": [
      "<ipython-input-13-483183e396fb>:1: SettingWithCopyWarning: \n",
      "A value is trying to be set on a copy of a slice from a DataFrame.\n",
      "Try using .loc[row_indexer,col_indexer] = value instead\n",
      "\n",
      "See the caveats in the documentation: https://pandas.pydata.org/pandas-docs/stable/user_guide/indexing.html#returning-a-view-versus-a-copy\n",
      "  office_revenue[\"studio\"] = office_revenue[\"studio\"].fillna(\"unknown\")\n"
     ]
    },
    {
     "data": {
      "text/plain": [
       "1            Entertainment One\n",
       "6           Paramount Pictures\n",
       "7       Sony Pictures Classics\n",
       "8                      unknown\n",
       "15                ATO Pictures\n",
       "                 ...          \n",
       "1541        Universal Pictures\n",
       "1542        Eros Entertainment\n",
       "1545          IDP Distribution\n",
       "1546                   unknown\n",
       "1555           New Line Cinema\n",
       "Name: studio, Length: 340, dtype: string"
      ]
     },
     "execution_count": 13,
     "metadata": {},
     "output_type": "execute_result"
    }
   ],
   "source": [
    "office_revenue[\"studio\"] = office_revenue[\"studio\"].fillna(\"unknown\")\n",
    "office_revenue[\"studio\"]"
   ]
  },
  {
   "cell_type": "code",
   "execution_count": 14,
   "metadata": {
    "scrolled": true
   },
   "outputs": [
    {
     "name": "stderr",
     "output_type": "stream",
     "text": [
      "<ipython-input-14-be7018c8a2cb>:1: SettingWithCopyWarning: \n",
      "A value is trying to be set on a copy of a slice from a DataFrame.\n",
      "Try using .loc[row_indexer,col_indexer] = value instead\n",
      "\n",
      "See the caveats in the documentation: https://pandas.pydata.org/pandas-docs/stable/user_guide/indexing.html#returning-a-view-versus-a-copy\n",
      "  office_revenue[\"studio\"]= office_revenue[\"studio\"].replace(\"20th Century Fox Distribution\",\"20th Century Fox\")\n"
     ]
    }
   ],
   "source": [
    "office_revenue[\"studio\"]= office_revenue[\"studio\"].replace(\"20th Century Fox Distribution\",\"20th Century Fox\")"
   ]
  },
  {
   "cell_type": "code",
   "execution_count": 15,
   "metadata": {
    "scrolled": true
   },
   "outputs": [
    {
     "name": "stderr",
     "output_type": "stream",
     "text": [
      "<ipython-input-15-54ea56121b20>:1: SettingWithCopyWarning: \n",
      "A value is trying to be set on a copy of a slice from a DataFrame.\n",
      "Try using .loc[row_indexer,col_indexer] = value instead\n",
      "\n",
      "See the caveats in the documentation: https://pandas.pydata.org/pandas-docs/stable/user_guide/indexing.html#returning-a-view-versus-a-copy\n",
      "  office_revenue[\"studio\"]= office_revenue[\"studio\"].replace(\"A24\",\"A24 Films\")\n"
     ]
    }
   ],
   "source": [
    "office_revenue[\"studio\"]= office_revenue[\"studio\"].replace(\"A24\",\"A24 Films\")"
   ]
  },
  {
   "cell_type": "code",
   "execution_count": 16,
   "metadata": {
    "scrolled": true
   },
   "outputs": [
    {
     "name": "stderr",
     "output_type": "stream",
     "text": [
      "<ipython-input-16-984701b3296f>:1: SettingWithCopyWarning: \n",
      "A value is trying to be set on a copy of a slice from a DataFrame.\n",
      "Try using .loc[row_indexer,col_indexer] = value instead\n",
      "\n",
      "See the caveats in the documentation: https://pandas.pydata.org/pandas-docs/stable/user_guide/indexing.html#returning-a-view-versus-a-copy\n",
      "  office_revenue[\"studio\"]= office_revenue[\"studio\"].replace([\"Buena Vista Distribution\",\"Buena Vista Distribution Compa\",\"Buena Vista Pictures\"],\"Buena Vista\")\n"
     ]
    }
   ],
   "source": [
    "office_revenue[\"studio\"]= office_revenue[\"studio\"].replace([\"Buena Vista Distribution\",\"Buena Vista Distribution Compa\",\"Buena Vista Pictures\"],\"Buena Vista\")"
   ]
  },
  {
   "cell_type": "code",
   "execution_count": 17,
   "metadata": {
    "scrolled": true
   },
   "outputs": [
    {
     "name": "stderr",
     "output_type": "stream",
     "text": [
      "<ipython-input-17-80a791f85415>:1: SettingWithCopyWarning: \n",
      "A value is trying to be set on a copy of a slice from a DataFrame.\n",
      "Try using .loc[row_indexer,col_indexer] = value instead\n",
      "\n",
      "See the caveats in the documentation: https://pandas.pydata.org/pandas-docs/stable/user_guide/indexing.html#returning-a-view-versus-a-copy\n",
      "  office_revenue[\"studio\"]= office_revenue[\"studio\"].replace(\"Columbia Tristar Pictures\",\"Columbia Pictures\")\n"
     ]
    }
   ],
   "source": [
    "office_revenue[\"studio\"]= office_revenue[\"studio\"].replace(\"Columbia Tristar Pictures\",\"Columbia Pictures\")"
   ]
  },
  {
   "cell_type": "code",
   "execution_count": 18,
   "metadata": {
    "scrolled": true
   },
   "outputs": [
    {
     "name": "stderr",
     "output_type": "stream",
     "text": [
      "<ipython-input-18-a0357754ed6d>:1: SettingWithCopyWarning: \n",
      "A value is trying to be set on a copy of a slice from a DataFrame.\n",
      "Try using .loc[row_indexer,col_indexer] = value instead\n",
      "\n",
      "See the caveats in the documentation: https://pandas.pydata.org/pandas-docs/stable/user_guide/indexing.html#returning-a-view-versus-a-copy\n",
      "  office_revenue[\"studio\"]= office_revenue[\"studio\"].replace(\"Destination Film\",\"Destination Films\")\n"
     ]
    }
   ],
   "source": [
    "office_revenue[\"studio\"]= office_revenue[\"studio\"].replace(\"Destination Film\",\"Destination Films\")"
   ]
  },
  {
   "cell_type": "code",
   "execution_count": 19,
   "metadata": {
    "scrolled": true
   },
   "outputs": [
    {
     "name": "stderr",
     "output_type": "stream",
     "text": [
      "<ipython-input-19-067acf2967e1>:1: SettingWithCopyWarning: \n",
      "A value is trying to be set on a copy of a slice from a DataFrame.\n",
      "Try using .loc[row_indexer,col_indexer] = value instead\n",
      "\n",
      "See the caveats in the documentation: https://pandas.pydata.org/pandas-docs/stable/user_guide/indexing.html#returning-a-view-versus-a-copy\n",
      "  office_revenue[\"studio\"]= office_revenue[\"studio\"].replace([\"DreamWorks SKG\",\"Dreamworks Pictures\"],\"DreamWorks\")\n"
     ]
    }
   ],
   "source": [
    "office_revenue[\"studio\"]= office_revenue[\"studio\"].replace([\"DreamWorks SKG\",\"Dreamworks Pictures\"],\"DreamWorks\")"
   ]
  },
  {
   "cell_type": "code",
   "execution_count": 20,
   "metadata": {
    "scrolled": true
   },
   "outputs": [
    {
     "name": "stderr",
     "output_type": "stream",
     "text": [
      "<ipython-input-20-a8c9bbf631be>:1: SettingWithCopyWarning: \n",
      "A value is trying to be set on a copy of a slice from a DataFrame.\n",
      "Try using .loc[row_indexer,col_indexer] = value instead\n",
      "\n",
      "See the caveats in the documentation: https://pandas.pydata.org/pandas-docs/stable/user_guide/indexing.html#returning-a-view-versus-a-copy\n",
      "  office_revenue[\"studio\"]= office_revenue[\"studio\"].replace(\"Fox Searchlight\",\"Fox Searchlight Pictures\")\n"
     ]
    }
   ],
   "source": [
    "office_revenue[\"studio\"]= office_revenue[\"studio\"].replace(\"Fox Searchlight\",\"Fox Searchlight Pictures\")"
   ]
  },
  {
   "cell_type": "code",
   "execution_count": 39,
   "metadata": {
    "scrolled": true
   },
   "outputs": [
    {
     "name": "stderr",
     "output_type": "stream",
     "text": [
      "<ipython-input-39-a779c1cc4b9e>:1: SettingWithCopyWarning: \n",
      "A value is trying to be set on a copy of a slice from a DataFrame.\n",
      "Try using .loc[row_indexer,col_indexer] = value instead\n",
      "\n",
      "See the caveats in the documentation: https://pandas.pydata.org/pandas-docs/stable/user_guide/indexing.html#returning-a-view-versus-a-copy\n",
      "  office_revenue[\"studio\"]= office_revenue[\"studio\"].replace([\"Lionsgate Films\",\"Lions Gate Releasing\",\"Lions Gate Films Inc.\",\"Lions Gate\",\"Lions Gate Films\",\"Lionsgate\" ],\"LionsGate\")\n"
     ]
    }
   ],
   "source": [
    "office_revenue[\"studio\"]= office_revenue[\"studio\"].replace([\"Lionsgate Films\",\"Lions Gate Releasing\",\"Lions Gate Films Inc.\",\"Lions Gate\",\"Lions Gate Films\",\"Lionsgate\" ],\"LionsGate\")"
   ]
  },
  {
   "cell_type": "code",
   "execution_count": 38,
   "metadata": {
    "scrolled": true
   },
   "outputs": [
    {
     "name": "stderr",
     "output_type": "stream",
     "text": [
      "<ipython-input-38-a0ca0dc61c7b>:1: SettingWithCopyWarning: \n",
      "A value is trying to be set on a copy of a slice from a DataFrame.\n",
      "Try using .loc[row_indexer,col_indexer] = value instead\n",
      "\n",
      "See the caveats in the documentation: https://pandas.pydata.org/pandas-docs/stable/user_guide/indexing.html#returning-a-view-versus-a-copy\n",
      "  office_revenue[\"studio\"]= office_revenue[\"studio\"].replace([\"Paramount\",\"Paramount Classics\",\"Paramount Studios\",\"Paramount Vantage\",\"Paramout\",\"Paramout Pictures\"],\"Paramount Pictures\")\n"
     ]
    }
   ],
   "source": [
    "office_revenue[\"studio\"]= office_revenue[\"studio\"].replace([\"Paramount\",\"Paramount Classics\",\"Paramount Studios\",\"Paramount Vantage\",\"Paramout\",\"Paramout Pictures\"],\"Paramount Pictures\")"
   ]
  },
  {
   "cell_type": "code",
   "execution_count": 44,
   "metadata": {
    "scrolled": true
   },
   "outputs": [
    {
     "name": "stderr",
     "output_type": "stream",
     "text": [
      "<ipython-input-44-f531512a5b39>:1: SettingWithCopyWarning: \n",
      "A value is trying to be set on a copy of a slice from a DataFrame.\n",
      "Try using .loc[row_indexer,col_indexer] = value instead\n",
      "\n",
      "See the caveats in the documentation: https://pandas.pydata.org/pandas-docs/stable/user_guide/indexing.html#returning-a-view-versus-a-copy\n",
      "  office_revenue[\"studio\"]= office_revenue[\"studio\"].replace([\"Sony Classics\",\"Sony Pictures Classics\",\"Sony Pictures Entertainment\",\"Sony Pictures Releasing\"],\"Sony Pictures\")\n"
     ]
    }
   ],
   "source": [
    "office_revenue[\"studio\"]= office_revenue[\"studio\"].replace([\"Sony Classics\",\"Sony Pictures Classics\",\"Sony Pictures Entertainment\",\"Sony Pictures Releasing\"],\"Sony Pictures\")"
   ]
  },
  {
   "cell_type": "code",
   "execution_count": 50,
   "metadata": {},
   "outputs": [
    {
     "name": "stderr",
     "output_type": "stream",
     "text": [
      "<ipython-input-50-a19cbf4ce61b>:1: SettingWithCopyWarning: \n",
      "A value is trying to be set on a copy of a slice from a DataFrame.\n",
      "Try using .loc[row_indexer,col_indexer] = value instead\n",
      "\n",
      "See the caveats in the documentation: https://pandas.pydata.org/pandas-docs/stable/user_guide/indexing.html#returning-a-view-versus-a-copy\n",
      "  office_revenue[\"studio\"]= office_revenue[\"studio\"].replace(\"Summit Premiere\",\"Summit Entertainment\")\n"
     ]
    }
   ],
   "source": [
    "office_revenue[\"studio\"]= office_revenue[\"studio\"].replace(\"Summit Premiere\",\"Summit Entertainment\")"
   ]
  },
  {
   "cell_type": "code",
   "execution_count": 55,
   "metadata": {
    "scrolled": true
   },
   "outputs": [
    {
     "name": "stderr",
     "output_type": "stream",
     "text": [
      "<ipython-input-55-3c409ec65ae0>:1: SettingWithCopyWarning: \n",
      "A value is trying to be set on a copy of a slice from a DataFrame.\n",
      "Try using .loc[row_indexer,col_indexer] = value instead\n",
      "\n",
      "See the caveats in the documentation: https://pandas.pydata.org/pandas-docs/stable/user_guide/indexing.html#returning-a-view-versus-a-copy\n",
      "  office_revenue[\"studio\"]= office_revenue[\"studio\"].replace([\"Universal\",\"Universal Pictures\",\"Universal Pictures Distributio\",\"Universal Pictures International\"],\"Universal Studios\")\n"
     ]
    }
   ],
   "source": [
    "office_revenue[\"studio\"]= office_revenue[\"studio\"].replace([\"Universal\",\"Universal Pictures\",\"Universal Pictures Distributio\",\"Universal Pictures International\"],\"Universal Studios\")"
   ]
  },
  {
   "cell_type": "code",
   "execution_count": 60,
   "metadata": {
    "scrolled": true
   },
   "outputs": [
    {
     "name": "stderr",
     "output_type": "stream",
     "text": [
      "<ipython-input-60-6f8159daec29>:1: SettingWithCopyWarning: \n",
      "A value is trying to be set on a copy of a slice from a DataFrame.\n",
      "Try using .loc[row_indexer,col_indexer] = value instead\n",
      "\n",
      "See the caveats in the documentation: https://pandas.pydata.org/pandas-docs/stable/user_guide/indexing.html#returning-a-view-versus-a-copy\n",
      "  office_revenue[\"studio\"]= office_revenue[\"studio\"].replace([\"WARNER BROTHERS PICTURES\",\"WB\",\"Warner Bros. Pictures\"],\"Warner Bros.\")\n"
     ]
    }
   ],
   "source": [
    "office_revenue[\"studio\"]= office_revenue[\"studio\"].replace([\"WARNER BROTHERS PICTURES\",\"WB\",\"Warner Bros. Pictures\"],\"Warner Bros.\")"
   ]
  },
  {
   "cell_type": "code",
   "execution_count": 70,
   "metadata": {
    "scrolled": true
   },
   "outputs": [
    {
     "name": "stderr",
     "output_type": "stream",
     "text": [
      "<ipython-input-70-02f0828b1757>:1: SettingWithCopyWarning: \n",
      "A value is trying to be set on a copy of a slice from a DataFrame.\n",
      "Try using .loc[row_indexer,col_indexer] = value instead\n",
      "\n",
      "See the caveats in the documentation: https://pandas.pydata.org/pandas-docs/stable/user_guide/indexing.html#returning-a-view-versus-a-copy\n",
      "  office_revenue[\"studio\"]= office_revenue[\"studio\"].replace([\"The Weinstein Co.\",\"The Weinstein Company\",\"Weinstein Co.\"],\"Weinstein Company\")\n"
     ]
    }
   ],
   "source": [
    "office_revenue[\"studio\"]= office_revenue[\"studio\"].replace([\"The Weinstein Co.\",\"The Weinstein Company\",\"Weinstein Co.\"],\"Weinstein Company\")"
   ]
  },
  {
   "cell_type": "code",
   "execution_count": 76,
   "metadata": {
    "scrolled": true
   },
   "outputs": [
    {
     "name": "stderr",
     "output_type": "stream",
     "text": [
      "<ipython-input-76-499f6edcc541>:1: SettingWithCopyWarning: \n",
      "A value is trying to be set on a copy of a slice from a DataFrame.\n",
      "Try using .loc[row_indexer,col_indexer] = value instead\n",
      "\n",
      "See the caveats in the documentation: https://pandas.pydata.org/pandas-docs/stable/user_guide/indexing.html#returning-a-view-versus-a-copy\n",
      "  office_revenue[\"studio\"]= office_revenue[\"studio\"].replace(\"Newmarket Film Group\",\"Newmarket Films\")\n"
     ]
    }
   ],
   "source": [
    "office_revenue[\"studio\"]= office_revenue[\"studio\"].replace(\"Newmarket Film Group\",\"Newmarket Films\")"
   ]
  },
  {
   "cell_type": "code",
   "execution_count": 77,
   "metadata": {
    "scrolled": false
   },
   "outputs": [
    {
     "name": "stderr",
     "output_type": "stream",
     "text": [
      "<ipython-input-77-da0db0bfc08f>:1: SettingWithCopyWarning: \n",
      "A value is trying to be set on a copy of a slice from a DataFrame.\n",
      "Try using .loc[row_indexer,col_indexer] = value instead\n",
      "\n",
      "See the caveats in the documentation: https://pandas.pydata.org/pandas-docs/stable/user_guide/indexing.html#returning-a-view-versus-a-copy\n",
      "  office_revenue[\"studio\"]= office_revenue[\"studio\"].replace(\"FilmDistrict\",\"Film District\")\n"
     ]
    }
   ],
   "source": [
    "office_revenue[\"studio\"]= office_revenue[\"studio\"].replace(\"FilmDistrict\",\"Film District\")"
   ]
  },
  {
   "cell_type": "code",
   "execution_count": 80,
   "metadata": {},
   "outputs": [
    {
     "name": "stderr",
     "output_type": "stream",
     "text": [
      "<ipython-input-80-ca9ad6637c3f>:1: SettingWithCopyWarning: \n",
      "A value is trying to be set on a copy of a slice from a DataFrame.\n",
      "Try using .loc[row_indexer,col_indexer] = value instead\n",
      "\n",
      "See the caveats in the documentation: https://pandas.pydata.org/pandas-docs/stable/user_guide/indexing.html#returning-a-view-versus-a-copy\n",
      "  office_revenue[\"studio\"]= office_revenue[\"studio\"].replace(\"IFC First Take\",\"IFC Films\")\n"
     ]
    }
   ],
   "source": [
    "office_revenue[\"studio\"]= office_revenue[\"studio\"].replace(\"IFC First Take\",\"IFC Films\")"
   ]
  },
  {
   "cell_type": "code",
   "execution_count": 81,
   "metadata": {},
   "outputs": [
    {
     "name": "stderr",
     "output_type": "stream",
     "text": [
      "<ipython-input-81-ba3e6f155433>:16: UserWarning: FixedFormatter should only be used together with FixedLocator\n",
      "  ax.set_xticklabels(labels=x,rotation=90);\n"
     ]
    },
    {
     "data": {
      "image/png": "[encoded data removed]",
      "text/plain": [
       "<Figure size 1152x576 with 1 Axes>"
      ]
     },
     "metadata": {
      "needs_background": "light"
     },
     "output_type": "display_data"
    }
   ],
   "source": [
    "# Create the plot\n",
    "fig, ax = plt.subplots(figsize=(16, 8))\n",
    "\n",
    "# Graph X vs height as a bar graph\n",
    "x = office_revenue[\"studio\"].head(15)\n",
    "y = office_revenue[\"box_office\"].head(15)\n",
    "ax.bar(x, y, width =0.1)\n",
    "\n",
    "# Set title\n",
    "ax.set_title(\"Studio by Box Office\")\n",
    "\n",
    "# Set labels for X and Y axes\n",
    "ax.set_xlabel(\"Studio\")\n",
    "ax.set_ylabel(\"Box Office\")\n",
    "\n",
    "ax.set_xticklabels(labels=x,rotation=90);"
   ]
  },
  {
   "cell_type": "code",
   "execution_count": 82,
   "metadata": {
    "scrolled": true
   },
   "outputs": [
    {
     "data": {
      "text/html": [
       "<div>\n",
       "<style scoped>\n",
       "    .dataframe tbody tr th:only-of-type {\n",
       "        vertical-align: middle;\n",
       "    }\n",
       "\n",
       "    .dataframe tbody tr th {\n",
       "        vertical-align: top;\n",
       "    }\n",
       "\n",
       "    .dataframe thead th {\n",
       "        text-align: right;\n",
       "    }\n",
       "</style>\n",
       "<table border=\"1\" class=\"dataframe\">\n",
       "  <thead>\n",
       "    <tr style=\"text-align: right;\">\n",
       "      <th></th>\n",
       "      <th>box_office</th>\n",
       "    </tr>\n",
       "    <tr>\n",
       "      <th>studio</th>\n",
       "      <th></th>\n",
       "    </tr>\n",
       "  </thead>\n",
       "  <tbody>\n",
       "    <tr>\n",
       "      <th>20th Century Fox</th>\n",
       "      <td>1109832659</td>\n",
       "    </tr>\n",
       "    <tr>\n",
       "      <th>A24 Films</th>\n",
       "      <td>30282870</td>\n",
       "    </tr>\n",
       "    <tr>\n",
       "      <th>ATO Pictures</th>\n",
       "      <td>1039869</td>\n",
       "    </tr>\n",
       "    <tr>\n",
       "      <th>Apparition Films</th>\n",
       "      <td>4341275</td>\n",
       "    </tr>\n",
       "    <tr>\n",
       "      <th>Aspiration Media</th>\n",
       "      <td>347321</td>\n",
       "    </tr>\n",
       "    <tr>\n",
       "      <th>Broad Green Pictures</th>\n",
       "      <td>15425870</td>\n",
       "    </tr>\n",
       "    <tr>\n",
       "      <th>Buena Vista</th>\n",
       "      <td>251461353</td>\n",
       "    </tr>\n",
       "    <tr>\n",
       "      <th>Buffalo Films</th>\n",
       "      <td>1320005</td>\n",
       "    </tr>\n",
       "    <tr>\n",
       "      <th>CBS Films</th>\n",
       "      <td>4700000</td>\n",
       "    </tr>\n",
       "    <tr>\n",
       "      <th>Cohen Media Group</th>\n",
       "      <td>175088</td>\n",
       "    </tr>\n",
       "    <tr>\n",
       "      <th>Columbia Pictures</th>\n",
       "      <td>573883615</td>\n",
       "    </tr>\n",
       "    <tr>\n",
       "      <th>Crane Movie Company</th>\n",
       "      <td>549351</td>\n",
       "    </tr>\n",
       "    <tr>\n",
       "      <th>Destination Films</th>\n",
       "      <td>12154394</td>\n",
       "    </tr>\n",
       "    <tr>\n",
       "      <th>Dimension Films</th>\n",
       "      <td>29885424</td>\n",
       "    </tr>\n",
       "    <tr>\n",
       "      <th>Disneynature</th>\n",
       "      <td>19000000</td>\n",
       "    </tr>\n",
       "    <tr>\n",
       "      <th>DreamWorks</th>\n",
       "      <td>201602973</td>\n",
       "    </tr>\n",
       "    <tr>\n",
       "      <th>Dreamworks/Paramount</th>\n",
       "      <td>31670931</td>\n",
       "    </tr>\n",
       "    <tr>\n",
       "      <th>Echolight Studios</th>\n",
       "      <td>2209479</td>\n",
       "    </tr>\n",
       "    <tr>\n",
       "      <th>Entertainment One</th>\n",
       "      <td>600000</td>\n",
       "    </tr>\n",
       "    <tr>\n",
       "      <th>Eros Entertainment</th>\n",
       "      <td>2647739</td>\n",
       "    </tr>\n",
       "    <tr>\n",
       "      <th>Film 44</th>\n",
       "      <td>26973524</td>\n",
       "    </tr>\n",
       "    <tr>\n",
       "      <th>Film District</th>\n",
       "      <td>14888718</td>\n",
       "    </tr>\n",
       "    <tr>\n",
       "      <th>Film Foundry Releasing</th>\n",
       "      <td>2536460</td>\n",
       "    </tr>\n",
       "    <tr>\n",
       "      <th>Fine Line Features</th>\n",
       "      <td>5813564</td>\n",
       "    </tr>\n",
       "    <tr>\n",
       "      <th>Fingerprint Releasing / Bleecker Street</th>\n",
       "      <td>27696504</td>\n",
       "    </tr>\n",
       "    <tr>\n",
       "      <th>First Independent Pictures</th>\n",
       "      <td>39712</td>\n",
       "    </tr>\n",
       "    <tr>\n",
       "      <th>First Look Pictures</th>\n",
       "      <td>1616556</td>\n",
       "    </tr>\n",
       "    <tr>\n",
       "      <th>First Run Features</th>\n",
       "      <td>8856</td>\n",
       "    </tr>\n",
       "    <tr>\n",
       "      <th>Focus Features</th>\n",
       "      <td>111096018</td>\n",
       "    </tr>\n",
       "    <tr>\n",
       "      <th>Fox Searchlight Pictures</th>\n",
       "      <td>161668745</td>\n",
       "    </tr>\n",
       "    <tr>\n",
       "      <th>IDP Distribution</th>\n",
       "      <td>59371</td>\n",
       "    </tr>\n",
       "    <tr>\n",
       "      <th>IFC Films</th>\n",
       "      <td>245188860</td>\n",
       "    </tr>\n",
       "    <tr>\n",
       "      <th>IMAX</th>\n",
       "      <td>257704099</td>\n",
       "    </tr>\n",
       "    <tr>\n",
       "      <th>Independent Pictures</th>\n",
       "      <td>1800000</td>\n",
       "    </tr>\n",
       "    <tr>\n",
       "      <th>Indican Pictures</th>\n",
       "      <td>25658</td>\n",
       "    </tr>\n",
       "    <tr>\n",
       "      <th>Lakeshore Entertainment</th>\n",
       "      <td>541457</td>\n",
       "    </tr>\n",
       "    <tr>\n",
       "      <th>LionsGate</th>\n",
       "      <td>259826805</td>\n",
       "    </tr>\n",
       "    <tr>\n",
       "      <th>Lionsgate Films/After Dark Films</th>\n",
       "      <td>231512</td>\n",
       "    </tr>\n",
       "    <tr>\n",
       "      <th>Lionsgate/Roadside Attractions</th>\n",
       "      <td>18338317</td>\n",
       "    </tr>\n",
       "    <tr>\n",
       "      <th>Lorber Films</th>\n",
       "      <td>363</td>\n",
       "    </tr>\n",
       "    <tr>\n",
       "      <th>MGM</th>\n",
       "      <td>413329948</td>\n",
       "    </tr>\n",
       "    <tr>\n",
       "      <th>MGM/UA</th>\n",
       "      <td>1341151</td>\n",
       "    </tr>\n",
       "    <tr>\n",
       "      <th>Magnolia Pictures</th>\n",
       "      <td>6593389</td>\n",
       "    </tr>\n",
       "    <tr>\n",
       "      <th>Miramax Films</th>\n",
       "      <td>92826520</td>\n",
       "    </tr>\n",
       "    <tr>\n",
       "      <th>Monterey Media</th>\n",
       "      <td>22099</td>\n",
       "    </tr>\n",
       "    <tr>\n",
       "      <th>New Line Cinema</th>\n",
       "      <td>196115915</td>\n",
       "    </tr>\n",
       "    <tr>\n",
       "      <th>Newmarket Films</th>\n",
       "      <td>402787787</td>\n",
       "    </tr>\n",
       "    <tr>\n",
       "      <th>Open Road Films</th>\n",
       "      <td>20702701</td>\n",
       "    </tr>\n",
       "    <tr>\n",
       "      <th>Overture Films</th>\n",
       "      <td>1149350</td>\n",
       "    </tr>\n",
       "    <tr>\n",
       "      <th>Paramount Pictures</th>\n",
       "      <td>1298615252</td>\n",
       "    </tr>\n",
       "  </tbody>\n",
       "</table>\n",
       "</div>"
      ],
      "text/plain": [
       "                                         box_office\n",
       "studio                                             \n",
       "20th Century Fox                         1109832659\n",
       "A24 Films                                  30282870\n",
       "ATO Pictures                                1039869\n",
       "Apparition Films                            4341275\n",
       "Aspiration Media                             347321\n",
       "Broad Green Pictures                       15425870\n",
       "Buena Vista                               251461353\n",
       "Buffalo Films                               1320005\n",
       "CBS Films                                   4700000\n",
       "Cohen Media Group                            175088\n",
       "Columbia Pictures                         573883615\n",
       "Crane Movie Company                          549351\n",
       "Destination Films                          12154394\n",
       "Dimension Films                            29885424\n",
       "Disneynature                               19000000\n",
       "DreamWorks                                201602973\n",
       "Dreamworks/Paramount                       31670931\n",
       "Echolight Studios                           2209479\n",
       "Entertainment One                            600000\n",
       "Eros Entertainment                          2647739\n",
       "Film 44                                    26973524\n",
       "Film District                              14888718\n",
       "Film Foundry Releasing                      2536460\n",
       "Fine Line Features                          5813564\n",
       "Fingerprint Releasing / Bleecker Street    27696504\n",
       "First Independent Pictures                    39712\n",
       "First Look Pictures                         1616556\n",
       "First Run Features                             8856\n",
       "Focus Features                            111096018\n",
       "Fox Searchlight Pictures                  161668745\n",
       "IDP Distribution                              59371\n",
       "IFC Films                                 245188860\n",
       "IMAX                                      257704099\n",
       "Independent Pictures                        1800000\n",
       "Indican Pictures                              25658\n",
       "Lakeshore Entertainment                      541457\n",
       "LionsGate                                 259826805\n",
       "Lionsgate Films/After Dark Films             231512\n",
       "Lionsgate/Roadside Attractions             18338317\n",
       "Lorber Films                                    363\n",
       "MGM                                       413329948\n",
       "MGM/UA                                      1341151\n",
       "Magnolia Pictures                           6593389\n",
       "Miramax Films                              92826520\n",
       "Monterey Media                                22099\n",
       "New Line Cinema                           196115915\n",
       "Newmarket Films                           402787787\n",
       "Open Road Films                            20702701\n",
       "Overture Films                              1149350\n",
       "Paramount Pictures                       1298615252"
      ]
     },
     "execution_count": 82,
     "metadata": {},
     "output_type": "execute_result"
    }
   ],
   "source": [
    "boxoffice_total = (office_revenue.groupby(\"studio\")).sum()\n",
    "\n",
    "boxoffice_total = boxoffice_total.drop(\"id\", axis=1)\n",
    "boxoffice_total.head(50)\n"
   ]
  },
  {
   "cell_type": "code",
   "execution_count": 83,
   "metadata": {},
   "outputs": [],
   "source": [
    "boxoffice_total.reset_index(inplace= True)"
   ]
  },
  {
   "cell_type": "code",
   "execution_count": 84,
   "metadata": {
    "scrolled": true
   },
   "outputs": [
    {
     "name": "stderr",
     "output_type": "stream",
     "text": [
      "<ipython-input-84-b0546b9fe98d>:16: UserWarning: FixedFormatter should only be used together with FixedLocator\n",
      "  ax.set_xticklabels(labels=x,rotation=90);\n"
     ]
    },
    {
     "data": {
      "image/png": "[encoded data removed]",
      "text/plain": [
       "<Figure size 1152x576 with 1 Axes>"
      ]
     },
     "metadata": {
      "needs_background": "light"
     },
     "output_type": "display_data"
    }
   ],
   "source": [
    "# Create the plot\n",
    "fig, ax = plt.subplots(figsize=(16, 8))\n",
    "\n",
    "# Graph X vs height as a bar graph\n",
    "x = boxoffice_total[\"studio\"]\n",
    "y = boxoffice_total[\"box_office\"]\n",
    "ax.bar(x, y)\n",
    "\n",
    "# Set title\n",
    "ax.set_title(\"Studio by Box Office\")\n",
    "\n",
    "# Set labels for X and Y axes\n",
    "ax.set_xlabel(\"Studio\")\n",
    "ax.set_ylabel(\"Box Office\")\n",
    "\n",
    "ax.set_xticklabels(labels=x,rotation=90);"
   ]
  },
  {
   "cell_type": "code",
   "execution_count": 88,
   "metadata": {},
   "outputs": [
    {
     "data": {
      "text/html": [
       "<div>\n",
       "<style scoped>\n",
       "    .dataframe tbody tr th:only-of-type {\n",
       "        vertical-align: middle;\n",
       "    }\n",
       "\n",
       "    .dataframe tbody tr th {\n",
       "        vertical-align: top;\n",
       "    }\n",
       "\n",
       "    .dataframe thead th {\n",
       "        text-align: right;\n",
       "    }\n",
       "</style>\n",
       "<table border=\"1\" class=\"dataframe\">\n",
       "  <thead>\n",
       "    <tr style=\"text-align: right;\">\n",
       "      <th></th>\n",
       "      <th>studio</th>\n",
       "      <th>box_office</th>\n",
       "    </tr>\n",
       "  </thead>\n",
       "  <tbody>\n",
       "    <tr>\n",
       "      <th>73</th>\n",
       "      <td>Universal Studios</td>\n",
       "      <td>2425011607</td>\n",
       "    </tr>\n",
       "    <tr>\n",
       "      <th>49</th>\n",
       "      <td>Paramount Pictures</td>\n",
       "      <td>1298615252</td>\n",
       "    </tr>\n",
       "    <tr>\n",
       "      <th>59</th>\n",
       "      <td>Sony Pictures</td>\n",
       "      <td>1236507465</td>\n",
       "    </tr>\n",
       "    <tr>\n",
       "      <th>77</th>\n",
       "      <td>Warner Bros.</td>\n",
       "      <td>1226198282</td>\n",
       "    </tr>\n",
       "    <tr>\n",
       "      <th>0</th>\n",
       "      <td>20th Century Fox</td>\n",
       "      <td>1109832659</td>\n",
       "    </tr>\n",
       "    <tr>\n",
       "      <th>...</th>\n",
       "      <td>...</td>\n",
       "      <td>...</td>\n",
       "    </tr>\n",
       "    <tr>\n",
       "      <th>34</th>\n",
       "      <td>Indican Pictures</td>\n",
       "      <td>25658</td>\n",
       "    </tr>\n",
       "    <tr>\n",
       "      <th>44</th>\n",
       "      <td>Monterey Media</td>\n",
       "      <td>22099</td>\n",
       "    </tr>\n",
       "    <tr>\n",
       "      <th>50</th>\n",
       "      <td>Phase 4 Films</td>\n",
       "      <td>16632</td>\n",
       "    </tr>\n",
       "    <tr>\n",
       "      <th>27</th>\n",
       "      <td>First Run Features</td>\n",
       "      <td>8856</td>\n",
       "    </tr>\n",
       "    <tr>\n",
       "      <th>39</th>\n",
       "      <td>Lorber Films</td>\n",
       "      <td>363</td>\n",
       "    </tr>\n",
       "  </tbody>\n",
       "</table>\n",
       "<p>81 rows × 2 columns</p>\n",
       "</div>"
      ],
      "text/plain": [
       "                studio  box_office\n",
       "73   Universal Studios  2425011607\n",
       "49  Paramount Pictures  1298615252\n",
       "59       Sony Pictures  1236507465\n",
       "77        Warner Bros.  1226198282\n",
       "0     20th Century Fox  1109832659\n",
       "..                 ...         ...\n",
       "34    Indican Pictures       25658\n",
       "44      Monterey Media       22099\n",
       "50       Phase 4 Films       16632\n",
       "27  First Run Features        8856\n",
       "39        Lorber Films         363\n",
       "\n",
       "[81 rows x 2 columns]"
      ]
     },
     "execution_count": 88,
     "metadata": {},
     "output_type": "execute_result"
    }
   ],
   "source": [
    "box_sorted = boxoffice_total.sort_values(by='box_office', ascending=False)\n",
    "box_sorted"
   ]
  },
  {
   "cell_type": "code",
   "execution_count": 89,
   "metadata": {},
   "outputs": [
    {
     "name": "stderr",
     "output_type": "stream",
     "text": [
      "<ipython-input-89-fd8d93b9595b>:16: UserWarning: FixedFormatter should only be used together with FixedLocator\n",
      "  ax.set_xticklabels(labels=x,rotation=90);\n"
     ]
    },
    {
     "data": {
      "image/png": "[encoded data removed]",
      "text/plain": [
       "<Figure size 1152x576 with 1 Axes>"
      ]
     },
     "metadata": {
      "needs_background": "light"
     },
     "output_type": "display_data"
    }
   ],
   "source": [
    "# Create the plot\n",
    "fig, ax = plt.subplots(figsize=(16, 8))\n",
    "\n",
    "# Graph X vs height as a bar graph\n",
    "x = box_sorted[\"studio\"]\n",
    "y = box_sorted[\"box_office\"]\n",
    "ax.bar(x, y)\n",
    "\n",
    "# Set title\n",
    "ax.set_title(\"Studio by Box Office\")\n",
    "\n",
    "# Set labels for X and Y axes\n",
    "ax.set_xlabel(\"Studio\")\n",
    "ax.set_ylabel(\"Box Office\")\n",
    "\n",
    "ax.set_xticklabels(labels=x,rotation=90);"
   ]
  },
  {
   "cell_type": "markdown",
   "metadata": {},
   "source": [
    "Genre by Box Office"
   ]
  },
  {
   "cell_type": "code",
   "execution_count": 23,
   "metadata": {},
   "outputs": [],
   "source": [
    "#genre_var = df_rt[office_revenue[\"genre\"]]\n",
    "\n",
    "#genre_var\n",
    "\n",
    "#genre_total = (office_revenue.groupby(\"genre\")).sum()"
   ]
  }
 ],
 "metadata": {
  "kernelspec": {
   "display_name": "Python (learn-env)",
   "language": "python",
   "name": "learn-env"
  },
  "language_info": {
   "codemirror_mode": {
    "name": "ipython",
    "version": 3
   },
   "file_extension": ".py",
   "mimetype": "text/x-python",
   "name": "python",
   "nbconvert_exporter": "python",
   "pygments_lexer": "ipython3",
   "version": "3.8.5"
  }
 },
 "nbformat": 4,
 "nbformat_minor": 4
}
